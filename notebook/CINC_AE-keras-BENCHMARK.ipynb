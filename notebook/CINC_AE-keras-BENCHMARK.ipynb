{
 "cells": [
  {
   "cell_type": "code",
   "execution_count": 1,
   "metadata": {},
   "outputs": [],
   "source": [
    "import numpy as np\n",
    "import json\n",
    "from pathlib import Path\n",
    "from os import listdir,getcwd,chdir,mkdir\n",
    "chdir(str(Path('..//')))"
   ]
  },
  {
   "cell_type": "code",
   "execution_count": 2,
   "metadata": {},
   "outputs": [
    {
     "name": "stdout",
     "output_type": "stream",
     "text": [
      "/home/welad1992/thesis\n"
     ]
    }
   ],
   "source": [
    "from os.path import isfile,join,exists\n",
    "import sys\n",
    "sys.path.append(join(getcwd(),str(Path('src'))))\n",
    "sys.path.append(join(getcwd(),str(Path('src/compression_funcs'))))\n",
    "sys.path.append(join(getcwd(),str(Path('src/DataLoader'))))\n",
    "sys.path.append(join(getcwd(),str(Path('src/Optimizer'))))\n",
    "import glob\n",
    "# import radam\n",
    "import matplotlib.pyplot as plt\n",
    "from sklearn.model_selection import train_test_split\n",
    "import pandas as pd\n",
    "# import Data_utils\n",
    "# import chebyshev_compression as cheb\n",
    "# import Adaptive_chebyshev_tests as cheb_tests\n",
    "# import Adaptive_chebyshev as adp_cheb\n",
    "# import Company_Loader as company_data_loader\n",
    "# import MIT_BIH_Loader as ecg_data_loader\n",
    "# import wfdb\n",
    "# import REDD_Loader as power_data_loader\n",
    "import scipy\n",
    "%matplotlib inline\n",
    "print(getcwd())\n",
    "from MISC.stats_utils import calc_statistics\n",
    "# sys.path.append(join(getcwd(),str(Path('src/Enviroments/ExternalEnv/BioSPPy'))))\n",
    "# from LossyLessCompression import LossyLessCompression\n",
    "# from Enviroments.ExternalEnv.BioSPPy import main\n",
    "# from Enviroments.ExternalEnv.BioSPPy.biosppy.signals import ecg\n",
    "from MISC.stats_utils import calc_loss_percentage_single,normelize_data,calc_PRD,calc_PRD_matrices,calc_entropy\n",
    "from MISC.extra_utils import reshapeECG_data\n",
    "# import torch\n",
    "# import torch.nn as nn\n",
    "# import torch.nn.functional as F\n",
    "from torch.utils import data\n",
    "# from torch.utils.tensorboard import SummaryWriter\n",
    "import MIT_BIH_Loader as mit_bih_loader\n",
    "# import random\n",
    "# from MIT_BIH_Loader import Dataset_MITBIH\n",
    "# from Company_Loader import Dataset\n",
    "# from wfdb import processing\n",
    "# from Company_ENV_Loader import Dataset_ENV\n",
    "# from scipy.interpolate import interp1d\n",
    "# import copy\n",
    "# from torchsummary import summary\n",
    "# wfdb.dl_database('mitdb', os.path.join(os.getcwd(), 'Data/mitdb'))\n",
    "# cudnn.benchmark = True\n",
    "pd.set_option('display.max_colwidth',10000)\n",
    "# device = torch.device('cuda' if torch.cuda.is_available() else 'cpu')\n",
    "# device"
   ]
  },
  {
   "cell_type": "code",
   "execution_count": 3,
   "metadata": {},
   "outputs": [],
   "source": [
    "from tensorflow.keras.layers import Dense, Input\n",
    "from tensorflow.keras.layers import Conv1D, Flatten, Lambda,MaxPool1D,BatchNormalization,UpSampling1D,AveragePooling1D\n",
    "from tensorflow.keras.layers import Reshape,Concatenate,ZeroPadding1D\n",
    "from tensorflow.keras.models import Model\n",
    "from tensorflow.keras.datasets import mnist\n",
    "from tensorflow.keras.losses import mse, binary_crossentropy\n",
    "from tensorflow.keras.optimizers import Adam\n",
    "from tensorflow.keras.utils import plot_model\n",
    "from tensorflow.keras import backend as K\n",
    "import math\n",
    "import numpy as np\n",
    "import matplotlib.pyplot as plt\n",
    "import argparse\n",
    "import os"
   ]
  },
  {
   "cell_type": "code",
   "execution_count": 4,
   "metadata": {},
   "outputs": [],
   "source": [
    "import tensorflow as tf"
   ]
  },
  {
   "cell_type": "code",
   "execution_count": 5,
   "metadata": {},
   "outputs": [],
   "source": [
    "gpus = tf.config.experimental.list_physical_devices('GPU')\n",
    "if gpus:\n",
    "    try:\n",
    "        # Currently, memory growth needs to be the same across GPUs\n",
    "        for gpu in gpus:\n",
    "            tf.config.experimental.set_memory_growth(gpu, True)\n",
    "        logical_gpus = tf.config.experimental.list_logical_devices('GPU')\n",
    "        print(len(gpus), \"Physical GPUs,\", len(logical_gpus), \"Logical GPUs\")\n",
    "    except RuntimeError as e:\n",
    "        # Memory growth must be set before GPUs have been initialized\n",
    "        print(e)"
   ]
  },
  {
   "cell_type": "code",
   "execution_count": 6,
   "metadata": {},
   "outputs": [],
   "source": [
    "company_path_csv = join(getcwd(),str(Path(r'Data/TheCompany/csv/temp_company.csv')))\n",
    "company_path_bin_decompressed = join(getcwd(),str(Path(r'Data/TheCompany/decompressed')))\n",
    "company_path_bin = join(getcwd(),str(Path(r'Data/TheCompany')))\n",
    "\n",
    "mit_bih_bin = join(getcwd(),str(Path(r'Data/mitdb')))\n",
    "gas_path_bin = join(getcwd(),str(Path(r'Data/GAS')))\n",
    "REDD_path_csv = join(getcwd(),str(Path(r'Data/REDD')))\n",
    "TENSORBOARD_DIR = join(getcwd(),str(Path(r'Data/tensorsumery')))\n",
    "data_path = company_path_bin\n",
    "FACTOR = 4\n",
    "WINDOW_SIZE = 2000"
   ]
  },
  {
   "cell_type": "markdown",
   "metadata": {},
   "source": [
    "## Load cinc data"
   ]
  },
  {
   "cell_type": "code",
   "execution_count": 7,
   "metadata": {},
   "outputs": [],
   "source": [
    "from Enviroments.ExternalEnv.EcgClassification.ecg import network,network_compression,network_compression_IoT\n",
    "import Enviroments.ExternalEnv.EcgClassification.ecg.load as load\n",
    "import Enviroments.ExternalEnv.EcgClassification.ecg.util as util\n"
   ]
  },
  {
   "cell_type": "code",
   "execution_count": 8,
   "metadata": {},
   "outputs": [
    {
     "name": "stderr",
     "output_type": "stream",
     "text": [
      "100%|██████████| 7676/7676 [00:01<00:00, 5490.73it/s]\n",
      "100%|██████████| 852/852 [00:00<00:00, 5377.93it/s]\n"
     ]
    }
   ],
   "source": [
    "train = load.load_dataset(\"src/Enviroments/ExternalEnv/ecg-classification-AndrewNG/examples/cinc17/train.json\")\n",
    "preproc = load.Preproc(*train,app=True,CINC=True)\n",
    "\n",
    "dev = load.load_dataset('src/Enviroments/ExternalEnv/ecg-classification-AndrewNG/examples/cinc17/dev.json')\n",
    "train_gen = load.data_generator(32, preproc, *train)\n",
    "dev_gen = load.data_generator(32,preproc, *dev)\n",
    "#     plt.plot(x)\n",
    "#     raise"
   ]
  },
  {
   "cell_type": "code",
   "execution_count": 9,
   "metadata": {},
   "outputs": [
    {
     "data": {
      "text/plain": [
       "((5403, 8960, 1), (5403, 8960, 1), (5403, 35, 4))"
      ]
     },
     "execution_count": 9,
     "metadata": {},
     "output_type": "execute_result"
    }
   ],
   "source": [
    "x_train,y_train = preproc.process(train[0],train[1])\n",
    "x_train.shape,y_train[0].shape,y_train[1].shape"
   ]
  },
  {
   "cell_type": "code",
   "execution_count": 10,
   "metadata": {},
   "outputs": [
    {
     "data": {
      "text/plain": [
       "((602, 8960, 1), (602, 8960, 1), (602, 35, 4))"
      ]
     },
     "execution_count": 10,
     "metadata": {},
     "output_type": "execute_result"
    }
   ],
   "source": [
    "x_dev,y_dev = preproc.process(dev[0],dev[1])\n",
    "x_dev.shape,y_dev[0].shape,y_dev[1].shape"
   ]
  },
  {
   "cell_type": "code",
   "execution_count": 11,
   "metadata": {},
   "outputs": [],
   "source": [
    "params_config = json.load(open(r'src/Enviroments/ExternalEnv/EcgClassification/examples/cinc17/config.json', 'r'))\n",
    "params_config.update({\n",
    "        \"input_shape\": [None, 1],\n",
    "        \"num_categories\": len(preproc.classes),\n",
    "        \"loss_weights\": [0.4,0.4,0.1,0.1]\n",
    "    })"
   ]
  },
  {
   "cell_type": "markdown",
   "metadata": {},
   "source": [
    "## Combine compression Network and Applicatino network"
   ]
  },
  {
   "cell_type": "code",
   "execution_count": 12,
   "metadata": {},
   "outputs": [],
   "source": [
    "# # sliding_ae = network_compression.init_compress_app_network(build_comression_network_32CG_dropout,'Models/CAE_keras_200520.h5',params_config,compile=True)\n",
    "# # thesis/Models/GoodModels/CAE_keras_32CG_200520.h5\n",
    "# sliding_ae = network_compression.init_compress_app_network(network_compression.build_compression_network_16CG,\"Models/GoodModels/CAE_MITBIH_16CG_4.834-5.328-0.000.hdf5\",params_config,compile=True)\n",
    "# sliding_ae.summary()\n",
    "# sliding_ae = network_compression.init_compress_app_network(network_compression.u_net_16_32_iot,'Models/Progressive/U_NET_32-16_iot-[3.71][6.11].hdf5',params_config, compile=True, u_net=True)"
   ]
  },
  {
   "cell_type": "code",
   "execution_count": 13,
   "metadata": {},
   "outputs": [],
   "source": [
    "# CAE_32 = load_model('Models/GoodModels/CG_32_CAE_CINC17_0.740-0.785.hdf5')\n",
    "# CAE_64 = load_model('Models/GoodModels/CG_64+AppNet_1.048-0.545-006-0.762-0.694.hdf5')"
   ]
  },
  {
   "cell_type": "markdown",
   "metadata": {},
   "source": [
    "## Analyze SkipNetwork"
   ]
  },
  {
   "cell_type": "markdown",
   "metadata": {},
   "source": [
    "## IoT"
   ]
  },
  {
   "cell_type": "code",
   "execution_count": 14,
   "metadata": {},
   "outputs": [
    {
     "name": "stdout",
     "output_type": "stream",
     "text": [
      "loading weights of:src/Enviroments/ExternalEnv/ecg-classification-AndrewNG/saved/cinc17/Best_Weight/0.387-0.866-014-0.276-0.901.hdf5\n"
     ]
    }
   ],
   "source": [
    "model_ecg_classification = network.build_network(**params_config)"
   ]
  },
  {
   "cell_type": "code",
   "execution_count": 15,
   "metadata": {},
   "outputs": [],
   "source": [
    "params_config['compile']=True"
   ]
  },
  {
   "cell_type": "code",
   "execution_count": 16,
   "metadata": {},
   "outputs": [
    {
     "data": {
      "text/plain": [
       "(602, 35, 4)"
      ]
     },
     "execution_count": 16,
     "metadata": {},
     "output_type": "execute_result"
    }
   ],
   "source": [
    "y_dev[1].shape"
   ]
  },
  {
   "cell_type": "code",
   "execution_count": 17,
   "metadata": {},
   "outputs": [],
   "source": [
    "# model_ecg_classification.evaluate(x_dev,y_dev[1],verbose=False)"
   ]
  },
  {
   "cell_type": "code",
   "execution_count": 18,
   "metadata": {},
   "outputs": [],
   "source": [
    "\n",
    "# model_ecg_classification = network.build_network(**params_config)\n",
    "# network.add_compile(model_ecg_classification, **params_config)\n",
    "\n",
    "# params_config.update({\n",
    "#         \"input_shape\": [None, 1],\n",
    "#         \"num_categories\": len(preproc.classes),\n",
    "#         \"loss_weights\": [0.4,0.4,0.1,0.1]\n",
    "#     })\n",
    "\n",
    "# compression_methods = [\n",
    "# #     FULLY TRAINED MODELS (compression+application)\n",
    "#     { \"compression_func\":network_compression.u_net_16_32_iot,\n",
    "#        \"weights_path\":'Models/GoodModels/CAE_unet_CINC17_w0.8_loss-0.590-ACC-0.848.hdf5',\n",
    "#         \"copmression_weight\":\"\"}\n",
    "        \n",
    "# #     FULLY TRAINED MODELS (compression+application)\n",
    "# #     { \"compression_func\":network_compression.build_compression_network_16CG,\n",
    "# #        \"weights_path\":'Models/GoodModels/CAE_CINC17CG16_loss-0.099-ACC-0.850.hdf5',\n",
    "# #         \"copmression_weight\":\"\"},\n",
    "        \n",
    "# #     {\n",
    "# #         \"compression_func\":network_compression.build_comression_network_32CG,\n",
    "# #        \"weights_path\":'Models/GoodModels/CAE_CINC17CG32_loss-0.355-ACC-0.772.hdf5',\n",
    "# #         \"copmression_weight\":\"\"\n",
    "# #     },\n",
    "# #     {\n",
    "# #         \"compression_func\":network_compression.build_compression_network_64CG,\n",
    "# #        \"weights_path\":'Models/GoodModels/CAE_CINC17CG64_loss-0.904-ACC-0.586.hdf5',\n",
    "# #         \"copmression_weight\":\"\"\n",
    "# #     }\n",
    "    \n",
    "# #     #Each network trained SEPARATELY (compression+application)\n",
    "# #     { \"compression_func\":network_compression.build_compression_network_16CG,\n",
    "# #        \"weights_path\":'',\n",
    "# #         \"copmression_weight\":\"Models/GoodModels/CAE_MITBIH_16CG_4.834-5.328-0.000.hdf5\"\n",
    "# #     },    \n",
    "# #     {\n",
    "# #         \"compression_func\":network_compression.build_comression_network_32CG,\n",
    "# #        \"weights_path\":'',\n",
    "# #         \"copmression_weight\":\"Models/GoodModels/CAE_MITBIH_32CG_6.578-5.686-0.001.hdf5\"\n",
    "# #     },\n",
    "# #     {\n",
    "# #         \"compression_func\":network_compression.build_compression_network_64CG,\n",
    "# #        \"weights_path\":'',\n",
    "# #         \"copmression_weight\":\"Models/GoodModels/CAE_MITBIG_64CG_8.062-7.629-0.001.hdf5\"\n",
    "# #     }\n",
    "# ]#,'Models/GoodModels/CG_64+AppNet_1.048-0.545-006-0.762-0.694.hdf5','Models/GoodModels/CAE_CINC17_loss:-0.099-ACC:-0.850.hdf5']#,CAE_32,CAE_64]\n",
    "\n",
    "# stats = []\n",
    "# # for idx,(signal,annotation) in enumerate(list(zip(x_dev,y_dev[1]))): #zip signal + annotation\n",
    "# #     STD = np.std(signal)\n",
    "# #     entropy = calc_entropy(signal)\n",
    "# #     amp_size = np.abs(np.max(signal) - np.min(signal))\n",
    "# #     accuracy = model_ecg_classification.evaluate(signal.reshape(1,8960,1),annotation.reshape(1,35,4),verbose=False)[1]\n",
    "# #     #         PRD = calc_PRD(signal,decompressed)\n",
    "# #     stats.append([idx,signal,accuracy,0,'no_copmression',STD,entropy,amp_size])\n",
    "\n",
    "    \n",
    "# # statistics on Unet_iot-32-64\n",
    "# m = network_compression_IoT.init_compress_app_network(network_compression_IoT.u_net_32_64,'',params_config, compile=True, u_net=True)\n",
    "# if compressor_path['weights_path']!=\"\":\n",
    "#     m.load_weights('Models/Progressive/UNET32-64-IoT_CINC17_w:0.8.hdf5')\n",
    "\n",
    "# for idx,(signal,annotation) in enumerate(list(zip(x_dev,y_dev[1]))): #zip signal + annotation\n",
    "#     STD = np.std(signal)\n",
    "#     entropy = calc_entropy(signal)\n",
    "#     amp_size = np.abs(np.max(signal) - np.min(signal))\n",
    "#     _,mse_loss32,mse_loss64,_,_,accuracy32,accuracy64 = m.evaluate(signal.reshape(1,8960,1),[signal.reshape(1,8960,1),signal.reshape(1,8960,1),annotation.reshape(1,35,4),annotation.reshape(1,35,4)],verbose=False)\n",
    "#     stats.append([idx,signal,accuracy32,mse_loss32,'unet_32CG',STD,entropy,amp_size])\n",
    "#     stats.append([idx,signal,accuracy64,mse_loss64,'unet_64CG',STD,entropy,amp_size])\n",
    "    \n",
    "    \n",
    "# for compressor_path in compression_methods:\n",
    "#     m = network_compression.init_compress_app_network(compressor_path[\"compression_func\"],compressor_path[\"copmression_weight\"],params_config,compile=True,u_net=True)\n",
    "#     if compressor_path['weights_path']!=\"\":\n",
    "#         m.load_weights(compressor_path['weights_path'])\n",
    "    \n",
    "#     for idx,(signal,annotation) in enumerate(list(zip(x_dev,y_dev[1]))): #zip signal + annotation\n",
    "#         STD = np.std(signal)\n",
    "#         entropy = calc_entropy(signal)\n",
    "#         amp_size = np.abs(np.max(signal) - np.min(signal))\n",
    "#         _,mse_loss16,mse_loss32,_,_,accuracy16,accuracy32 = m.evaluate(signal.reshape(1,8960,1),[signal.reshape(1,8960,1),signal.reshape(1,8960,1),annotation.reshape(1,35,4),annotation.reshape(1,35,4)],verbose=False)\n",
    "#         stats.append([idx,signal,accuracy16,mse_loss16,'unet_16CG',STD,entropy,amp_size])\n",
    "#         stats.append([idx,signal,accuracy32,mse_loss32,'unet_32CG',STD,entropy,amp_size])\n",
    "#     print('done model')"
   ]
  },
  {
   "cell_type": "markdown",
   "metadata": {},
   "source": [
    "## Full Network"
   ]
  },
  {
   "cell_type": "code",
   "execution_count": 19,
   "metadata": {},
   "outputs": [],
   "source": [
    "import gc"
   ]
  },
  {
   "cell_type": "code",
   "execution_count": null,
   "metadata": {},
   "outputs": [],
   "source": []
  },
  {
   "cell_type": "code",
   "execution_count": 20,
   "metadata": {},
   "outputs": [
    {
     "name": "stdout",
     "output_type": "stream",
     "text": [
      "loading weights of:src/Enviroments/ExternalEnv/ecg-classification-AndrewNG/saved/cinc17/Best_Weight/0.387-0.866-014-0.276-0.901.hdf5\n",
      "loading weights of:src/Enviroments/ExternalEnv/ecg-classification-AndrewNG/saved/cinc17/Best_Weight/0.387-0.866-014-0.276-0.901.hdf5\n",
      "loading weights of:src/Enviroments/ExternalEnv/ecg-classification-AndrewNG/saved/cinc17/Best_Weight/0.387-0.866-014-0.276-0.901.hdf5\n",
      "loading weights of:src/Enviroments/ExternalEnv/ecg-classification-AndrewNG/saved/cinc17/Best_Weight/0.387-0.866-014-0.276-0.901.hdf5\n",
      "done model\n"
     ]
    }
   ],
   "source": [
    "model_ecg_classification = network.build_network(**params_config)\n",
    "network.add_compile(model_ecg_classification, **params_config)\n",
    "compression_methods = [\n",
    "#     FULLY TRAINED MODELS (compression+application)\n",
    "#     { \"compression_func\":network_compression.u_net_16_32_iot,\n",
    "#        \"weights_path\":'Models/GoodModels/CAE_unet_CINC17_w0.8_loss-0.590-ACC-0.848.hdf5',\n",
    "#         \"copmression_weight\":\"\"}\n",
    "        \n",
    "#     FULLY TRAINED MODELS (compression+application)\n",
    "    { \"compression_func\":network_compression.build_compression_network_16CG,\n",
    "       \"weights_path\":'Models/GoodModels/CAE_CINC17CG16_loss-0.099-ACC-0.850.hdf5',\n",
    "        \"copmression_weight\":\"\"},\n",
    "        \n",
    "    {\n",
    "        \"compression_func\":network_compression.build_comression_network_32CG,\n",
    "       \"weights_path\":'Models/GoodModels/CAE_CINC17CG32_loss-0.355-ACC-0.772.hdf5',\n",
    "        \"copmression_weight\":\"\"\n",
    "    },\n",
    "    {\n",
    "        \"compression_func\":network_compression.build_compression_network_64CG,\n",
    "       \"weights_path\":'Models/GoodModels/CAE_CINC17CG64_loss-0.904-ACC-0.586.hdf5',\n",
    "        \"copmression_weight\":\"\"\n",
    "    }\n",
    "    \n",
    "#     #Each network trained SEPARATELY (compression+application)\n",
    "#     { \"compression_func\":network_compression.build_compression_network_16CG,\n",
    "#        \"weights_path\":'',\n",
    "#         \"copmression_weight\":\"Models/GoodModels/CAE_MITBIH_16CG_4.834-5.328-0.000.hdf5\"\n",
    "#     },    \n",
    "#     {\n",
    "#         \"compression_func\":network_compression.build_comression_network_32CG,\n",
    "#        \"weights_path\":'',\n",
    "#         \"copmression_weight\":\"Models/GoodModels/CAE_MITBIH_32CG_6.578-5.686-0.001.hdf5\"\n",
    "#     },\n",
    "#     {\n",
    "#         \"compression_func\":network_compression.build_compression_network_64CG,\n",
    "#        \"weights_path\":'',\n",
    "#         \"copmression_weight\":\"Models/GoodModels/CAE_MITBIG_64CG_8.062-7.629-0.001.hdf5\"\n",
    "#     }\n",
    "]#,'Models/GoodModels/CG_64+AppNet_1.048-0.545-006-0.762-0.694.hdf5','Models/GoodModels/CAE_CINC17_loss:-0.099-ACC:-0.850.hdf5']#,CAE_32,CAE_64]\n",
    "params_config[\"loss_weights\"]= [0.5,0.5]\n",
    "stats = []\n",
    "for idx,(signal,annotation) in enumerate(list(zip(x_dev,y_dev[1]))): #zip signal + annotation\n",
    "    STD = np.std(signal)\n",
    "    entropy = calc_entropy(signal)\n",
    "    amp_size = np.abs(np.max(signal) - np.min(signal))\n",
    "    loss,accuracy = model_ecg_classification.evaluate(signal.reshape(1,8960,1),annotation.reshape(1,35,4),verbose=False)\n",
    "    #         PRD = calc_PRD(signal,decompressed)\n",
    "    stats.append([idx,signal,accuracy,0,loss,'no_copmression',STD,entropy,amp_size])\n",
    "    tf.keras.backend.clear_session()\n",
    "    gc.collect()\n",
    "\n",
    "for compressor_path in compression_methods:\n",
    "    m = network_compression.init_compress_app_network(compressor_path[\"compression_func\"],compressor_path[\"copmression_weight\"],params_config,compile=True,u_net=False)\n",
    "    if compressor_path['weights_path']!=\"\":\n",
    "        m.load_weights(compressor_path['weights_path'])\n",
    "#     raise\n",
    "    for idx,(signal,annotation) in enumerate(list(zip(x_dev,y_dev[1]))): #zip signal + annotation\n",
    "        STD = np.std(signal)\n",
    "        entropy = calc_entropy(signal)\n",
    "        amp_size = np.abs(np.max(signal) - np.min(signal))\n",
    "        _,mse_loss,app_loss,accuracy = m.evaluate(signal.reshape(1,8960,1),[signal.reshape(1,8960,1),annotation.reshape(1,35,4)],verbose=False)\n",
    "        stats.append([idx,signal,accuracy,mse_loss,app_loss,m.layers[0].name,STD,entropy,amp_size])\n",
    "        tf.keras.backend.clear_session()\n",
    "        gc.collect()\n",
    "print('done model')"
   ]
  },
  {
   "cell_type": "code",
   "execution_count": 21,
   "metadata": {},
   "outputs": [
    {
     "data": {
      "text/plain": [
       "'2.0.3'"
      ]
     },
     "execution_count": 21,
     "metadata": {},
     "output_type": "execute_result"
    }
   ],
   "source": [
    "tf.__version__"
   ]
  },
  {
   "cell_type": "code",
   "execution_count": 22,
   "metadata": {},
   "outputs": [
    {
     "name": "stdout",
     "output_type": "stream",
     "text": [
      "Model: \"encoder\"\n",
      "_________________________________________________________________\n",
      "Layer (type)                 Output Shape              Param #   \n",
      "=================================================================\n",
      "encoder_input (InputLayer)   [(None, 2000, 1)]         0         \n",
      "_________________________________________________________________\n",
      "conv1d (Conv1D)              (None, 2000, 8)           32        \n",
      "_________________________________________________________________\n",
      "max_pooling1d (MaxPooling1D) (None, 1000, 8)           0         \n",
      "_________________________________________________________________\n",
      "conv1d_1 (Conv1D)            (None, 1000, 32)          1312      \n",
      "_________________________________________________________________\n",
      "batch_normalization (BatchNo (None, 1000, 32)          128       \n",
      "_________________________________________________________________\n",
      "max_pooling1d_1 (MaxPooling1 (None, 500, 32)           0         \n",
      "_________________________________________________________________\n",
      "conv1d_2 (Conv1D)            (None, 500, 16)           1552      \n",
      "_________________________________________________________________\n",
      "batch_normalization_1 (Batch (None, 500, 16)           64        \n",
      "_________________________________________________________________\n",
      "max_pooling1d_2 (MaxPooling1 (None, 250, 16)           0         \n",
      "_________________________________________________________________\n",
      "conv1d_3 (Conv1D)            (None, 250, 64)           11328     \n",
      "_________________________________________________________________\n",
      "conv1d_4 (Conv1D)            (None, 250, 128)          106624    \n",
      "_________________________________________________________________\n",
      "max_pooling1d_3 (MaxPooling1 (None, 125, 128)          0         \n",
      "_________________________________________________________________\n",
      "conv1d_5 (Conv1D)            (None, 125, 64)           24640     \n",
      "_________________________________________________________________\n",
      "conv1d_6 (Conv1D)            (None, 125, 32)           6176      \n",
      "_________________________________________________________________\n",
      "max_pooling1d_4 (MaxPooling1 (None, 62, 32)            0         \n",
      "_________________________________________________________________\n",
      "conv1d_7 (Conv1D)            (None, 62, 16)            1552      \n",
      "_________________________________________________________________\n",
      "conv1d_8 (Conv1D)            (None, 62, 1)             113       \n",
      "_________________________________________________________________\n",
      "max_pooling1d_5 (MaxPooling1 (None, 31, 1)             0         \n",
      "=================================================================\n",
      "Total params: 153,521\n",
      "Trainable params: 153,425\n",
      "Non-trainable params: 96\n",
      "_________________________________________________________________\n"
     ]
    }
   ],
   "source": [
    "m.layers[0].layers[1].summary()"
   ]
  },
  {
   "cell_type": "code",
   "execution_count": 23,
   "metadata": {},
   "outputs": [
    {
     "data": {
      "text/html": [
       "<div>\n",
       "<style scoped>\n",
       "    .dataframe tbody tr th:only-of-type {\n",
       "        vertical-align: middle;\n",
       "    }\n",
       "\n",
       "    .dataframe tbody tr th {\n",
       "        vertical-align: top;\n",
       "    }\n",
       "\n",
       "    .dataframe thead th {\n",
       "        text-align: right;\n",
       "    }\n",
       "</style>\n",
       "<table border=\"1\" class=\"dataframe\">\n",
       "  <thead>\n",
       "    <tr style=\"text-align: right;\">\n",
       "      <th></th>\n",
       "      <th>signal_idx</th>\n",
       "      <th>accuracy</th>\n",
       "      <th>mse_loss</th>\n",
       "      <th>app_loss</th>\n",
       "      <th>STD</th>\n",
       "      <th>Entropy</th>\n",
       "      <th>amp_size</th>\n",
       "      <th>CG_int</th>\n",
       "    </tr>\n",
       "  </thead>\n",
       "  <tbody>\n",
       "    <tr>\n",
       "      <th>count</th>\n",
       "      <td>2408.000000</td>\n",
       "      <td>2408.000000</td>\n",
       "      <td>2408.000000</td>\n",
       "      <td>2408.000000</td>\n",
       "      <td>2408.000000</td>\n",
       "      <td>2408.000000</td>\n",
       "      <td>2408.000000</td>\n",
       "      <td>2408.000000</td>\n",
       "    </tr>\n",
       "    <tr>\n",
       "      <th>mean</th>\n",
       "      <td>300.500000</td>\n",
       "      <td>0.771654</td>\n",
       "      <td>0.283496</td>\n",
       "      <td>0.588629</td>\n",
       "      <td>0.898321</td>\n",
       "      <td>6.083946</td>\n",
       "      <td>10.409753</td>\n",
       "      <td>28.250000</td>\n",
       "    </tr>\n",
       "    <tr>\n",
       "      <th>std</th>\n",
       "      <td>173.818287</td>\n",
       "      <td>0.381251</td>\n",
       "      <td>0.741258</td>\n",
       "      <td>0.889069</td>\n",
       "      <td>0.505268</td>\n",
       "      <td>0.452604</td>\n",
       "      <td>8.059036</td>\n",
       "      <td>23.375509</td>\n",
       "    </tr>\n",
       "    <tr>\n",
       "      <th>min</th>\n",
       "      <td>0.000000</td>\n",
       "      <td>0.000000</td>\n",
       "      <td>0.000000</td>\n",
       "      <td>0.000189</td>\n",
       "      <td>0.188437</td>\n",
       "      <td>4.701845</td>\n",
       "      <td>1.496725</td>\n",
       "      <td>1.000000</td>\n",
       "    </tr>\n",
       "    <tr>\n",
       "      <th>25%</th>\n",
       "      <td>150.000000</td>\n",
       "      <td>0.685714</td>\n",
       "      <td>0.002496</td>\n",
       "      <td>0.037115</td>\n",
       "      <td>0.582598</td>\n",
       "      <td>5.766875</td>\n",
       "      <td>5.415119</td>\n",
       "      <td>12.250000</td>\n",
       "    </tr>\n",
       "    <tr>\n",
       "      <th>50%</th>\n",
       "      <td>300.500000</td>\n",
       "      <td>1.000000</td>\n",
       "      <td>0.049069</td>\n",
       "      <td>0.143881</td>\n",
       "      <td>0.746263</td>\n",
       "      <td>6.067566</td>\n",
       "      <td>7.634981</td>\n",
       "      <td>24.000000</td>\n",
       "    </tr>\n",
       "    <tr>\n",
       "      <th>75%</th>\n",
       "      <td>451.000000</td>\n",
       "      <td>1.000000</td>\n",
       "      <td>0.251468</td>\n",
       "      <td>0.741533</td>\n",
       "      <td>1.071057</td>\n",
       "      <td>6.370994</td>\n",
       "      <td>12.436274</td>\n",
       "      <td>40.000000</td>\n",
       "    </tr>\n",
       "    <tr>\n",
       "      <th>max</th>\n",
       "      <td>601.000000</td>\n",
       "      <td>1.000000</td>\n",
       "      <td>14.615060</td>\n",
       "      <td>5.512460</td>\n",
       "      <td>4.029768</td>\n",
       "      <td>7.677316</td>\n",
       "      <td>58.338646</td>\n",
       "      <td>64.000000</td>\n",
       "    </tr>\n",
       "  </tbody>\n",
       "</table>\n",
       "</div>"
      ],
      "text/plain": [
       "        signal_idx     accuracy     mse_loss     app_loss          STD  \\\n",
       "count  2408.000000  2408.000000  2408.000000  2408.000000  2408.000000   \n",
       "mean    300.500000     0.771654     0.283496     0.588629     0.898321   \n",
       "std     173.818287     0.381251     0.741258     0.889069     0.505268   \n",
       "min       0.000000     0.000000     0.000000     0.000189     0.188437   \n",
       "25%     150.000000     0.685714     0.002496     0.037115     0.582598   \n",
       "50%     300.500000     1.000000     0.049069     0.143881     0.746263   \n",
       "75%     451.000000     1.000000     0.251468     0.741533     1.071057   \n",
       "max     601.000000     1.000000    14.615060     5.512460     4.029768   \n",
       "\n",
       "           Entropy     amp_size       CG_int  \n",
       "count  2408.000000  2408.000000  2408.000000  \n",
       "mean      6.083946    10.409753    28.250000  \n",
       "std       0.452604     8.059036    23.375509  \n",
       "min       4.701845     1.496725     1.000000  \n",
       "25%       5.766875     5.415119    12.250000  \n",
       "50%       6.067566     7.634981    24.000000  \n",
       "75%       6.370994    12.436274    40.000000  \n",
       "max       7.677316    58.338646    64.000000  "
      ]
     },
     "execution_count": 23,
     "metadata": {},
     "output_type": "execute_result"
    }
   ],
   "source": [
    "text2num = {'no_copmression':1,'CAE_32CG':32,'CAE_16CG':16,'unet_32CG':32,'unet_64CG':64,'unet_16CG':16,'CAE_64CG':64,'CAE_32CG_lightweight':32,'CAE_16CG_lightweight':16,'CAE_64CG_lightweight':64,'vae_64CG':64}\n",
    "df = pd.DataFrame(stats)\n",
    "df.columns=['signal_idx','signal','accuracy','mse_loss','app_loss','CG', 'STD','Entropy','amp_size']\n",
    "df['CG_int'] = df['CG'].apply(lambda x:text2num[x])\n",
    "df.describe()"
   ]
  },
  {
   "cell_type": "code",
   "execution_count": 24,
   "metadata": {},
   "outputs": [
    {
     "data": {
      "image/png": "[encoded data removed]",
      "text/plain": [
       "<Figure size 720x576 with 1 Axes>"
      ]
     },
     "metadata": {
      "needs_background": "light"
     },
     "output_type": "display_data"
    }
   ],
   "source": [
    "bp = df.boxplot('accuracy',by='CG',return_type='both',showmeans=True,showfliers=False,fontsize=12,figsize=(10,8))"
   ]
  },
  {
   "cell_type": "code",
   "execution_count": 25,
   "metadata": {},
   "outputs": [
    {
     "data": {
      "image/png": "[encoded data removed]",
      "text/plain": [
       "<Figure size 720x576 with 1 Axes>"
      ]
     },
     "metadata": {
      "needs_background": "light"
     },
     "output_type": "display_data"
    }
   ],
   "source": [
    "bp = df.boxplot('accuracy',by='CG',return_type='both',showmeans=True,showfliers=False,fontsize=12,figsize=(10,8))"
   ]
  },
  {
   "cell_type": "code",
   "execution_count": 26,
   "metadata": {},
   "outputs": [
    {
     "data": {
      "image/png": "[encoded data removed]",
      "text/plain": [
       "<Figure size 720x576 with 1 Axes>"
      ]
     },
     "metadata": {
      "needs_background": "light"
     },
     "output_type": "display_data"
    }
   ],
   "source": [
    "bp = df.boxplot('mse_loss',by='CG',return_type='both',showmeans=True,showfliers=False,fontsize=12,figsize=(10,8))"
   ]
  },
  {
   "cell_type": "code",
   "execution_count": 27,
   "metadata": {},
   "outputs": [
    {
     "data": {
      "image/png": "[encoded data removed]",
      "text/plain": [
       "<Figure size 720x576 with 1 Axes>"
      ]
     },
     "metadata": {
      "needs_background": "light"
     },
     "output_type": "display_data"
    }
   ],
   "source": [
    "bp = df.boxplot('app_loss',by='CG',return_type='both',showmeans=True,showfliers=False,fontsize=12,figsize=(10,8))"
   ]
  },
  {
   "cell_type": "code",
   "execution_count": 28,
   "metadata": {},
   "outputs": [
    {
     "data": {
      "text/html": [
       "<div>\n",
       "<style scoped>\n",
       "    .dataframe tbody tr th:only-of-type {\n",
       "        vertical-align: middle;\n",
       "    }\n",
       "\n",
       "    .dataframe tbody tr th {\n",
       "        vertical-align: top;\n",
       "    }\n",
       "\n",
       "    .dataframe thead th {\n",
       "        text-align: right;\n",
       "    }\n",
       "</style>\n",
       "<table border=\"1\" class=\"dataframe\">\n",
       "  <thead>\n",
       "    <tr style=\"text-align: right;\">\n",
       "      <th></th>\n",
       "      <th>signal_idx</th>\n",
       "      <th>signal</th>\n",
       "      <th>accuracy</th>\n",
       "      <th>mse_loss</th>\n",
       "      <th>app_loss</th>\n",
       "      <th>CG</th>\n",
       "      <th>STD</th>\n",
       "      <th>Entropy</th>\n",
       "      <th>amp_size</th>\n",
       "      <th>CG_int</th>\n",
       "    </tr>\n",
       "  </thead>\n",
       "  <tbody>\n",
       "    <tr>\n",
       "      <th>0</th>\n",
       "      <td>0</td>\n",
       "      <td>[[-1.298051], [-1.5587167], [-1.8235866], [-2.0758436], [-2.2314022], [-2.2944665], [-2.3154879], [-2.2944665], [-2.2524235], [-2.2019722], [-2.138908], [-2.0716393], [-2.021188], [-1.9833494], [-1.9455109], [-1.903468], [-1.8572209], [-1.7983608], [-1.7310923], [-1.6638237], [-1.6301895], [-1.609168], [-1.5881467], [-1.5755337], [-1.5629209], [-1.5545124], [-1.5503081], [-1.5545124], [-1.5629209], [-1.5713295], [-1.5881467], [-1.609168], [-1.6343938], [-1.6596195], [-1.697458], [-1.7689309], [-1.8361994], [-1.8656294], [-1.8866508], [-1.8992637], [-1.9118766], [-1.9202851], [-1.9286937], [-1.9371023], [-1.9413066], [-1.9497151], [-1.9539194], [-1.9539194], [-1.9455109], [-1.9371023], [-1.9286937], [-1.9202851], [-1.9076723], [-1.8950595], [-1.8824465], [-1.8656294], [-1.8572209], [-1.8530166], [-1.8446081], [-1.8404037], [-1.8277909], [-1.815178], [-1.8025652], [-1.785748], [-1.7731352], [-1.7563181], [-1.7437052], [-1.7310923], [-1.7226838], [-1.7142752], [-1.7058666], [-1.7016623], [-1.6932538], [-1.6848452], [-1.6764367], [-1.6680281], [-1.6596195], [-1.6470066], [-1.6343938], [-1.621781], [-1.6049638], [-1.5965552], [-1.5839424], [-1.5755337], [-1.5629209], [-1.5503081], [-1.5292866], [-1.504061], [-1.4704267], [-1.4325881], [-1.3947495], [-1.3653196], [-1.3316853], [-1.3064595], [-1.2896425], [-1.2770296], [-1.2686211], [-1.2602124], [-1.2518039], [-1.239191], ...]</td>\n",
       "      <td>1.000000</td>\n",
       "      <td>0.0</td>\n",
       "      <td>0.014810</td>\n",
       "      <td>no_copmression</td>\n",
       "      <td>0.454987</td>\n",
       "      <td>5.353854</td>\n",
       "      <td>5.284785</td>\n",
       "      <td>1</td>\n",
       "    </tr>\n",
       "    <tr>\n",
       "      <th>1</th>\n",
       "      <td>1</td>\n",
       "      <td>[[-0.07460427], [-0.07460427], [-0.07880855], [-0.07880855], [-0.08301284], [-0.09982998], [-0.15028138], [-0.15448567], [-0.09982998], [-0.0661957], [-0.04096999], [-0.019948568], [-0.0031314297], [0.005277139], [0.0010728549], [-0.011539998], [-0.028357137], [-0.057787128], [-0.11664712], [-0.23436709], [-0.34367847], [-0.4193556], [-0.4740113], [-0.50764555], [-0.5328713], [-0.5496884], [-0.5496884], [-0.5244627], [-0.47821558], [-0.40674275], [-0.2806142], [-0.15028138], [-0.04096999], [-0.011539998], [0.0010728549], [0.013685708], [0.022094278], [0.03470713], [0.047319986], [0.055728555], [0.06413712], [0.068341404], [0.072545685], [0.07674997], [0.07674997], [0.07674997], [0.07674997], [0.072545685], [0.072545685], [0.06413712], [0.05993284], [0.055728555], [0.047319986], [0.0431157], [0.0431157], [0.038911417], [0.03470713], [0.030502846], [0.026298562], [0.013685708], [-0.019948568], [-0.015744284], [0.055728555], [0.11879282], [0.1776528], [0.21969564], [0.24912563], [0.27435133], [0.30378133], [0.32480276], [0.3374156], [0.3416199], [0.3374156], [0.33321133], [0.32900703], [0.32480276], [0.32059848], [0.31639418], [0.32480276], [0.3374156], [0.35423276], [0.3668456], [0.37945846], [0.3920713], [0.40888846], [0.417297], [0.4215013], [0.4215013], [0.41309273], [0.39627558], [0.37525418], [0.34582418], [0.3121899], [0.26173848], [0.16924423], [0.1229971], [0.08515854], [0.05152427], [0.05993284], [0.1272014], ...]</td>\n",
       "      <td>0.000000</td>\n",
       "      <td>0.0</td>\n",
       "      <td>2.116578</td>\n",
       "      <td>no_copmression</td>\n",
       "      <td>0.438322</td>\n",
       "      <td>5.921943</td>\n",
       "      <td>4.069747</td>\n",
       "      <td>1</td>\n",
       "    </tr>\n",
       "    <tr>\n",
       "      <th>2</th>\n",
       "      <td>2</td>\n",
       "      <td>[[0.05993284], [0.068341404], [0.08095425], [0.10197568], [0.17344852], [0.24492136], [0.29537275], [0.33321133], [0.35423276], [0.37525418], [0.38786703], [0.40047988], [0.40888846], [0.41309273], [0.417297], [0.4215013], [0.42570558], [0.43411416], [0.43831843], [0.44252273], [0.44252273], [0.446727], [0.446727], [0.45093128], [0.45093128], [0.45093128], [0.45093128], [0.45513558], [0.45513558], [0.45933986], [0.46354416], [0.46354416], [0.46774843], [0.476157], [0.48876986], [0.49297413], [0.48876986], [0.4719527], [0.43831843], [0.40047988], [0.35843703], [0.30378133], [0.2575342], [0.21549135], [0.19446994], [0.17344852], [0.16083567], [0.15242709], [0.14401853], [0.13140567], [0.11879282], [0.10197568], [0.08936282], [0.07674997], [0.05993284], [0.03470713], [-0.007335714], [-0.07880855], [-0.15448567], [-0.20493709], [-0.23857136], [-0.26800135], [-0.30163562], [-0.3394742], [-0.37731275], [-0.42355987], [-0.469807], [-0.51605415], [-0.56650555], [-0.62956977], [-0.70104265], [-0.7683112], [-0.7977412], [-0.8145583], [-0.82717115], [-0.839784], [-0.8566012], [-0.869214], [-0.88603115], [-0.898644], [-0.91125685], [-0.928074], [-0.93648255], [-0.9490954], [-0.957504], [-0.97011685], [-0.9911383], [-1.0205683], [-1.0415896], [-1.045794], [-1.0331811], [-1.0079554], [-0.9659126], [-0.82717115], [-0.6211612], [-0.29322708], [0.15242709], [0.65273696], [1.1236168], [1.5188196], ...]</td>\n",
       "      <td>1.000000</td>\n",
       "      <td>0.0</td>\n",
       "      <td>0.002800</td>\n",
       "      <td>no_copmression</td>\n",
       "      <td>0.677295</td>\n",
       "      <td>6.054221</td>\n",
       "      <td>6.209728</td>\n",
       "      <td>1</td>\n",
       "    </tr>\n",
       "    <tr>\n",
       "      <th>3</th>\n",
       "      <td>3</td>\n",
       "      <td>[[0.82090837], [1.0058969], [1.1950897], [1.3968953], [1.4977982], [1.5440453], [1.569271], [1.5818839], [1.5944967], [1.6113138], [1.6323353], [1.6533567], [1.6785824], [1.7080123], [1.7584639], [1.8341409], [1.9140223], [1.9560652], [1.9854952], [2.010721], [2.0359466], [2.0485594], [2.0485594], [2.0317423], [1.9939038], [1.9518609], [1.909818], [1.8761837], [1.8341409], [1.7836895], [1.7416466], [1.7038081], [1.6743782], [1.6449481], [1.6155181], [1.5860882], [1.5524539], [1.5188196], [1.480981], [1.4473468], [1.4137125], [1.3884867], [1.3674654], [1.3422396], [1.317014], [1.287584], [1.2623582], [1.2413368], [1.2203153], [1.199294], [1.1824769], [1.1698639], [1.1614554], [1.1488426], [1.1320254], [1.111004], [1.0899825], [1.0731654], [1.0605526], [1.0563483], [1.0437354], [1.0185097], [0.9470369], [0.8040912], [0.7326184], [0.6989841], [0.6737584], [0.6569413], [0.64012414], [0.623307], [0.6106941], [0.60228556], [0.5896727], [0.58126414], [0.5686513], [0.55603844], [0.5476299], [0.5266084], [0.505587], [0.49297413], [0.48036128], [0.46774843], [0.45933986], [0.45933986], [0.46354416], [0.46354416], [0.45093128], [0.43831843], [0.4215013], [0.41309273], [0.40888846], [0.40468416], [0.40047988], [0.3920713], [0.37945846], [0.35843703], [0.33321133], [0.2869642], [0.2575342], [0.26594278], ...]</td>\n",
       "      <td>1.000000</td>\n",
       "      <td>0.0</td>\n",
       "      <td>0.086272</td>\n",
       "      <td>no_copmression</td>\n",
       "      <td>0.450956</td>\n",
       "      <td>5.886069</td>\n",
       "      <td>4.170650</td>\n",
       "      <td>1</td>\n",
       "    </tr>\n",
       "    <tr>\n",
       "      <th>4</th>\n",
       "      <td>4</td>\n",
       "      <td>[[-0.5118499], [-0.5875269], [-0.6337741], [-0.66740835], [-0.6968383], [-0.7304726], [-0.7556983], [-0.77671975], [-0.7935369], [-0.8187626], [-0.8776226], [-0.9911383], [-1.1256753], [-1.2055568], [-1.2349868], [-1.2560081], [-1.2728254], [-1.2728254], [-1.2518039], [-1.2181696], [-1.1971482], [-1.1761267], [-1.1593096], [-1.1466968], [-1.1256753], [-1.104654], [-1.0878369], [-1.0668154], [-1.0373853], [-0.91125685], [-0.6505912], [-0.27640992], [0.21549135], [0.84613407], [1.6029053], [2.4353535], [3.2551892], [3.9531002], [4.4702272], [4.764527], [4.8612256], [4.785548], [4.558517], [4.037186], [3.356092], [2.5951164], [1.7878938], [1.0058969], [0.35002846], [-0.16289425], [-0.5875269], [-0.93648255], [-1.1719224], [-1.2686211], [-1.3022553], [-1.3232768], [-1.3358896], [-1.3442981], [-1.3485024], [-1.3485024], [-1.3485024], [-1.3358896], [-1.3148682], [-1.2896425], [-1.2686211], [-1.2433953], [-1.222374], [-1.2013525], [-1.1845354], [-1.1635139], [-1.1466968], [-1.134084], [-1.1172668], [-1.104654], [-1.0920411], [-1.0794282], [-1.0668154], [-1.0542026], [-1.0415896], [-1.0247725], [-0.99534255], [-0.94489115], [-0.8902354], [-0.83557975], [-0.80194545], [-0.77671975], [-0.7556983], [-0.7346769], [-0.71785975], [-0.6968383], [-0.6758169], [-0.6589998], [-0.64218265], [-0.6211612], [-0.6001398], [-0.5749141], [-0.5538927], [-0.528667], [-0.50764555], [-0.48241988], ...]</td>\n",
       "      <td>0.942857</td>\n",
       "      <td>0.0</td>\n",
       "      <td>0.412408</td>\n",
       "      <td>no_copmression</td>\n",
       "      <td>1.257858</td>\n",
       "      <td>6.686425</td>\n",
       "      <td>10.489689</td>\n",
       "      <td>1</td>\n",
       "    </tr>\n",
       "  </tbody>\n",
       "</table>\n",
       "</div>"
      ],
      "text/plain": [
       "   signal_idx  \\\n",
       "0           0   \n",
       "1           1   \n",
       "2           2   \n",
       "3           3   \n",
       "4           4   \n",
       "\n",
       "                                                                                                                                                                                                                                                                                                                                                                                                                                                                                                                                                                                                                                                                                                                                                                                                                                                                                                                                                                                                                                                                                                                                                                                                                                                                                                                                                                                                                                                                                                 signal  \\\n",
       "0                                                     [[-1.298051], [-1.5587167], [-1.8235866], [-2.0758436], [-2.2314022], [-2.2944665], [-2.3154879], [-2.2944665], [-2.2524235], [-2.2019722], [-2.138908], [-2.0716393], [-2.021188], [-1.9833494], [-1.9455109], [-1.903468], [-1.8572209], [-1.7983608], [-1.7310923], [-1.6638237], [-1.6301895], [-1.609168], [-1.5881467], [-1.5755337], [-1.5629209], [-1.5545124], [-1.5503081], [-1.5545124], [-1.5629209], [-1.5713295], [-1.5881467], [-1.609168], [-1.6343938], [-1.6596195], [-1.697458], [-1.7689309], [-1.8361994], [-1.8656294], [-1.8866508], [-1.8992637], [-1.9118766], [-1.9202851], [-1.9286937], [-1.9371023], [-1.9413066], [-1.9497151], [-1.9539194], [-1.9539194], [-1.9455109], [-1.9371023], [-1.9286937], [-1.9202851], [-1.9076723], [-1.8950595], [-1.8824465], [-1.8656294], [-1.8572209], [-1.8530166], [-1.8446081], [-1.8404037], [-1.8277909], [-1.815178], [-1.8025652], [-1.785748], [-1.7731352], [-1.7563181], [-1.7437052], [-1.7310923], [-1.7226838], [-1.7142752], [-1.7058666], [-1.7016623], [-1.6932538], [-1.6848452], [-1.6764367], [-1.6680281], [-1.6596195], [-1.6470066], [-1.6343938], [-1.621781], [-1.6049638], [-1.5965552], [-1.5839424], [-1.5755337], [-1.5629209], [-1.5503081], [-1.5292866], [-1.504061], [-1.4704267], [-1.4325881], [-1.3947495], [-1.3653196], [-1.3316853], [-1.3064595], [-1.2896425], [-1.2770296], [-1.2686211], [-1.2602124], [-1.2518039], [-1.239191], ...]   \n",
       "1  [[-0.07460427], [-0.07460427], [-0.07880855], [-0.07880855], [-0.08301284], [-0.09982998], [-0.15028138], [-0.15448567], [-0.09982998], [-0.0661957], [-0.04096999], [-0.019948568], [-0.0031314297], [0.005277139], [0.0010728549], [-0.011539998], [-0.028357137], [-0.057787128], [-0.11664712], [-0.23436709], [-0.34367847], [-0.4193556], [-0.4740113], [-0.50764555], [-0.5328713], [-0.5496884], [-0.5496884], [-0.5244627], [-0.47821558], [-0.40674275], [-0.2806142], [-0.15028138], [-0.04096999], [-0.011539998], [0.0010728549], [0.013685708], [0.022094278], [0.03470713], [0.047319986], [0.055728555], [0.06413712], [0.068341404], [0.072545685], [0.07674997], [0.07674997], [0.07674997], [0.07674997], [0.072545685], [0.072545685], [0.06413712], [0.05993284], [0.055728555], [0.047319986], [0.0431157], [0.0431157], [0.038911417], [0.03470713], [0.030502846], [0.026298562], [0.013685708], [-0.019948568], [-0.015744284], [0.055728555], [0.11879282], [0.1776528], [0.21969564], [0.24912563], [0.27435133], [0.30378133], [0.32480276], [0.3374156], [0.3416199], [0.3374156], [0.33321133], [0.32900703], [0.32480276], [0.32059848], [0.31639418], [0.32480276], [0.3374156], [0.35423276], [0.3668456], [0.37945846], [0.3920713], [0.40888846], [0.417297], [0.4215013], [0.4215013], [0.41309273], [0.39627558], [0.37525418], [0.34582418], [0.3121899], [0.26173848], [0.16924423], [0.1229971], [0.08515854], [0.05152427], [0.05993284], [0.1272014], ...]   \n",
       "2                                       [[0.05993284], [0.068341404], [0.08095425], [0.10197568], [0.17344852], [0.24492136], [0.29537275], [0.33321133], [0.35423276], [0.37525418], [0.38786703], [0.40047988], [0.40888846], [0.41309273], [0.417297], [0.4215013], [0.42570558], [0.43411416], [0.43831843], [0.44252273], [0.44252273], [0.446727], [0.446727], [0.45093128], [0.45093128], [0.45093128], [0.45093128], [0.45513558], [0.45513558], [0.45933986], [0.46354416], [0.46354416], [0.46774843], [0.476157], [0.48876986], [0.49297413], [0.48876986], [0.4719527], [0.43831843], [0.40047988], [0.35843703], [0.30378133], [0.2575342], [0.21549135], [0.19446994], [0.17344852], [0.16083567], [0.15242709], [0.14401853], [0.13140567], [0.11879282], [0.10197568], [0.08936282], [0.07674997], [0.05993284], [0.03470713], [-0.007335714], [-0.07880855], [-0.15448567], [-0.20493709], [-0.23857136], [-0.26800135], [-0.30163562], [-0.3394742], [-0.37731275], [-0.42355987], [-0.469807], [-0.51605415], [-0.56650555], [-0.62956977], [-0.70104265], [-0.7683112], [-0.7977412], [-0.8145583], [-0.82717115], [-0.839784], [-0.8566012], [-0.869214], [-0.88603115], [-0.898644], [-0.91125685], [-0.928074], [-0.93648255], [-0.9490954], [-0.957504], [-0.97011685], [-0.9911383], [-1.0205683], [-1.0415896], [-1.045794], [-1.0331811], [-1.0079554], [-0.9659126], [-0.82717115], [-0.6211612], [-0.29322708], [0.15242709], [0.65273696], [1.1236168], [1.5188196], ...]   \n",
       "3                                                                                                                                 [[0.82090837], [1.0058969], [1.1950897], [1.3968953], [1.4977982], [1.5440453], [1.569271], [1.5818839], [1.5944967], [1.6113138], [1.6323353], [1.6533567], [1.6785824], [1.7080123], [1.7584639], [1.8341409], [1.9140223], [1.9560652], [1.9854952], [2.010721], [2.0359466], [2.0485594], [2.0485594], [2.0317423], [1.9939038], [1.9518609], [1.909818], [1.8761837], [1.8341409], [1.7836895], [1.7416466], [1.7038081], [1.6743782], [1.6449481], [1.6155181], [1.5860882], [1.5524539], [1.5188196], [1.480981], [1.4473468], [1.4137125], [1.3884867], [1.3674654], [1.3422396], [1.317014], [1.287584], [1.2623582], [1.2413368], [1.2203153], [1.199294], [1.1824769], [1.1698639], [1.1614554], [1.1488426], [1.1320254], [1.111004], [1.0899825], [1.0731654], [1.0605526], [1.0563483], [1.0437354], [1.0185097], [0.9470369], [0.8040912], [0.7326184], [0.6989841], [0.6737584], [0.6569413], [0.64012414], [0.623307], [0.6106941], [0.60228556], [0.5896727], [0.58126414], [0.5686513], [0.55603844], [0.5476299], [0.5266084], [0.505587], [0.49297413], [0.48036128], [0.46774843], [0.45933986], [0.45933986], [0.46354416], [0.46354416], [0.45093128], [0.43831843], [0.4215013], [0.41309273], [0.40888846], [0.40468416], [0.40047988], [0.3920713], [0.37945846], [0.35843703], [0.33321133], [0.2869642], [0.2575342], [0.26594278], ...]   \n",
       "4                                                  [[-0.5118499], [-0.5875269], [-0.6337741], [-0.66740835], [-0.6968383], [-0.7304726], [-0.7556983], [-0.77671975], [-0.7935369], [-0.8187626], [-0.8776226], [-0.9911383], [-1.1256753], [-1.2055568], [-1.2349868], [-1.2560081], [-1.2728254], [-1.2728254], [-1.2518039], [-1.2181696], [-1.1971482], [-1.1761267], [-1.1593096], [-1.1466968], [-1.1256753], [-1.104654], [-1.0878369], [-1.0668154], [-1.0373853], [-0.91125685], [-0.6505912], [-0.27640992], [0.21549135], [0.84613407], [1.6029053], [2.4353535], [3.2551892], [3.9531002], [4.4702272], [4.764527], [4.8612256], [4.785548], [4.558517], [4.037186], [3.356092], [2.5951164], [1.7878938], [1.0058969], [0.35002846], [-0.16289425], [-0.5875269], [-0.93648255], [-1.1719224], [-1.2686211], [-1.3022553], [-1.3232768], [-1.3358896], [-1.3442981], [-1.3485024], [-1.3485024], [-1.3485024], [-1.3358896], [-1.3148682], [-1.2896425], [-1.2686211], [-1.2433953], [-1.222374], [-1.2013525], [-1.1845354], [-1.1635139], [-1.1466968], [-1.134084], [-1.1172668], [-1.104654], [-1.0920411], [-1.0794282], [-1.0668154], [-1.0542026], [-1.0415896], [-1.0247725], [-0.99534255], [-0.94489115], [-0.8902354], [-0.83557975], [-0.80194545], [-0.77671975], [-0.7556983], [-0.7346769], [-0.71785975], [-0.6968383], [-0.6758169], [-0.6589998], [-0.64218265], [-0.6211612], [-0.6001398], [-0.5749141], [-0.5538927], [-0.528667], [-0.50764555], [-0.48241988], ...]   \n",
       "\n",
       "   accuracy  mse_loss  app_loss              CG       STD   Entropy  \\\n",
       "0  1.000000       0.0  0.014810  no_copmression  0.454987  5.353854   \n",
       "1  0.000000       0.0  2.116578  no_copmression  0.438322  5.921943   \n",
       "2  1.000000       0.0  0.002800  no_copmression  0.677295  6.054221   \n",
       "3  1.000000       0.0  0.086272  no_copmression  0.450956  5.886069   \n",
       "4  0.942857       0.0  0.412408  no_copmression  1.257858  6.686425   \n",
       "\n",
       "    amp_size  CG_int  \n",
       "0   5.284785       1  \n",
       "1   4.069747       1  \n",
       "2   6.209728       1  \n",
       "3   4.170650       1  \n",
       "4  10.489689       1  "
      ]
     },
     "execution_count": 28,
     "metadata": {},
     "output_type": "execute_result"
    }
   ],
   "source": [
    "df.head()\n"
   ]
  },
  {
   "cell_type": "code",
   "execution_count": 29,
   "metadata": {},
   "outputs": [
    {
     "data": {
      "image/png": "[encoded data removed]",
      "text/plain": [
       "<Figure size 576x360 with 1 Axes>"
      ]
     },
     "metadata": {
      "needs_background": "light"
     },
     "output_type": "display_data"
    }
   ],
   "source": [
    "df['nice_CG_represent'] = df['CG'].apply(lambda x: x.replace('_','')[:5])\n",
    "bp = df[df['CG_int']!=16].boxplot('app_loss',by='nice_CG_represent',return_type='both',showmeans=True,showfliers=False,fontsize=16,figsize=(8,5))\n",
    "plt.title(' ',fontsize=15)\n",
    "plt.xlabel('Compressor Type',fontsize=16)\n",
    "plt.ylabel('CCE',fontsize=16)\n",
    "plt.show()"
   ]
  },
  {
   "cell_type": "code",
   "execution_count": 30,
   "metadata": {},
   "outputs": [
    {
     "data": {
      "text/html": [
       "<div>\n",
       "<style scoped>\n",
       "    .dataframe tbody tr th:only-of-type {\n",
       "        vertical-align: middle;\n",
       "    }\n",
       "\n",
       "    .dataframe tbody tr th {\n",
       "        vertical-align: top;\n",
       "    }\n",
       "\n",
       "    .dataframe thead th {\n",
       "        text-align: right;\n",
       "    }\n",
       "</style>\n",
       "<table border=\"1\" class=\"dataframe\">\n",
       "  <thead>\n",
       "    <tr style=\"text-align: right;\">\n",
       "      <th></th>\n",
       "      <th>signal_idx</th>\n",
       "      <th>accuracy</th>\n",
       "      <th>mse_loss</th>\n",
       "      <th>app_loss</th>\n",
       "      <th>STD</th>\n",
       "      <th>Entropy</th>\n",
       "      <th>amp_size</th>\n",
       "      <th>CG_int</th>\n",
       "    </tr>\n",
       "  </thead>\n",
       "  <tbody>\n",
       "    <tr>\n",
       "      <th>count</th>\n",
       "      <td>2408.000000</td>\n",
       "      <td>2408.000000</td>\n",
       "      <td>2408.000000</td>\n",
       "      <td>2408.000000</td>\n",
       "      <td>2408.000000</td>\n",
       "      <td>2408.000000</td>\n",
       "      <td>2408.000000</td>\n",
       "      <td>2408.000000</td>\n",
       "    </tr>\n",
       "    <tr>\n",
       "      <th>mean</th>\n",
       "      <td>300.500000</td>\n",
       "      <td>0.771654</td>\n",
       "      <td>0.283496</td>\n",
       "      <td>0.588629</td>\n",
       "      <td>0.898321</td>\n",
       "      <td>6.083946</td>\n",
       "      <td>10.409753</td>\n",
       "      <td>28.250000</td>\n",
       "    </tr>\n",
       "    <tr>\n",
       "      <th>std</th>\n",
       "      <td>173.818287</td>\n",
       "      <td>0.381251</td>\n",
       "      <td>0.741258</td>\n",
       "      <td>0.889069</td>\n",
       "      <td>0.505268</td>\n",
       "      <td>0.452604</td>\n",
       "      <td>8.059036</td>\n",
       "      <td>23.375509</td>\n",
       "    </tr>\n",
       "    <tr>\n",
       "      <th>min</th>\n",
       "      <td>0.000000</td>\n",
       "      <td>0.000000</td>\n",
       "      <td>0.000000</td>\n",
       "      <td>0.000189</td>\n",
       "      <td>0.188437</td>\n",
       "      <td>4.701845</td>\n",
       "      <td>1.496725</td>\n",
       "      <td>1.000000</td>\n",
       "    </tr>\n",
       "    <tr>\n",
       "      <th>25%</th>\n",
       "      <td>150.000000</td>\n",
       "      <td>0.685714</td>\n",
       "      <td>0.002496</td>\n",
       "      <td>0.037115</td>\n",
       "      <td>0.582598</td>\n",
       "      <td>5.766875</td>\n",
       "      <td>5.415119</td>\n",
       "      <td>12.250000</td>\n",
       "    </tr>\n",
       "    <tr>\n",
       "      <th>50%</th>\n",
       "      <td>300.500000</td>\n",
       "      <td>1.000000</td>\n",
       "      <td>0.049069</td>\n",
       "      <td>0.143881</td>\n",
       "      <td>0.746263</td>\n",
       "      <td>6.067566</td>\n",
       "      <td>7.634981</td>\n",
       "      <td>24.000000</td>\n",
       "    </tr>\n",
       "    <tr>\n",
       "      <th>75%</th>\n",
       "      <td>451.000000</td>\n",
       "      <td>1.000000</td>\n",
       "      <td>0.251468</td>\n",
       "      <td>0.741533</td>\n",
       "      <td>1.071057</td>\n",
       "      <td>6.370994</td>\n",
       "      <td>12.436274</td>\n",
       "      <td>40.000000</td>\n",
       "    </tr>\n",
       "    <tr>\n",
       "      <th>max</th>\n",
       "      <td>601.000000</td>\n",
       "      <td>1.000000</td>\n",
       "      <td>14.615060</td>\n",
       "      <td>5.512460</td>\n",
       "      <td>4.029768</td>\n",
       "      <td>7.677316</td>\n",
       "      <td>58.338646</td>\n",
       "      <td>64.000000</td>\n",
       "    </tr>\n",
       "  </tbody>\n",
       "</table>\n",
       "</div>"
      ],
      "text/plain": [
       "        signal_idx     accuracy     mse_loss     app_loss          STD  \\\n",
       "count  2408.000000  2408.000000  2408.000000  2408.000000  2408.000000   \n",
       "mean    300.500000     0.771654     0.283496     0.588629     0.898321   \n",
       "std     173.818287     0.381251     0.741258     0.889069     0.505268   \n",
       "min       0.000000     0.000000     0.000000     0.000189     0.188437   \n",
       "25%     150.000000     0.685714     0.002496     0.037115     0.582598   \n",
       "50%     300.500000     1.000000     0.049069     0.143881     0.746263   \n",
       "75%     451.000000     1.000000     0.251468     0.741533     1.071057   \n",
       "max     601.000000     1.000000    14.615060     5.512460     4.029768   \n",
       "\n",
       "           Entropy     amp_size       CG_int  \n",
       "count  2408.000000  2408.000000  2408.000000  \n",
       "mean      6.083946    10.409753    28.250000  \n",
       "std       0.452604     8.059036    23.375509  \n",
       "min       4.701845     1.496725     1.000000  \n",
       "25%       5.766875     5.415119    12.250000  \n",
       "50%       6.067566     7.634981    24.000000  \n",
       "75%       6.370994    12.436274    40.000000  \n",
       "max       7.677316    58.338646    64.000000  "
      ]
     },
     "execution_count": 30,
     "metadata": {},
     "output_type": "execute_result"
    }
   ],
   "source": [
    "df.describe()"
   ]
  },
  {
   "cell_type": "code",
   "execution_count": 31,
   "metadata": {},
   "outputs": [],
   "source": [
    "num_of_samples = x_dev.shape[0]\n",
    "# df = pd.read_csv('Data/CINC_banchmark.csv')\n",
    "def adaptive_compression_accuracy(df, threshold_PRD,base_factor=1):\n",
    "    \"\"\"\n",
    "    Measure by accuracy and decide based on the accuracy\n",
    "    \"\"\"\n",
    "    df_threshold = df[df['accuracy']>threshold_PRD]\n",
    "    indices = df_threshold.groupby('signal_idx',sort=False)['CG_int'].transform(max)==df_threshold['CG_int']\n",
    "    \n",
    "    if len(indices)==0:\n",
    "        num_satisfied_PRD_indices = 0\n",
    "        avg_acc = 1\n",
    "        meanCG = base_factor\n",
    "\n",
    "    else:\n",
    "        num_satisfied_PRD_indices = indices.value_counts()[True]\n",
    "        avg_acc = (num_satisfied_PRD_indices/num_of_samples)*df_threshold[indices]['accuracy'].mean()+((num_of_samples-num_satisfied_PRD_indices)/num_of_samples)*1\n",
    "        meanCG = ((num_of_samples-num_satisfied_PRD_indices)/num_of_samples)*base_factor + (num_satisfied_PRD_indices/num_of_samples)*df_threshold[indices]['CG_int'].mean()\n",
    "    \n",
    "    return avg_acc,meanCG\n",
    "\n",
    "\n",
    "def adaptive_compression_mse_accuracy(df, threshold_PRD,base_factor=1):\n",
    "    \"\"\"\n",
    "    Measure by mse_loss and decide based on the accuracy\n",
    "    \"\"\"\n",
    "    df_threshold = df[df['mse_loss']<threshold_PRD]\n",
    "    indices = df_threshold.groupby('signal_idx',sort=False)['CG_int'].transform(max)==df_threshold['CG_int']\n",
    "    \n",
    "    if len(indices)==0:\n",
    "        num_satisfied_PRD_indices = 0\n",
    "        avg_acc = 0\n",
    "        meanCG = base_factor\n",
    "\n",
    "    else:\n",
    "        num_satisfied_PRD_indices = indices.value_counts()[True]\n",
    "        avg_acc = (num_satisfied_PRD_indices/num_of_samples)*df_threshold[indices]['accuracy'].mean()+((num_of_samples-num_satisfied_PRD_indices)/num_of_samples)*1\n",
    "        meanCG = ((num_of_samples-num_satisfied_PRD_indices)/num_of_samples)*base_factor + (num_satisfied_PRD_indices/num_of_samples)*df_threshold[indices]['CG_int'].mean()\n",
    "    \n",
    "    return avg_acc,meanCG\n",
    "\n",
    "def adaptive_compression_app_loss(df, threshold_PRD,base_factor=1):\n",
    "    \"\"\"\n",
    "    Measure by app_loss and decide based on the app_loss\n",
    "    \"\"\"\n",
    "    df_threshold = df[df['app_loss']<threshold_PRD]\n",
    "    indices = df_threshold.groupby('signal_idx',sort=False)['CG_int'].transform(max)==df_threshold['CG_int']\n",
    "    \n",
    "    if len(indices)==0:\n",
    "        num_satisfied_PRD_indices = 0\n",
    "        avg_acc = 0\n",
    "        meanCG = base_factor\n",
    "\n",
    "    else:\n",
    "        num_satisfied_PRD_indices = indices.value_counts()[True]\n",
    "        avg_loss = (num_satisfied_PRD_indices/num_of_samples)*df_threshold[indices]['app_loss'].mean()+((num_of_samples-num_satisfied_PRD_indices)/num_of_samples)*0\n",
    "        meanCG = ((num_of_samples-num_satisfied_PRD_indices)/num_of_samples)*base_factor + (num_satisfied_PRD_indices/num_of_samples)*df_threshold[indices]['CG_int'].mean()\n",
    "    \n",
    "    return avg_loss,meanCG\n",
    "\n",
    "\n",
    "static_SOTA_64={'prd':[],'cg':[],'REAL_PRD':[]}\n",
    "static_SOTA_32={'prd':[],'cg':[],'REAL_PRD':[]}\n",
    "static_SOTA_16={'prd':[],'cg':[],'REAL_PRD':[]}\n",
    "adap_cg_min1 = {'prd':[],'cg':[],'REAL_PRD':[]}\n",
    "static_SOTA_64_mse={'prd':[],'cg':[],'REAL_PRD':[]}\n",
    "static_SOTA_32_mse={'prd':[],'cg':[],'REAL_PRD':[]}\n",
    "static_SOTA_16_mse={'prd':[],'cg':[],'REAL_PRD':[]}\n",
    "adap_cg_min1_mse = {'prd':[],'cg':[],'REAL_PRD':[]}\n",
    "static_SOTA_64_app_loss={'prd':[],'cg':[],'REAL_PRD':[]}\n",
    "static_SOTA_32_app_loss={'prd':[],'cg':[],'REAL_PRD':[]}\n",
    "static_SOTA_16_app_loss={'prd':[],'cg':[],'REAL_PRD':[]}\n",
    "adap_cg_min1_app_loss = {'prd':[],'cg':[],'REAL_PRD':[]}\n",
    "\n",
    "for customer_acc in np.arange(0.01,1,0.02):\n",
    "#     static_SOTA_16['cg'].append(adaptive_compression_accuracy(df[df['CG_int']==16],acc,1)[1])\n",
    "#     static_SOTA_32['cg'].append(adaptive_compression_accuracy(df[df['CG_int']==32],acc,1)[1])\n",
    "# #     static_SOTA_64['cg'].append(adaptive_compression(df[df['CG_int']==64],PRD,1)[1])\n",
    "#     adap_cg_min1['cg'].append(adaptive_compression_accuracy(df,acc,1)[1])\n",
    "    \n",
    "    acc,cg = adaptive_compression_accuracy(df[df['CG_int']==16],customer_acc,1)\n",
    "    static_SOTA_16['prd'].append(acc)\n",
    "    static_SOTA_16['cg'].append(cg)\n",
    "    static_SOTA_16['REAL_PRD'].append(customer_acc)\n",
    "    \n",
    "    \n",
    "    acc,cg = adaptive_compression_accuracy(df[df['CG_int']==32],customer_acc,1)\n",
    "    static_SOTA_32['prd'].append(acc)\n",
    "    static_SOTA_32['cg'].append(cg)\n",
    "    static_SOTA_32['REAL_PRD'].append(customer_acc)\n",
    "    \n",
    "    acc,cg = adaptive_compression_accuracy(df[df['CG_int']==64],customer_acc,1)\n",
    "    static_SOTA_64['prd'].append(acc)\n",
    "    static_SOTA_64['cg'].append(cg)\n",
    "    static_SOTA_64['REAL_PRD'].append(customer_acc)\n",
    "    \n",
    "    acc,cg = adaptive_compression_accuracy(df,customer_acc,1)\n",
    "    adap_cg_min1['prd'].append(acc)\n",
    "    adap_cg_min1['cg'].append(cg)\n",
    "    adap_cg_min1['REAL_PRD'].append(customer_acc)\n",
    "\n",
    "for app_loss in np.arange(0.1,2,0.1):\n",
    "# #     static_SOTA_32_mse['cg'].append(adaptive_compression_mse_accuracy(df[df['CG_int']==32],PRD,1)[1])\n",
    "# #     static_SOTA_16_mse['cg'].append(adaptive_compression_mse_accuracy(df[df['CG_int']==16],PRD,1)[1])\n",
    "# #     static_SOTA_64['cg'].append(adaptive_compression(df[df['CG_int']==64],PRD,1)[1])\n",
    "# #     adap_cg_min1_mse['cg'].append(adaptive_compression_mse_accuracy(df,PRD,1)[1])\n",
    "    \n",
    "# #     acc,cg = adaptive_compression_app_loss(df[df['CG_int']==16],real_prd,1)\n",
    "# #     static_SOTA_16_mse['prd'].append(acc)\n",
    "# #     static_SOTA_16_mse['cg'].append(cg)\n",
    "# #     static_SOTA_16_mse['REAL_PRD'].append(real_prd)\n",
    "    \n",
    "    acc,cg = adaptive_compression_app_loss(df[df['CG_int']==16],app_loss,1)\n",
    "    static_SOTA_16_app_loss['prd'].append(acc)\n",
    "    static_SOTA_16_app_loss['cg'].append(cg)\n",
    "    static_SOTA_16_app_loss['REAL_PRD'].append(app_loss)\n",
    "    \n",
    "    acc,cg = adaptive_compression_app_loss(df[df['CG_int']==32],app_loss,1)\n",
    "    static_SOTA_32_app_loss['prd'].append(acc)\n",
    "    static_SOTA_32_app_loss['cg'].append(cg)\n",
    "    static_SOTA_32_app_loss['REAL_PRD'].append(app_loss)\n",
    "    \n",
    "    acc,cg = adaptive_compression_app_loss(df[df['CG_int']==64],app_loss,1)\n",
    "    static_SOTA_64_app_loss['prd'].append(acc)\n",
    "    static_SOTA_64_app_loss['cg'].append(cg)\n",
    "    static_SOTA_64_app_loss['REAL_PRD'].append(app_loss)\n",
    "    \n",
    "    acc,cg = adaptive_compression_app_loss(df[df['CG_int']>16],app_loss,1)\n",
    "    adap_cg_min1_app_loss['prd'].append(acc)\n",
    "    adap_cg_min1_app_loss['cg'].append(cg)\n",
    "    adap_cg_min1_app_loss['REAL_PRD'].append(app_loss)\n",
    "\n",
    "\n",
    "for mse_loss in np.arange(0.05,1,0.05):\n",
    "#     static_SOTA_32_mse['cg'].append(adaptive_compression_mse_accuracy(df[df['CG_int']==32],PRD,1)[1])\n",
    "#     static_SOTA_16_mse['cg'].append(adaptive_compression_mse_accuracy(df[df['CG_int']==16],PRD,1)[1])\n",
    "#     static_SOTA_64['cg'].append(adaptive_compression(df[df['CG_int']==64],PRD,1)[1])\n",
    "#     adap_cg_min1_mse['cg'].append(adaptive_compression_mse_accuracy(df,PRD,1)[1])\n",
    "    \n",
    "    acc,cg = adaptive_compression_mse_accuracy(df[df['CG_int']==16],mse_loss,1)\n",
    "    static_SOTA_16_mse['prd'].append(acc)\n",
    "    static_SOTA_16_mse['cg'].append(cg)\n",
    "    static_SOTA_16_mse['REAL_PRD'].append(mse_loss)\n",
    "    \n",
    "    acc,cg = adaptive_compression_mse_accuracy(df[df['CG_int']==32],mse_loss,1)\n",
    "    static_SOTA_32_mse['prd'].append(acc)\n",
    "    static_SOTA_32_mse['cg'].append(cg)\n",
    "    static_SOTA_32_mse['REAL_PRD'].append(mse_loss)\n",
    "    \n",
    "    acc,cg = adaptive_compression_mse_accuracy(df[df['CG_int']==64],mse_loss,1)\n",
    "    static_SOTA_64_mse['prd'].append(acc)\n",
    "    static_SOTA_64_mse['cg'].append(cg)\n",
    "    static_SOTA_64_mse['REAL_PRD'].append(mse_loss)\n",
    "    \n",
    "    acc,cg = adaptive_compression_mse_accuracy(df,mse_loss,1)\n",
    "    adap_cg_min1_mse['prd'].append(acc)\n",
    "    adap_cg_min1_mse['cg'].append(cg)\n",
    "    adap_cg_min1_mse['REAL_PRD'].append(mse_loss)\n",
    "\n",
    "    "
   ]
  },
  {
   "cell_type": "code",
   "execution_count": 32,
   "metadata": {},
   "outputs": [
    {
     "data": {
      "text/plain": [
       "Text(0.5, 1.0, 'Adaptive CG as func of HR accuracy - residue based decision')"
      ]
     },
     "execution_count": 32,
     "metadata": {},
     "output_type": "execute_result"
    },
    {
     "data": {
      "image/png": "[encoded data removed]",
      "text/plain": [
       "<Figure size 432x288 with 1 Axes>"
      ]
     },
     "metadata": {
      "needs_background": "light"
     },
     "output_type": "display_data"
    }
   ],
   "source": [
    "plt.plot(adap_cg_min1_mse['prd'],adap_cg_min1_mse['cg'])\n",
    "plt.plot(static_SOTA_16_mse['prd'],static_SOTA_16_mse['cg'])\n",
    "plt.plot(static_SOTA_32_mse['prd'],static_SOTA_32_mse['cg'])\n",
    "plt.plot(static_SOTA_64_mse['prd'],static_SOTA_64_mse['cg'])\n",
    "plt.legend(['adap residue','static residue 16','static residue 32','static residue 64'])\n",
    "# plt.yticks(np.arange(0, 65, 5))\n",
    "plt.xlabel('HR Accuracy')\n",
    "plt.ylabel('Avg CG')\n",
    "plt.grid()\n",
    "plt.title('Adaptive CG as func of HR accuracy - residue based decision')"
   ]
  },
  {
   "cell_type": "code",
   "execution_count": 33,
   "metadata": {},
   "outputs": [
    {
     "data": {
      "text/plain": [
       "Text(0.5, 1.0, 'Adaptive CG as func of HR accuracy (against max residue)')"
      ]
     },
     "execution_count": 33,
     "metadata": {},
     "output_type": "execute_result"
    },
    {
     "data": {
      "image/png": "[encoded data removed]",
      "text/plain": [
       "<Figure size 432x288 with 2 Axes>"
      ]
     },
     "metadata": {
      "needs_background": "light"
     },
     "output_type": "display_data"
    }
   ],
   "source": [
    "sc = plt.scatter(adap_cg_min1_mse['prd'],adap_cg_min1_mse['cg'],c=adap_cg_min1_mse['REAL_PRD'],marker='^')\n",
    "plt.scatter(static_SOTA_16_mse['prd'],static_SOTA_16_mse['cg'],c=static_SOTA_16_mse['REAL_PRD'],marker='o')\n",
    "plt.scatter(static_SOTA_32_mse['prd'],static_SOTA_32_mse['cg'],c=static_SOTA_32_mse['REAL_PRD'],marker='|')\n",
    "plt.scatter(static_SOTA_64_mse['prd'],static_SOTA_64_mse['cg'],c=static_SOTA_64_mse['REAL_PRD'],marker='+')\n",
    "plt.legend(['adap CG','static CG=16','static CG=32','static CG=64'])\n",
    "plt.legend(['adap CG','static CG=32','static CG=64'])\n",
    "plt.xlabel('accuracy')\n",
    "plt.colorbar(sc)\n",
    "plt.ylabel('CG')\n",
    "plt.grid()\n",
    "plt.title('Adaptive CG as func of HR accuracy (against max residue)')"
   ]
  },
  {
   "cell_type": "code",
   "execution_count": 34,
   "metadata": {},
   "outputs": [
    {
     "data": {
      "text/plain": [
       "Text(0.5, 1.0, 'Adaptive CG as func of HR accuracy')"
      ]
     },
     "execution_count": 34,
     "metadata": {},
     "output_type": "execute_result"
    },
    {
     "data": {
      "image/png": "[encoded data removed]",
      "text/plain": [
       "<Figure size 432x288 with 2 Axes>"
      ]
     },
     "metadata": {
      "needs_background": "light"
     },
     "output_type": "display_data"
    }
   ],
   "source": [
    "sc = plt.scatter(adap_cg_min1['prd'],adap_cg_min1['cg'],c=adap_cg_min1['REAL_PRD'],marker='^')\n",
    "plt.scatter(static_SOTA_16['prd'],static_SOTA_16['cg'],c=static_SOTA_16['REAL_PRD'],marker='o')\n",
    "plt.scatter(static_SOTA_32['prd'],static_SOTA_32['cg'],c=static_SOTA_32['REAL_PRD'],marker='|')\n",
    "plt.scatter(static_SOTA_64['prd'],static_SOTA_64['cg'],c=static_SOTA_64['REAL_PRD'],marker='+')\n",
    "plt.legend(['adap CG','static CG=16','static CG=32','static CG=64'])\n",
    "plt.xlabel('accuracy')\n",
    "plt.colorbar(sc)\n",
    "plt.ylabel('CG')\n",
    "plt.grid()\n",
    "plt.title('Adaptive CG as func of HR accuracy')"
   ]
  },
  {
   "cell_type": "code",
   "execution_count": 35,
   "metadata": {},
   "outputs": [
    {
     "data": {
      "text/plain": [
       "Text(0.5, 1.0, 'Adaptive CG as func of HR accuracy decision based')"
      ]
     },
     "execution_count": 35,
     "metadata": {},
     "output_type": "execute_result"
    },
    {
     "data": {
      "image/png": "[encoded data removed]",
      "text/plain": [
       "<Figure size 432x288 with 1 Axes>"
      ]
     },
     "metadata": {
      "needs_background": "light"
     },
     "output_type": "display_data"
    }
   ],
   "source": [
    "plt.plot(adap_cg_min1['prd'],adap_cg_min1['cg'],'b')\n",
    "plt.plot(static_SOTA_16['prd'],static_SOTA_16['cg'],'m')\n",
    "plt.plot(static_SOTA_32['prd'],static_SOTA_32['cg'])\n",
    "plt.plot(static_SOTA_64['prd'],static_SOTA_64['cg'])\n",
    "\n",
    "plt.legend(['adap acc CG','static acc CG=16','static acc CG=32','static acc CG=64'])#,'adap residue','static residue 16','static residue 32','static residue 64'])\n",
    "plt.xlabel('HR Accuracy')\n",
    "plt.ylabel('Avg CG')\n",
    "plt.grid()\n",
    "plt.title('Adaptive CG as func of HR accuracy decision based')"
   ]
  },
  {
   "cell_type": "code",
   "execution_count": 36,
   "metadata": {},
   "outputs": [
    {
     "data": {
      "text/plain": [
       "Text(0.5, 1.0, 'Adaptive CG as func of HR accuracy - app_loss based decision')"
      ]
     },
     "execution_count": 36,
     "metadata": {},
     "output_type": "execute_result"
    },
    {
     "data": {
      "image/png": "[encoded data removed]",
      "text/plain": [
       "<Figure size 432x288 with 1 Axes>"
      ]
     },
     "metadata": {
      "needs_background": "light"
     },
     "output_type": "display_data"
    }
   ],
   "source": [
    "plt.plot(adap_cg_min1_app_loss['prd'],adap_cg_min1_app_loss['cg'])\n",
    "plt.plot(static_SOTA_16_app_loss['prd'],static_SOTA_16_app_loss['cg'])\n",
    "plt.plot(static_SOTA_32_app_loss['prd'],static_SOTA_32_app_loss['cg'])\n",
    "plt.plot(static_SOTA_64_app_loss['prd'],static_SOTA_64_app_loss['cg'])\n",
    "plt.legend(['adap residue','static 16','static  32','static  64'])\n",
    "# plt.yticks(np.arange(0, 65, 5))\n",
    "plt.xlabel('app_loss')\n",
    "plt.ylabel('Avg CG')\n",
    "plt.grid()\n",
    "plt.title('Adaptive CG as func of HR accuracy - app_loss based decision')"
   ]
  },
  {
   "cell_type": "code",
   "execution_count": 37,
   "metadata": {},
   "outputs": [
    {
     "data": {
      "image/png": "[encoded data removed]",
      "text/plain": [
       "<Figure size 432x288 with 1 Axes>"
      ]
     },
     "metadata": {
      "needs_background": "light"
     },
     "output_type": "display_data"
    },
    {
     "data": {
      "text/plain": [
       "Text(0.5, 1.0, 'Adaptive CG as func of HR accuracy - app_loss based decision')"
      ]
     },
     "execution_count": 37,
     "metadata": {},
     "output_type": "execute_result"
    },
    {
     "data": {
      "image/png": "[encoded data removed]",
      "text/plain": [
       "<Figure size 432x288 with 1 Axes>"
      ]
     },
     "metadata": {
      "needs_background": "light"
     },
     "output_type": "display_data"
    }
   ],
   "source": [
    "plt.plot(adap_cg_min1_app_loss['REAL_PRD'],adap_cg_min1_app_loss['cg'])\n",
    "plt.plot(static_SOTA_16_app_loss['REAL_PRD'],static_SOTA_16_app_loss['cg'])\n",
    "plt.plot(static_SOTA_32_app_loss['REAL_PRD'],static_SOTA_32_app_loss['cg'])\n",
    "plt.plot(static_SOTA_64_app_loss['REAL_PRD'],static_SOTA_64_app_loss['cg'])\n",
    "plt.legend(['adap residue','static 16','static  32','static  64'])\n",
    "# plt.yticks(np.arange(0, 65, 5))\n",
    "plt.xlabel('pre-configured app_loss')\n",
    "plt.ylabel('Avg CG')\n",
    "plt.grid()\n",
    "plt.title('Adaptive CG as func of HR accuracy - app_loss based decision')\n",
    "plt.show()\n",
    "plt.plot(adap_cg_min1_app_loss['REAL_PRD'],np.array(adap_cg_min1_app_loss['prd'])/0.65*100)\n",
    "plt.plot(static_SOTA_16_app_loss['REAL_PRD'],np.array(static_SOTA_16_app_loss['prd'])/0.65*100)\n",
    "plt.plot(static_SOTA_32_app_loss['REAL_PRD'],np.array(static_SOTA_32_app_loss['prd'])/0.65*100)\n",
    "plt.plot(static_SOTA_64_app_loss['REAL_PRD'],np.array(static_SOTA_64_app_loss['prd'])/0.65*100)\n",
    "plt.legend(['adap residue','static 16','static  32','static  64'])\n",
    "# plt.yticks(np.arange(0, 65, 5))\n",
    "plt.xlabel('pre-configured app_loss')\n",
    "plt.ylabel('effective app_loss [%]')\n",
    "plt.grid()\n",
    "plt.title('Adaptive CG as func of HR accuracy - app_loss based decision')"
   ]
  },
  {
   "cell_type": "code",
   "execution_count": 38,
   "metadata": {},
   "outputs": [
    {
     "data": {
      "image/png": "[encoded data removed]",
      "text/plain": [
       "<Figure size 1440x720 with 2 Axes>"
      ]
     },
     "metadata": {
      "needs_background": "light"
     },
     "output_type": "display_data"
    }
   ],
   "source": [
    "plt.figure(figsize=(20,10))\n",
    "font = {'size'   : 16}\n",
    "#69d color\n",
    "plt.rc('font', **font)\n",
    "sc = plt.scatter(adap_cg_min1_app_loss['prd'],adap_cg_min1_app_loss['cg'],c=adap_cg_min1_app_loss['REAL_PRD'],marker='^')\n",
    "plt.scatter(static_SOTA_16_app_loss['prd'],static_SOTA_16_app_loss['cg'],c=static_SOTA_16_app_loss['REAL_PRD'],marker='o')\n",
    "plt.scatter(static_SOTA_32_app_loss['prd'],static_SOTA_32_app_loss['cg'],c=static_SOTA_32_app_loss['REAL_PRD'],marker='|')\n",
    "plt.scatter(static_SOTA_64_app_loss['prd'],static_SOTA_64_app_loss['cg'],c=static_SOTA_64_app_loss['REAL_PRD'],marker='+')\n",
    "plt.legend(['adap CG','static CG=16','static CG=32','static CG=64'])\n",
    "plt.colorbar(sc)\n",
    "plt.xlabel('Downstream task loss (Categorical cross entropy)')\n",
    "plt.ylabel('Avg CG')\n",
    "plt.grid()\n",
    "# plt.title('Adaptive CG as func of HR accuracy - app_loss based decision')"
   ]
  },
  {
   "cell_type": "code",
   "execution_count": 39,
   "metadata": {},
   "outputs": [],
   "source": [
    "# plt.figure(figsize=(20,10))\n",
    "# font = {'size'   : 16}\n",
    "# #69d color\n",
    "# plt.rc('font', **font)\n",
    "# sc = plt.scatter(adap_cg_min1_app_loss['prd'],adap_cg_min1_app_loss['cg'],c=adap_cg_min1_app_loss['REAL_PRD'],marker='^')\n",
    "# plt.scatter(static_SOTA_16_app_loss['prd'],static_SOTA_16_app_loss['cg'],c=static_SOTA_16_app_loss['REAL_PRD'],marker='o')\n",
    "# plt.scatter(static_SOTA_32_app_loss['prd'],static_SOTA_32_app_loss['cg'],c=static_SOTA_32_app_loss['REAL_PRD'],marker='|')\n",
    "# plt.scatter(static_SOTA_64_app_loss['prd'],static_SOTA_64_app_loss['cg'],c=static_SOTA_64_app_loss['REAL_PRD'],marker='+')\n",
    "# plt.legend(['adap CG','static CG=16','static CG=32','static CG=64'])\n",
    "# plt.colorbar(sc)\n",
    "# plt.xlabel('Downstream task loss (Categorical cross entropy)')\n",
    "# plt.ylabel('Avg CG')\n",
    "# plt.grid()\n",
    "# # plt.title('Adaptive CG as func of HR accuracy - app_loss based decision')"
   ]
  },
  {
   "cell_type": "code",
   "execution_count": 40,
   "metadata": {},
   "outputs": [],
   "source": [
    "df.to_csv('Data/CINC_banchmark.csv')"
   ]
  },
  {
   "cell_type": "code",
   "execution_count": 41,
   "metadata": {},
   "outputs": [
    {
     "ename": "RuntimeError",
     "evalue": "No active exception to reraise",
     "output_type": "error",
     "traceback": [
      "\u001b[0;31m---------------------------------------------------------------------------\u001b[0m",
      "\u001b[0;31mRuntimeError\u001b[0m                              Traceback (most recent call last)",
      "\u001b[0;32m<ipython-input-41-9c9a2cba73bf>\u001b[0m in \u001b[0;36m<module>\u001b[0;34m\u001b[0m\n\u001b[0;32m----> 1\u001b[0;31m \u001b[0;32mraise\u001b[0m\u001b[0;34m\u001b[0m\u001b[0;34m\u001b[0m\u001b[0m\n\u001b[0m",
      "\u001b[0;31mRuntimeError\u001b[0m: No active exception to reraise"
     ]
    }
   ],
   "source": [
    "raise"
   ]
  },
  {
   "cell_type": "code",
   "execution_count": null,
   "metadata": {},
   "outputs": [],
   "source": [
    "df = pd.read_csv('Data/CINC_banchmark.csv')"
   ]
  },
  {
   "cell_type": "code",
   "execution_count": null,
   "metadata": {},
   "outputs": [],
   "source": [
    "df[df['signal_idx']==10]"
   ]
  },
  {
   "cell_type": "markdown",
   "metadata": {},
   "source": [
    "## Build Dataset"
   ]
  },
  {
   "cell_type": "code",
   "execution_count": null,
   "metadata": {},
   "outputs": [],
   "source": [
    "def missing_values(df, col_name,upper_value):\n",
    "    missing_values = []\n",
    "    unique_values=df[col_name].unique()\n",
    "    for i in range(upper_value):\n",
    "        if not i in unique_values:\n",
    "            missing_values.append(i)\n",
    "    return missing_values\n",
    "\n",
    "def buid_dataset(df,threshold_PRD):\n",
    "\n",
    "    df_threshold = df[(df['accuracy']>threshold_PRD)]\n",
    "    indices = df_threshold.groupby('signal_idx',sort=False)['CG_int'].transform(max)==df_threshold['CG_int']\n",
    "    t = df_threshold[indices][['signal_idx','mse_loss','accuracy','CG_int']]\n",
    "\n",
    "    no_compression_idx = missing_values(t,'signal_idx',int(df.shape[0]/len(df['CG_int'].unique())))\n",
    "    no_compression_stats = pd.DataFrame([[x,0,1,1] for x in no_compression_idx])\n",
    "    no_compression_stats.columns = ['signal_idx','mse_loss','accuracy','CG_int']\n",
    "    t = pd.concat([no_compression_stats,t],axis=0)\n",
    "#     print(t.shape)\n",
    "    t['MIN_ACC'] = t['CG_int'].apply(lambda x: float(threshold_PRD))\n",
    "    return t\n",
    "\n",
    "def buid_dataset_by_apploss(df,threshold_appLoss):\n",
    "\n",
    "    df_threshold = df[(df['app_loss'] < threshold_appLoss)]\n",
    "    indices = df_threshold.groupby('signal_idx',sort=False)['CG_int'].transform(max)==df_threshold['CG_int']\n",
    "    t = df_threshold[indices][['signal_idx','app_loss','accuracy','CG_int']]\n",
    "\n",
    "    no_compression_idx = missing_values(t,'signal_idx',int(df.shape[0]/len(df['CG_int'].unique())))\n",
    "    no_compression_stats = pd.DataFrame([[x,0,1,1] for x in no_compression_idx])\n",
    "    no_compression_stats.columns = ['signal_idx','app_loss','accuracy','CG_int']\n",
    "    t = pd.concat([no_compression_stats,t],axis=0)\n",
    "#     print(t.shape)\n",
    "    t['MAX_LOSS'] = t['CG_int'].apply(lambda x: float(threshold_appLoss))\n",
    "    return t\n",
    "\n",
    "t = buid_dataset_by_apploss(df,0.1)\n",
    "idx = 0\n",
    "for app_loss in np.arange(0.2,2,0.1):\n",
    "#     df_threshold = df[(df['PRD']<PRD) & (df['CG_int']<64)]\n",
    "#     indices = df_threshold.groupby('signal_idx',sort=False)['CG_int'].transform(max)==df_threshold['CG_int']\n",
    "#     temp = df_threshold[indices][['signal_idx','PRD','CG_int']]\n",
    "#     temp['MAX_PRD'] = pd.Series(np.ones(x_train.shape[0])*PRD)\n",
    "    tempo = buid_dataset_by_apploss(df,app_loss)\n",
    "    t = pd.concat([tempo,t])\n",
    "    idx+=1\n",
    "    \n",
    "print(idx)"
   ]
  },
  {
   "cell_type": "code",
   "execution_count": null,
   "metadata": {},
   "outputs": [],
   "source": [
    "np.arange(0.2,2,0.1)"
   ]
  },
  {
   "cell_type": "code",
   "execution_count": null,
   "metadata": {},
   "outputs": [],
   "source": [
    "df.describe()"
   ]
  },
  {
   "cell_type": "code",
   "execution_count": null,
   "metadata": {},
   "outputs": [],
   "source": [
    "t.describe()"
   ]
  },
  {
   "cell_type": "code",
   "execution_count": null,
   "metadata": {},
   "outputs": [],
   "source": [
    "t.to_csv('Data/compressor_decsision_AppLoss.csv')"
   ]
  },
  {
   "cell_type": "markdown",
   "metadata": {},
   "source": [
    "## ACC & Residue Corelation"
   ]
  },
  {
   "cell_type": "code",
   "execution_count": null,
   "metadata": {},
   "outputs": [],
   "source": [
    "params_config['loss_weights']=[0.4,0.4]"
   ]
  },
  {
   "cell_type": "code",
   "execution_count": null,
   "metadata": {},
   "outputs": [],
   "source": [
    "CAE_32 = network_compression.init_compress_app_network(network_compression.build_comression_network_32CG,'',params_config,compile=True,u_net=False)\n",
    "CAE_32.load_weights('Models/GoodModels/CAE_CINC17CG32_loss-0.355-ACC-0.772.hdf5')"
   ]
  },
  {
   "cell_type": "code",
   "execution_count": null,
   "metadata": {},
   "outputs": [],
   "source": [
    "# thesis/Data/compressor_decsision.csv\n",
    "df = pd.read_csv('Data/CINC_banchmark.csv')\n",
    "df.head()"
   ]
  },
  {
   "cell_type": "code",
   "execution_count": null,
   "metadata": {},
   "outputs": [],
   "source": [
    "x_dev_recons = CAE_32.predict(x_dev)[0]\n",
    "normed_mse = []\n",
    "for i in range(len(x_dev)):\n",
    "    normed_mse.append(normalize_mse(x_dev[i],x_dev_recons[i])[2])\n",
    "len(normed_mse)\n",
    "CG_32_stats_df['norm_mse'] = normed_mse\n",
    "CG_32_stats_df.head()"
   ]
  },
  {
   "cell_type": "code",
   "execution_count": null,
   "metadata": {},
   "outputs": [],
   "source": [
    "CG_32_stats_df['norm_mse'] = normed_mse\n",
    "CG_32_stats_df.head()"
   ]
  },
  {
   "cell_type": "code",
   "execution_count": null,
   "metadata": {},
   "outputs": [],
   "source": [
    "df = CG_32_stats_df"
   ]
  },
  {
   "cell_type": "code",
   "execution_count": null,
   "metadata": {},
   "outputs": [],
   "source": [
    "df[(df['CG_int']==32) & (df['mse_loss']>-1) & (df['mse_loss']<50)].describe()"
   ]
  },
  {
   "cell_type": "code",
   "execution_count": null,
   "metadata": {},
   "outputs": [],
   "source": [
    "df[(df['CG_int']==32) & (df['mse_loss']>0.02) & (df['mse_loss']<0.5)].describe()"
   ]
  },
  {
   "cell_type": "code",
   "execution_count": null,
   "metadata": {},
   "outputs": [],
   "source": [
    "df[(df['CG_int']==32)].hist('accuracy',bins=50)\n",
    "df[(df['CG_int']==32)].hist('norm_mse',bins=50)"
   ]
  },
  {
   "cell_type": "code",
   "execution_count": null,
   "metadata": {},
   "outputs": [],
   "source": [
    "df[(df['CG_int']==32) & (df['mse_loss']>0.02) & (df['mse_loss']<0.5) & (df['accuracy']<0.99)].hist('accuracy',bins=50)\n",
    "df[(df['CG_int']==32) & (df['mse_loss']>0.02) & (df['mse_loss']<0.5) & (df['accuracy']<0.99)].hist('mse_loss',bins=50)"
   ]
  },
  {
   "cell_type": "code",
   "execution_count": null,
   "metadata": {},
   "outputs": [],
   "source": [
    "# accuracy = df[(df['CG_int']==32) & (df['mse_loss']>0) & (df['mse_loss']<2) & (df['accuracy']<1.99)]['accuracy']\n",
    "# mse_loss = df[(df['CG_int']==32) & (df['mse_loss']>0) & (df['mse_loss']<2) & (df['accuracy']<1.99)]['mse_loss']\n",
    "accuracy = df[(df['CG_int']==32)& (df['norm_mse']<0.008)]['accuracy']\n",
    "mse_loss = df[(df['CG_int']==32)& (df['norm_mse']<0.008)]['norm_mse']\n",
    "plt.scatter(mse_loss,accuracy)\n",
    "plt.xlabel('norm_mse')\n",
    "plt.ylabel('accuracy')"
   ]
  },
  {
   "cell_type": "code",
   "execution_count": null,
   "metadata": {},
   "outputs": [],
   "source": [
    "app_loss = df[(df['CG_int']==32)& (df['norm_mse']<0.8)]['app_loss']\n",
    "mse_loss = df[(df['CG_int']==32)& (df['norm_mse']<0.8)]['norm_mse']\n",
    "plt.scatter(mse_loss,app_loss)\n",
    "plt.xlabel('norm_mse')\n",
    "plt.ylabel('app_loss')"
   ]
  },
  {
   "cell_type": "code",
   "execution_count": null,
   "metadata": {},
   "outputs": [],
   "source": [
    "df[(df['CG_int']==32) & (df['norm_mse']>0.002) & (df['norm_mse']<0.008)].head(30)"
   ]
  },
  {
   "cell_type": "code",
   "execution_count": null,
   "metadata": {},
   "outputs": [],
   "source": [
    "df[df['signal_idx']==3]"
   ]
  },
  {
   "cell_type": "code",
   "execution_count": null,
   "metadata": {},
   "outputs": [],
   "source": [
    "from scipy.stats import pearsonr\n",
    "from scipy.stats import spearmanr\n",
    "\n",
    "from sklearn.metrics import normalized_mutual_info_score"
   ]
  },
  {
   "cell_type": "code",
   "execution_count": null,
   "metadata": {},
   "outputs": [],
   "source": [
    "np.co"
   ]
  },
  {
   "cell_type": "code",
   "execution_count": null,
   "metadata": {},
   "outputs": [],
   "source": [
    "#Pearson - Pearson’s coefficient measures linear correlation https://www.statlect.com/fundamentals-of-probability/linear-correlation\n",
    "#Spearman - like pearson but take a look at the ranking - that way we can measure more simply the monotonic properties https://en.wikipedia.org/wiki/Spearman%27s_rank_correlation_coefficient\n",
    "#normalized mutual information - \n",
    "\n",
    "print('\\n**correlation mse_loss and accuracy')\n",
    "corr, _ = pearsonr(df[(df['CG_int']==32)]['mse_loss'].values, df[df['CG_int']==32]['accuracy'].values)\n",
    "print('Pearsons correlation: %.3f' % corr)\n",
    "corr, _ = spearmanr(df[(df['CG_int']==32)]['mse_loss'].values, df[df['CG_int']==32]['accuracy'].values)\n",
    "print('Spearmans correlation: %.3f' % corr)\n",
    "\n",
    "print('\\n**correlation norm_mse and accuracy')\n",
    "corr, _ = pearsonr(df[(df['CG_int']==32)]['norm_mse'].values, df[df['CG_int']==32]['accuracy'].values)\n",
    "print('Pearsons correlation: %.3f' % corr)\n",
    "corr, _ = spearmanr(df[(df['CG_int']==32)]['norm_mse'].values, df[df['CG_int']==32]['accuracy'].values)\n",
    "print('Spearmans correlation: %.3f' % corr)\n",
    "\n",
    "print('\\n**correlation mse_loss and app_loss')\n",
    "corr, _ = pearsonr(df[(df['CG_int']==32)]['mse_loss'].values, df[df['CG_int']==32]['app_loss'].values)\n",
    "print('Pearsons correlation: %.3f' % corr)\n",
    "corr, _ = spearmanr(df[(df['CG_int']==32)]['mse_loss'].values, df[df['CG_int']==32]['app_loss'].values)\n",
    "print('Spearmans correlation: %.3f' % corr)\n",
    "\n",
    "print('\\n**correlation norm_mse and app_loss')\n",
    "corr, _ = pearsonr(df[(df['CG_int']==32)]['norm_mse'].values, df[df['CG_int']==32]['app_loss'].values)\n",
    "print('Pearsons correlation: %.3f' % corr)\n",
    "corr, _ = spearmanr(df[(df['CG_int']==32)]['norm_mse'].values, df[df['CG_int']==32]['app_loss'].values)\n",
    "print('Spearmans correlation: %.3f' % corr)\n",
    "\n",
    "print('\\n**correlation accuracy and app_loss')\n",
    "corr, _ = pearsonr(df[(df['CG_int']==32)]['accuracy'].values, df[df['CG_int']==32]['app_loss'].values)\n",
    "print('Pearsons correlation: %.3f' % corr)\n",
    "corr, _ = spearmanr(df[(df['CG_int']==32)]['accuracy'].values, df[df['CG_int']==32]['app_loss'].values)\n",
    "print('Spearmans correlation: %.3f' % corr)\n",
    "\n",
    "\n",
    "# Normalized mutual information\n",
    "# print(normalized_mutual_info_score(df[(df['CG_int']==32)]['app_loss'].values, df[df['CG_int']==32]['norm_mse'].values))\n",
    "# normalized_mutual_info_score(df[(df['CG_int']==32)]['accuracy'].values, df[df['CG_int']==32]['norm_mse'].values)"
   ]
  },
  {
   "cell_type": "code",
   "execution_count": null,
   "metadata": {},
   "outputs": [],
   "source": [
    "# print('\\n**correlation mse_loss and app_loss')\n",
    "# corr, _ = pearsonr(df[(df['CG_int']==32)]['mse_loss'].values[:301], df[(df['CG_int']==32)]['mse_loss'].values[301:])\n",
    "# print('Pearsons correlation: %.3f' % corr)\n",
    "# corr, _ = spearmanr(df[(df['CG_int']==32)]['mse_loss'].values[:301], df[(df['CG_int']==32)]['mse_loss'].values[301:])\n",
    "# print('Spearmans correlation: %.3f' % corr)"
   ]
  },
  {
   "cell_type": "code",
   "execution_count": null,
   "metadata": {},
   "outputs": [],
   "source": [
    "def normalize_mse(signal_one,signal_two):\n",
    "    signal_one = normelize_data(signal_one,0,1)\n",
    "    signal_two = normelize_data(signal_two,0,1)\n",
    "    return signal_one,signal_two,tf.keras.losses.mean_squared_error(signal_one[:,0],signal_two[:,0]).numpy()"
   ]
  },
  {
   "cell_type": "code",
   "execution_count": null,
   "metadata": {},
   "outputs": [],
   "source": [
    "#    'MSE'        'ACC'\n",
    "#51\t 0.068144\t0.914286\t\n",
    "#118 0.210998\t0.914286\n",
    "#4690 0.146381\t0.914286\t\n",
    "\n",
    "low_range = 0\n",
    "high_range = 80000\n",
    "first_index = 595\n",
    "snd_index=597\n",
    "\n",
    "# corr, _ = pearsonr(x_dev[first_index][:,0], x_dev[snd_index][:,0])\n",
    "# print('Pearsons correlation: %.3f' % corr)\n",
    "# corr, _ = spearmanr(x_dev[first_index][:,0], x_dev[snd_index][:,0])\n",
    "# print('Spearmans correlation: %.3f' % corr)\n",
    "\n",
    "signal = x_dev[first_index][low_range:high_range]\n",
    "predicted_signal = CAE_32.predict(x_dev[first_index].reshape(1,8960,1))[0][0][low_range:high_range]\n",
    "signal,predicted_signal, mse_norm = normalize_mse(signal,predicted_signal)\n",
    "plt.plot(signal)\n",
    "plt.plot(predicted_signal)\n",
    "print(df[(df['signal_idx']==first_index) & (df['CG_int']==32)][['accuracy','mse_loss']])\n",
    "print(\"normalize mse:\",mse_norm)\n",
    "plt.show()\n",
    "\n",
    "signal = x_dev[snd_index][low_range:high_range]\n",
    "predicted_signal = CAE_32.predict(x_dev[snd_index].reshape(1,8960,1))[0][0][low_range:high_range]\n",
    "signal,predicted_signal, mse_norm = normalize_mse(signal,predicted_signal)\n",
    "\n",
    "plt.plot(signal)\n",
    "plt.plot(predicted_signal)\n",
    "print(df[(df['signal_idx']==snd_index) & (df['CG_int']==32)][['accuracy','mse_loss']])\n",
    "print(\"normalize mse:\",mse_norm)\n",
    "plt.show()"
   ]
  },
  {
   "cell_type": "code",
   "execution_count": null,
   "metadata": {},
   "outputs": [],
   "source": [
    "#    'MSE'        'ACC'\n",
    "#51\t 0.068144\t0.914286\t\n",
    "#118 0.210998\t0.914286\n",
    "#4690 0.146381\t0.914286\t\n",
    "\n",
    "low_range = 0\n",
    "high_range = 2000\n",
    "first_index = 59\n",
    "snd_index=52\n",
    "\n",
    "# corr, _ = pearsonr(x_dev[first_index][:,0], x_dev[snd_index][:,0])\n",
    "# print('Pearsons correlation: %.3f' % corr)\n",
    "# corr, _ = spearmanr(x_dev[first_index][:,0], x_dev[snd_index][:,0])\n",
    "# print('Spearmans correlation: %.3f' % corr)\n",
    "\n",
    "signal = x_dev[first_index][low_range:high_range]\n",
    "predicted_signal = CAE_32.predict(x_dev[first_index].reshape(1,8960,1))[0][0][low_range:high_range]\n",
    "signal,predicted_signal, mse_norm = normalize_mse(signal,predicted_signal)\n",
    "plt.plot(signal)\n",
    "plt.plot(predicted_signal)\n",
    "print(df[(df['signal_idx']==first_index) & (df['CG_int']==32)][['accuracy','mse_loss']])\n",
    "print(\"normalize mse:\",mse_norm)\n",
    "plt.show()\n",
    "\n",
    "signal = x_dev[snd_index][low_range:high_range]\n",
    "predicted_signal = CAE_32.predict(x_dev[snd_index].reshape(1,8960,1))[0][0][low_range:high_range]\n",
    "signal,predicted_signal, mse_norm = normalize_mse(signal,predicted_signal)\n",
    "\n",
    "plt.plot(signal)\n",
    "plt.plot(predicted_signal)\n",
    "print(df[(df['signal_idx']==snd_index) & (df['CG_int']==32)][['accuracy','mse_loss']])\n",
    "print(\"normalize mse:\",mse_norm)\n",
    "plt.show()"
   ]
  },
  {
   "cell_type": "code",
   "execution_count": null,
   "metadata": {},
   "outputs": [],
   "source": [
    "#    'MSE'        'ACC'\n",
    "#51\t 0.068144\t0.914286\t\n",
    "#118 0.210998\t0.914286\n",
    "#4690 0.146381\t0.914286\t\n",
    "\n",
    "low_range = 0\n",
    "high_range = 4000\n",
    "first_index = 36\n",
    "snd_index=37\n",
    "\n",
    "# corr, _ = pearsonr(x_dev[first_index][:,0], x_dev[snd_index][:,0])\n",
    "# print('Pearsons correlation: %.3f' % corr)\n",
    "# corr, _ = spearmanr(x_dev[first_index][:,0], x_dev[snd_index][:,0])\n",
    "# print('Spearmans correlation: %.3f' % corr)\n",
    "\n",
    "signal = x_dev[first_index][low_range:high_range]\n",
    "predicted_signal = CAE_32.predict(x_dev[first_index].reshape(1,8960,1))[0][0][low_range:high_range]\n",
    "signal,predicted_signal, mse_norm = normalize_mse(signal,predicted_signal)\n",
    "plt.plot(signal)\n",
    "plt.plot(predicted_signal)\n",
    "print(df[(df['signal_idx']==first_index) & (df['CG_int']==32)][['accuracy','mse_loss']])\n",
    "print(\"normalize mse:\",mse_norm)\n",
    "plt.show()\n",
    "\n",
    "signal = x_dev[snd_index][low_range:high_range]\n",
    "predicted_signal = CAE_32.predict(x_dev[snd_index].reshape(1,8960,1))[0][0][low_range:high_range]\n",
    "signal,predicted_signal, mse_norm = normalize_mse(signal,predicted_signal)\n",
    "\n",
    "plt.plot(signal)\n",
    "plt.plot(predicted_signal)\n",
    "print(df[(df['signal_idx']==snd_index) & (df['CG_int']==32)][['accuracy','mse_loss']])\n",
    "print(\"normalize mse:\",mse_norm)\n",
    "plt.show()"
   ]
  },
  {
   "cell_type": "code",
   "execution_count": null,
   "metadata": {},
   "outputs": [],
   "source": [
    "df[(df['CG_int']==32) & (df['mse_loss']>0.02) & (df['mse_loss']<0.5) & (df['accuracy']<0.5)].head()"
   ]
  }
 ],
 "metadata": {
  "kernelspec": {
   "display_name": "tensorflow2",
   "language": "python",
   "name": "tensorflow2"
  },
  "language_info": {
   "codemirror_mode": {
    "name": "ipython",
    "version": 3
   },
   "file_extension": ".py",
   "mimetype": "text/x-python",
   "name": "python",
   "nbconvert_exporter": "python",
   "pygments_lexer": "ipython3",
   "version": "3.7.6"
  }
 },
 "nbformat": 4,
 "nbformat_minor": 4
}

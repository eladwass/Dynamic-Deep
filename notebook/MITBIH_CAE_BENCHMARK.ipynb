{
 "cells": [
  {
   "cell_type": "code",
   "execution_count": 1,
   "metadata": {},
   "outputs": [],
   "source": [
    "import numpy as np\n",
    "import json\n",
    "from pathlib import Path\n",
    "from os import listdir,getcwd,chdir,mkdir\n",
    "chdir(str(Path('..//')))"
   ]
  },
  {
   "cell_type": "code",
   "execution_count": 2,
   "metadata": {},
   "outputs": [
    {
     "name": "stdout",
     "output_type": "stream",
     "text": [
      "/home/welad1992/thesis\n"
     ]
    }
   ],
   "source": [
    "\n",
    "\n",
    "from os.path import isfile,join,exists\n",
    "import sys\n",
    "sys.path.append(join(getcwd(),str(Path('src'))))\n",
    "sys.path.append(join(getcwd(),str(Path('src/compression_funcs'))))\n",
    "sys.path.append(join(getcwd(),str(Path('src/DataLoader'))))\n",
    "sys.path.append(join(getcwd(),str(Path('src/Optimizer'))))\n",
    "import glob\n",
    "import radam\n",
    "import matplotlib.pyplot as plt\n",
    "from sklearn.model_selection import train_test_split\n",
    "import pandas as pd\n",
    "import Data_utils\n",
    "# import chebyshev_compression as cheb\n",
    "# import Adaptive_chebyshev_tests as cheb_tests\n",
    "# import Adaptive_chebyshev as adp_cheb\n",
    "# import Company_Loader as company_data_loader\n",
    "# import MIT_BIH_Loader as ecg_data_loader\n",
    "# import wfdb\n",
    "# import REDD_Loader as power_data_loader\n",
    "import scipy\n",
    "%matplotlib inline\n",
    "print(getcwd())\n",
    "from MISC.stats_utils import calc_statistics\n",
    "sys.path.append(join(getcwd(),str(Path('src/Enviroments/ExternalEnv/BioSPPy'))))\n",
    "# from LossyLessCompression import LossyLessCompression\n",
    "# from Enviroments.ExternalEnv.BioSPPy import main\n",
    "# from Enviroments.ExternalEnv.BioSPPy.biosppy.signals import ecg\n",
    "from MISC.stats_utils import calc_loss_percentage_single,normelize_data,calc_PRD,calc_PRD_matrices\n",
    "from MISC.extra_utils import reshapeECG_data\n",
    "# import torch\n",
    "# import torch.nn as nn\n",
    "# import torch.nn.functional as F\n",
    "from torch.utils import data\n",
    "# from torch.utils.tensorboard import SummaryWriter\n",
    "import MIT_BIH_Loader as mit_bih_loader\n",
    "import random\n",
    "# from MIT_BIH_Loader import Dataset_MITBIH\n",
    "from Company_Loader import Dataset\n",
    "# from wfdb import processing\n",
    "# from Company_ENV_Loader import Dataset_ENV\n",
    "# from scipy.interpolate import interp1d\n",
    "# import copy\n",
    "# from torchsummary import summary\n",
    "# wfdb.dl_database('mitdb', os.path.join(os.getcwd(), 'Data/mitdb'))\n",
    "# cudnn.benchmark = True\n",
    "pd.set_option('display.max_colwidth',10000)\n",
    "# device = torch.device('cuda' if torch.cuda.is_available() else 'cpu')\n",
    "# device"
   ]
  },
  {
   "cell_type": "code",
   "execution_count": 3,
   "metadata": {},
   "outputs": [],
   "source": [
    "from tensorflow.keras.layers import Dense, Input\n",
    "from tensorflow.keras.layers import Conv1D, Flatten, Lambda,MaxPool1D,BatchNormalization,UpSampling1D,Dropout\n",
    "from tensorflow.keras.layers import Reshape\n",
    "from tensorflow.keras.models import Model\n",
    "from tensorflow.keras.datasets import mnist\n",
    "from tensorflow.keras.losses import mse, binary_crossentropy\n",
    "from tensorflow.keras.optimizers import Adam\n",
    "from tensorflow.keras.utils import plot_model\n",
    "from tensorflow.keras import backend as K\n",
    "\n",
    "import numpy as np\n",
    "import matplotlib.pyplot as plt\n",
    "import argparse\n",
    "import os\n",
    "# import keras"
   ]
  },
  {
   "cell_type": "code",
   "execution_count": 4,
   "metadata": {},
   "outputs": [],
   "source": [
    "from Enviroments.ExternalEnv.EcgClassification.ecg import network,network_compression,network_compression_IoT\n",
    "import Enviroments.ExternalEnv.EcgClassification.ecg.load as load\n",
    "import Enviroments.ExternalEnv.EcgClassification.ecg.util as util"
   ]
  },
  {
   "cell_type": "code",
   "execution_count": 5,
   "metadata": {},
   "outputs": [],
   "source": [
    "company_path_csv = join(getcwd(),str(Path(r'Data/TheCompany/csv/temp_company.csv')))\n",
    "company_path_bin_decompressed = join(getcwd(),str(Path(r'Data/TheCompany/decompressed')))\n",
    "company_path_bin = join(getcwd(),str(Path(r'Data/TheCompany')))\n",
    "\n",
    "mit_bih_bin = join(getcwd(),str(Path(r'Data/mitdb')))\n",
    "gas_path_bin = join(getcwd(),str(Path(r'Data/GAS')))\n",
    "REDD_path_csv = join(getcwd(),str(Path(r'Data/REDD')))\n",
    "TENSORBOARD_DIR = join(getcwd(),str(Path(r'Data/tensorsumery')))\n",
    "data_path = company_path_bin\n",
    "FACTOR = 4\n",
    "WINDOW_SIZE = 2000"
   ]
  },
  {
   "cell_type": "markdown",
   "metadata": {},
   "source": [
    "## SPLIT data"
   ]
  },
  {
   "cell_type": "code",
   "execution_count": 6,
   "metadata": {},
   "outputs": [],
   "source": [
    "split_files_dir = join(getcwd(),str(Path(r'Data/MITBIH_split')))"
   ]
  },
  {
   "cell_type": "code",
   "execution_count": 7,
   "metadata": {},
   "outputs": [
    {
     "name": "stdout",
     "output_type": "stream",
     "text": [
      "size of dataset:  5184\n",
      "train: 4924 test: 260\n"
     ]
    }
   ],
   "source": [
    "BATCH_SIZE = 32\n",
    "params = {'batch_size': BATCH_SIZE,\n",
    "          'shuffle': True,\n",
    "          'num_workers': 8}\n",
    "# Datasets\n",
    "# data_set = pd.read_csv('bcg_env_dataset.csv')\n",
    "\n",
    "dir_list = glob.glob(split_files_dir+'/*.dat') #remember to normelize the data and change the data_path\n",
    "print(\"size of dataset: \", len(dir_list))\n",
    "train,val = train_test_split(dir_list,test_size=0.05,random_state=10)\n",
    "print('train:',len(train),'test:',len(val))\n",
    "partition = {'train': train, 'validation': val}\n",
    "# Generators\n",
    "training_set = Dataset(partition['train'],train,'float32',(0,1))\n",
    "training_generator = data.DataLoader(training_set, **params)\n",
    "\n",
    "validation_set = Dataset(partition['validation'], val,'float32',(0,1))\n",
    "validation_generator = data.DataLoader(validation_set, **params)\n",
    "# partition"
   ]
  },
  {
   "cell_type": "code",
   "execution_count": 8,
   "metadata": {},
   "outputs": [
    {
     "name": "stdout",
     "output_type": "stream",
     "text": [
      "8\n",
      "153\n"
     ]
    }
   ],
   "source": [
    "def load_data(Dataloader):\n",
    "    i = 0\n",
    "    data = None\n",
    "    for local_batch, local_labels in Dataloader:\n",
    "        if local_batch.size()[0]<BATCH_SIZE:\n",
    "            continue\n",
    "#         local_batch = local_batch.view(BATCH_SIZE,1,WINDOW_SIZE).to(device)\n",
    "#         print(local_batch.numpy().shape)\n",
    "        if type(data)==type(None):\n",
    "            data = local_batch.numpy()\n",
    "        else:\n",
    "            data = np.concatenate([data, local_batch.numpy()])\n",
    "        i=i+1\n",
    "    print(i)\n",
    "    return data\n",
    "x_test_pre = load_data(validation_generator)\n",
    "x_train_pre = load_data(training_generator)\n",
    "# x_train_pre.shape,x_test_pre.shape\n",
    "\n",
    "# (x_train, y_train), (x_test, y_test) = (x_train_pre,x_train_pre),(x_test_pre,x_test_pre)\n",
    "\n",
    "# image_size = x_train.shape[1]\n",
    "# x_train = np.reshape(x_train, [-1, image_size, 1])\n",
    "# x_test = np.reshape(x_test, [-1, image_size,1])\n",
    "# print(x_train.shape,x_test.shape)"
   ]
  },
  {
   "cell_type": "code",
   "execution_count": 9,
   "metadata": {},
   "outputs": [
    {
     "name": "stdout",
     "output_type": "stream",
     "text": [
      "(4896, 2000, 1)\n"
     ]
    }
   ],
   "source": [
    "(x_train, y_train),(x_test, y_test) = (x_train_pre,x_train_pre),(x_test_pre,x_test_pre)\n",
    "\n",
    "image_size = x_train.shape[1]\n",
    "x_train = np.reshape(x_train, [-1, image_size, 1])\n",
    "x_test = np.reshape(x_test, [-1, image_size,1])\n",
    "print(x_train.shape)\n",
    "\n",
    "\n"
   ]
  },
  {
   "cell_type": "markdown",
   "metadata": {},
   "source": [
    "## Present the adaptive "
   ]
  },
  {
   "cell_type": "code",
   "execution_count": 10,
   "metadata": {},
   "outputs": [
    {
     "name": "stdout",
     "output_type": "stream",
     "text": [
      "loading compression net weights\n"
     ]
    }
   ],
   "source": [
    "CAE_16 = network_compression.build_compression_network_16CG(\"Models/GoodModels/CAE_MITBIH_16CG_4.834-5.328-0.000.hdf5\",norm_output=False)"
   ]
  },
  {
   "cell_type": "code",
   "execution_count": 11,
   "metadata": {},
   "outputs": [
    {
     "name": "stdout",
     "output_type": "stream",
     "text": [
      "Model: \"CAE_16CG\"\n",
      "_________________________________________________________________\n",
      "Layer (type)                 Output Shape              Param #   \n",
      "=================================================================\n",
      "encoder_input (InputLayer)   [(None, 2000, 1)]         0         \n",
      "_________________________________________________________________\n",
      "encoder_16CG (Model)         (None, 125, 1)            133585    \n",
      "_________________________________________________________________\n",
      "Decoder_16CG (Model)         (None, 2000, 1)           16022638  \n",
      "=================================================================\n",
      "Total params: 16,156,223\n",
      "Trainable params: 16,156,127\n",
      "Non-trainable params: 96\n",
      "_________________________________________________________________\n"
     ]
    }
   ],
   "source": [
    "CAE_16.summary()"
   ]
  },
  {
   "cell_type": "code",
   "execution_count": 12,
   "metadata": {},
   "outputs": [],
   "source": [
    "# font_size=20\n",
    "# plt.figure(figsize=(20,10))\n",
    "# # plt.plot(signal)\n",
    "# plt.plot(predicted_signal[0],c='orange')\n",
    "# plt.xlabel('time',fontsize=font_size)\n",
    "# plt.ylabel('amplitude',fontsize=font_size)\n",
    "# # plt.legend(['Original','Reconstr.ucted'],fontsize=font_size)\n",
    "# # plt.title('Original vs Reconstrcuted',fontsize=font_size)\n",
    "# plt.title('Reconstrcuted Signal S_{r} CG=16',fontsize=font_size)\n",
    "# plt.grid()"
   ]
  },
  {
   "cell_type": "code",
   "execution_count": 13,
   "metadata": {},
   "outputs": [],
   "source": [
    "# low_range = 0\n",
    "# high_range = 80000\n",
    "# first_index = 200\n",
    "# snd_index=597\n",
    "\n",
    "# signal = x_test[first_index][low_range:high_range]\n",
    "# predicted_signal = CAE_16.predict(signal.reshape(1,2000,1))[low_range:high_range]\n",
    "# plt.plot(signal)\n",
    "# plt.plot(predicted_signal[0])\n",
    "# # print(df[(df['signal_idx']==first_index) & (df['CG_int']==32)][['accuracy','mse_loss']])\n",
    "# # print(\"normalize mse:\",mse_norm)\n",
    "# plt.show()\n",
    "\n",
    "# # signal = x_dev[snd_index][low_range:high_range]\n",
    "# # predicted_signal = CAE_32.predict(x_dev[snd_index].reshape(1,8960,1))[0][0][low_range:high_range]\n",
    "# # signal,predicted_signal, mse_norm = normalize_mse(signal,predicted_signal)\n",
    "\n",
    "# # plt.plot(signal)\n",
    "# # plt.plot(predicted_signal)\n",
    "# # print(df[(df['signal_idx']==snd_index) & (df['CG_int']==32)][['accuracy','mse_loss']])\n",
    "# # print(\"normalize mse:\",mse_norm)\n",
    "# # plt.show()"
   ]
  },
  {
   "cell_type": "code",
   "execution_count": 14,
   "metadata": {},
   "outputs": [
    {
     "name": "stdout",
     "output_type": "stream",
     "text": [
      "loading compression net weights\n",
      "loading compression net weights\n",
      "loading compression net weights\n",
      "loading compression net weights\n",
      "loading compression net weights\n"
     ]
    }
   ],
   "source": [
    "CAE_64 = network_compression.build_compression_network_64CG(\"Models/GoodModels/CAE_MITBIG_64CG_8.062-7.629-0.001.hdf5\",norm_output=True)\n",
    "CAE_32 = network_compression.build_comression_network_32CG(\"Models/GoodModels/CAE_MITBIH_32CG_6.578-5.686-0.001.hdf5\",norm_output=True)\n",
    "CAE_16 = network_compression.build_compression_network_16CG(\"Models/GoodModels/CAE_MITBIH_16CG_4.834-5.328-0.000.hdf5\",norm_output=False)\n",
    "model_u_net = network_compression.u_net_16_32('Models/Progressive/U_NET_32-16.hdf5')\n",
    "model_u_net_iot = network_compression.u_net_16_32('Models/Progressive/U_NET_32-16_iot-[4.76][6.14].hdf5',iot=True)\n",
    "# model_u_unet_32_64 = network_compression_IoT.u_net_32_64('Models/Progressive/U_NET_32-64-IoT_V3.hdf5', iot=True)\n"
   ]
  },
  {
   "cell_type": "code",
   "execution_count": 15,
   "metadata": {},
   "outputs": [],
   "source": [
    "# model_u_unet_32_64.summary()"
   ]
  },
  {
   "cell_type": "code",
   "execution_count": 16,
   "metadata": {},
   "outputs": [
    {
     "ename": "NameError",
     "evalue": "name 'compressor' is not defined",
     "output_type": "error",
     "traceback": [
      "\u001b[0;31m---------------------------------------------------------------------------\u001b[0m",
      "\u001b[0;31mNameError\u001b[0m                                 Traceback (most recent call last)",
      "\u001b[0;32m<ipython-input-16-d483d54866b9>\u001b[0m in \u001b[0;36m<module>\u001b[0;34m\u001b[0m\n\u001b[0;32m----> 1\u001b[0;31m \u001b[0mcompressor\u001b[0m\u001b[0;34m.\u001b[0m\u001b[0mpredict\u001b[0m\u001b[0;34m(\u001b[0m\u001b[0msignal\u001b[0m\u001b[0;34m.\u001b[0m\u001b[0mreshape\u001b[0m\u001b[0;34m(\u001b[0m\u001b[0;36m1\u001b[0m\u001b[0;34m,\u001b[0m\u001b[0;36m2000\u001b[0m\u001b[0;34m,\u001b[0m\u001b[0;36m1\u001b[0m\u001b[0;34m)\u001b[0m\u001b[0;34m)\u001b[0m\u001b[0;34m\u001b[0m\u001b[0;34m\u001b[0m\u001b[0m\n\u001b[0m",
      "\u001b[0;31mNameError\u001b[0m: name 'compressor' is not defined"
     ]
    }
   ],
   "source": []
  },
  {
   "cell_type": "code",
   "execution_count": 18,
   "metadata": {},
   "outputs": [],
   "source": [
    "raw_data = x_test\n",
    "\n",
    "compression_methods = [CAE_16,CAE_32,CAE_64]\n",
    "stats = []\n",
    "for idx,signal in enumerate(raw_data):\n",
    "    for compressor in compression_methods:\n",
    "        decompressed = compressor.predict(signal.reshape(1,2000,1))[0]\n",
    "        PRD = calc_PRD(signal,decompressed)\n",
    "        stats.append([idx,signal,PRD,compressor.name])\n",
    "\n",
    "    decompressed_16,decompressed_32 = model_u_net.predict(signal.reshape(1,2000,1))\n",
    "    for decompressed,name in zip([decompressed_16[0],decompressed_32[0]],['u_net-16','u_net-32']):\n",
    "        PRD = calc_PRD(signal,decompressed)\n",
    "        stats.append([idx,signal,PRD,name])\n",
    "        \n",
    "    decompressed_16,decompressed_32 = model_u_net_iot.predict(signal.reshape(1,2000,1))\n",
    "    for decompressed,name in zip([decompressed_16[0],decompressed_32[0]],['u_net-16_iot','u_net-32_iot']):\n",
    "        PRD = calc_PRD(signal,decompressed)\n",
    "        stats.append([idx,signal,PRD,name])\n",
    "        \n",
    "#     decompressed_32,decompressed_64 = model_u_unet_32_64.predict(signal.reshape(1,2000,1))\n",
    "#     for decompressed,name in zip([decompressed_32[0],decompressed_64[0]],['u_net-32_iot','u_net-64_iot']):\n",
    "#         PRD = calc_PRD(signal,decompressed)\n",
    "#         stats.append([idx,signal,PRD,name])"
   ]
  },
  {
   "cell_type": "code",
   "execution_count": 19,
   "metadata": {},
   "outputs": [
    {
     "data": {
      "text/html": [
       "<div>\n",
       "<style scoped>\n",
       "    .dataframe tbody tr th:only-of-type {\n",
       "        vertical-align: middle;\n",
       "    }\n",
       "\n",
       "    .dataframe tbody tr th {\n",
       "        vertical-align: top;\n",
       "    }\n",
       "\n",
       "    .dataframe thead th {\n",
       "        text-align: right;\n",
       "    }\n",
       "</style>\n",
       "<table border=\"1\" class=\"dataframe\">\n",
       "  <thead>\n",
       "    <tr style=\"text-align: right;\">\n",
       "      <th></th>\n",
       "      <th>signal_idx</th>\n",
       "      <th>PRD</th>\n",
       "      <th>CG_int</th>\n",
       "    </tr>\n",
       "  </thead>\n",
       "  <tbody>\n",
       "    <tr>\n",
       "      <th>count</th>\n",
       "      <td>1792.000000</td>\n",
       "      <td>1792.000000</td>\n",
       "      <td>1792.000000</td>\n",
       "    </tr>\n",
       "    <tr>\n",
       "      <th>mean</th>\n",
       "      <td>127.500000</td>\n",
       "      <td>4.923777</td>\n",
       "      <td>29.714286</td>\n",
       "    </tr>\n",
       "    <tr>\n",
       "      <th>std</th>\n",
       "      <td>73.920899</td>\n",
       "      <td>2.821816</td>\n",
       "      <td>15.840313</td>\n",
       "    </tr>\n",
       "    <tr>\n",
       "      <th>min</th>\n",
       "      <td>0.000000</td>\n",
       "      <td>1.099947</td>\n",
       "      <td>16.000000</td>\n",
       "    </tr>\n",
       "    <tr>\n",
       "      <th>25%</th>\n",
       "      <td>63.750000</td>\n",
       "      <td>3.343863</td>\n",
       "      <td>16.000000</td>\n",
       "    </tr>\n",
       "    <tr>\n",
       "      <th>50%</th>\n",
       "      <td>127.500000</td>\n",
       "      <td>4.209694</td>\n",
       "      <td>32.000000</td>\n",
       "    </tr>\n",
       "    <tr>\n",
       "      <th>75%</th>\n",
       "      <td>191.250000</td>\n",
       "      <td>5.556546</td>\n",
       "      <td>32.000000</td>\n",
       "    </tr>\n",
       "    <tr>\n",
       "      <th>max</th>\n",
       "      <td>255.000000</td>\n",
       "      <td>30.630939</td>\n",
       "      <td>64.000000</td>\n",
       "    </tr>\n",
       "  </tbody>\n",
       "</table>\n",
       "</div>"
      ],
      "text/plain": [
       "        signal_idx          PRD       CG_int\n",
       "count  1792.000000  1792.000000  1792.000000\n",
       "mean    127.500000     4.923777    29.714286\n",
       "std      73.920899     2.821816    15.840313\n",
       "min       0.000000     1.099947    16.000000\n",
       "25%      63.750000     3.343863    16.000000\n",
       "50%     127.500000     4.209694    32.000000\n",
       "75%     191.250000     5.556546    32.000000\n",
       "max     255.000000    30.630939    64.000000"
      ]
     },
     "execution_count": 19,
     "metadata": {},
     "output_type": "execute_result"
    }
   ],
   "source": [
    "text2num = {'CAE_32CG':32,'CAE_16CG':16,'CAE_64CG':64,'CAE_32CG_lightweight':32,'CAE_16CG_lightweight':16,'CAE_64CG_lightweight':64,'u_net-16':16,'u_net-32':32,'u_net-16_iot':16,'u_net-32_iot':32,'u_net-64_iot':64}\n",
    "df = pd.DataFrame(stats)\n",
    "df.columns=['signal_idx','signal','PRD','CG']\n",
    "df['CG_int'] = df['CG'].apply(lambda x:text2num[x])\n",
    "df.describe()"
   ]
  },
  {
   "cell_type": "code",
   "execution_count": 20,
   "metadata": {},
   "outputs": [
    {
     "data": {
      "image/png": "[encoded data removed]",
      "text/plain": [
       "<Figure size 720x576 with 1 Axes>"
      ]
     },
     "metadata": {
      "needs_background": "light"
     },
     "output_type": "display_data"
    }
   ],
   "source": [
    "bp = df.boxplot('PRD',by='CG',return_type='both',showmeans=True,showfliers=False,fontsize=12,figsize=(10,8))"
   ]
  },
  {
   "cell_type": "code",
   "execution_count": 21,
   "metadata": {},
   "outputs": [],
   "source": [
    "df_basic = df[(df['CG']!='u_net-16') & (df['CG']!='u_net-32') & (df['CG']!='u_net-16_iot') & (df['CG']!='u_net-32_iot')]"
   ]
  },
  {
   "cell_type": "code",
   "execution_count": 22,
   "metadata": {},
   "outputs": [
    {
     "data": {
      "text/html": [
       "<div>\n",
       "<style scoped>\n",
       "    .dataframe tbody tr th:only-of-type {\n",
       "        vertical-align: middle;\n",
       "    }\n",
       "\n",
       "    .dataframe tbody tr th {\n",
       "        vertical-align: top;\n",
       "    }\n",
       "\n",
       "    .dataframe thead th {\n",
       "        text-align: right;\n",
       "    }\n",
       "</style>\n",
       "<table border=\"1\" class=\"dataframe\">\n",
       "  <thead>\n",
       "    <tr style=\"text-align: right;\">\n",
       "      <th></th>\n",
       "      <th>signal_idx</th>\n",
       "      <th>signal</th>\n",
       "      <th>PRD</th>\n",
       "      <th>CG</th>\n",
       "      <th>CG_int</th>\n",
       "    </tr>\n",
       "  </thead>\n",
       "  <tbody>\n",
       "    <tr>\n",
       "      <th>0</th>\n",
       "      <td>0</td>\n",
       "      <td>[[0.34408602], [0.34408602], [0.3373656], [0.33870968], [0.3373656], [0.3346774], [0.3360215], [0.33870968], [0.33870968], [0.33870968], [0.3360215], [0.33870968], [0.3373656], [0.3346774], [0.3346774], [0.3360215], [0.3360215], [0.3360215], [0.3373656], [0.3373656], [0.3373656], [0.3360215], [0.3346774], [0.3373656], [0.3373656], [0.33333334], [0.3346774], [0.33333334], [0.33333334], [0.3373656], [0.3373656], [0.33870968], [0.3346774], [0.3373656], [0.34005377], [0.3373656], [0.3360215], [0.33198923], [0.327957], [0.33064517], [0.33064517], [0.3346774], [0.3373656], [0.34005377], [0.34274194], [0.34139785], [0.34408602], [0.34005377], [0.3373656], [0.34005377], [0.33333334], [0.3346774], [0.3360215], [0.3346774], [0.34139785], [0.34274194], [0.3454301], [0.35080644], [0.3534946], [0.3534946], [0.35618284], [0.36021504], [0.35752687], [0.36021504], [0.36021504], [0.36021504], [0.36693552], [0.36693552], [0.37365595], [0.3763441], [0.3763441], [0.37096778], [0.36155918], [0.3534946], [0.35215053], [0.35080644], [0.3467742], [0.35080644], [0.35215053], [0.35618284], [0.35752687], [0.35618284], [0.3534946], [0.34946236], [0.34274194], [0.34005377], [0.3373656], [0.33198923], [0.3360215], [0.3360215], [0.33870968], [0.3454301], [0.34274194], [0.3534946], [0.35618284], [0.36693552], [0.37231186], [0.3857527], [0.405914], [0.436828], ...]</td>\n",
       "      <td>2.475880</td>\n",
       "      <td>CAE_16CG</td>\n",
       "      <td>16</td>\n",
       "    </tr>\n",
       "    <tr>\n",
       "      <th>1</th>\n",
       "      <td>0</td>\n",
       "      <td>[[0.34408602], [0.34408602], [0.3373656], [0.33870968], [0.3373656], [0.3346774], [0.3360215], [0.33870968], [0.33870968], [0.33870968], [0.3360215], [0.33870968], [0.3373656], [0.3346774], [0.3346774], [0.3360215], [0.3360215], [0.3360215], [0.3373656], [0.3373656], [0.3373656], [0.3360215], [0.3346774], [0.3373656], [0.3373656], [0.33333334], [0.3346774], [0.33333334], [0.33333334], [0.3373656], [0.3373656], [0.33870968], [0.3346774], [0.3373656], [0.34005377], [0.3373656], [0.3360215], [0.33198923], [0.327957], [0.33064517], [0.33064517], [0.3346774], [0.3373656], [0.34005377], [0.34274194], [0.34139785], [0.34408602], [0.34005377], [0.3373656], [0.34005377], [0.33333334], [0.3346774], [0.3360215], [0.3346774], [0.34139785], [0.34274194], [0.3454301], [0.35080644], [0.3534946], [0.3534946], [0.35618284], [0.36021504], [0.35752687], [0.36021504], [0.36021504], [0.36021504], [0.36693552], [0.36693552], [0.37365595], [0.3763441], [0.3763441], [0.37096778], [0.36155918], [0.3534946], [0.35215053], [0.35080644], [0.3467742], [0.35080644], [0.35215053], [0.35618284], [0.35752687], [0.35618284], [0.3534946], [0.34946236], [0.34274194], [0.34005377], [0.3373656], [0.33198923], [0.3360215], [0.3360215], [0.33870968], [0.3454301], [0.34274194], [0.3534946], [0.35618284], [0.36693552], [0.37231186], [0.3857527], [0.405914], [0.436828], ...]</td>\n",
       "      <td>4.147525</td>\n",
       "      <td>CAE_32CG</td>\n",
       "      <td>32</td>\n",
       "    </tr>\n",
       "    <tr>\n",
       "      <th>7</th>\n",
       "      <td>1</td>\n",
       "      <td>[[0.25870648], [0.252073], [0.24212274], [0.22719736], [0.21558872], [0.20563848], [0.20232174], [0.20066336], [0.20398012], [0.20398012], [0.19071311], [0.18242124], [0.17910448], [0.17910448], [0.18242124], [0.1774461], [0.1774461], [0.16749586], [0.16915423], [0.16583748], [0.1708126], [0.16749586], [0.15920398], [0.15257049], [0.1509121], [0.16252074], [0.16086237], [0.15588723], [0.14925374], [0.14925374], [0.15257049], [0.16417912], [0.17247099], [0.17247099], [0.16915423], [0.16915423], [0.1774461], [0.18407962], [0.18573798], [0.18407962], [0.18573798], [0.17910448], [0.18573798], [0.19402985], [0.1973466], [0.199005], [0.19568823], [0.199005], [0.199005], [0.20563848], [0.21227197], [0.21227197], [0.21227197], [0.2172471], [0.22056386], [0.21558872], [0.21061361], [0.20729686], [0.20563848], [0.20729686], [0.20398012], [0.20895523], [0.20729686], [0.20232174], [0.19402985], [0.18573798], [0.18407962], [0.18242124], [0.18905473], [0.19568823], [0.19402985], [0.18739636], [0.18905473], [0.18573798], [0.18739636], [0.18407962], [0.17412935], [0.16749586], [0.16915423], [0.16417912], [0.16749586], [0.16417912], [0.15920398], [0.15920398], [0.15422885], [0.15920398], [0.16417912], [0.16086237], [0.16252074], [0.16086237], [0.16583748], [0.16583748], [0.17247099], [0.17578773], [0.16749586], [0.16749586], [0.16252074], [0.16417912], [0.16749586], [0.1708126], ...]</td>\n",
       "      <td>3.430751</td>\n",
       "      <td>CAE_16CG</td>\n",
       "      <td>16</td>\n",
       "    </tr>\n",
       "    <tr>\n",
       "      <th>8</th>\n",
       "      <td>1</td>\n",
       "      <td>[[0.25870648], [0.252073], [0.24212274], [0.22719736], [0.21558872], [0.20563848], [0.20232174], [0.20066336], [0.20398012], [0.20398012], [0.19071311], [0.18242124], [0.17910448], [0.17910448], [0.18242124], [0.1774461], [0.1774461], [0.16749586], [0.16915423], [0.16583748], [0.1708126], [0.16749586], [0.15920398], [0.15257049], [0.1509121], [0.16252074], [0.16086237], [0.15588723], [0.14925374], [0.14925374], [0.15257049], [0.16417912], [0.17247099], [0.17247099], [0.16915423], [0.16915423], [0.1774461], [0.18407962], [0.18573798], [0.18407962], [0.18573798], [0.17910448], [0.18573798], [0.19402985], [0.1973466], [0.199005], [0.19568823], [0.199005], [0.199005], [0.20563848], [0.21227197], [0.21227197], [0.21227197], [0.2172471], [0.22056386], [0.21558872], [0.21061361], [0.20729686], [0.20563848], [0.20729686], [0.20398012], [0.20895523], [0.20729686], [0.20232174], [0.19402985], [0.18573798], [0.18407962], [0.18242124], [0.18905473], [0.19568823], [0.19402985], [0.18739636], [0.18905473], [0.18573798], [0.18739636], [0.18407962], [0.17412935], [0.16749586], [0.16915423], [0.16417912], [0.16749586], [0.16417912], [0.15920398], [0.15920398], [0.15422885], [0.15920398], [0.16417912], [0.16086237], [0.16252074], [0.16086237], [0.16583748], [0.16583748], [0.17247099], [0.17578773], [0.16749586], [0.16749586], [0.16252074], [0.16417912], [0.16749586], [0.1708126], ...]</td>\n",
       "      <td>4.778826</td>\n",
       "      <td>CAE_32CG</td>\n",
       "      <td>32</td>\n",
       "    </tr>\n",
       "    <tr>\n",
       "      <th>14</th>\n",
       "      <td>2</td>\n",
       "      <td>[[0.7304964], [0.7234042], [0.7304964], [0.7446808], [0.7541371], [0.75886524], [0.7399527], [0.73522455], [0.7328605], [0.7304964], [0.7304964], [0.73522455], [0.7328605], [0.73522455], [0.7399527], [0.7541371], [0.751773], [0.7446808], [0.73522455], [0.7446808], [0.75886524], [0.7683215], [0.7635934], [0.7565012], [0.751773], [0.7541371], [0.751773], [0.76122934], [0.751773], [0.73758864], [0.7328605], [0.7257683], [0.72813237], [0.7115839], [0.69503546], [0.6643026], [0.6217494], [0.56737584], [0.5295508], [0.501182], [0.48699763], [0.44917256], [0.36879432], [0.26241133], [0.15602833], [0.11111112], [0.120567374], [0.13947989], [0.15366426], [0.17966902], [0.23167849], [0.28605202], [0.3427896], [0.4042553], [0.4609929], [0.50591016], [0.5437352], [0.57919616], [0.60283685], [0.6193853], [0.6453901], [0.6879432], [0.7234042], [0.7659575], [0.78250587], [0.7895981], [0.787234], [0.78250587], [0.7895981], [0.7943262], [0.80378246], [0.7966903], [0.7943262], [0.7990543], [0.80614656], [0.80378246], [0.80378246], [0.7990543], [0.79196215], [0.80378246], [0.81560284], [0.82742316], [0.83451533], [0.82978725], [0.82742316], [0.822695], [0.8321513], [0.8392435], [0.8416076], [0.83451533], [0.82978725], [0.83451533], [0.8557919], [0.8747044], [0.8794326], [0.8652482], [0.86052006], [0.8676123], [0.8770686], [0.88416076], ...]</td>\n",
       "      <td>2.825193</td>\n",
       "      <td>CAE_16CG</td>\n",
       "      <td>16</td>\n",
       "    </tr>\n",
       "  </tbody>\n",
       "</table>\n",
       "</div>"
      ],
      "text/plain": [
       "    signal_idx  \\\n",
       "0            0   \n",
       "1            0   \n",
       "7            1   \n",
       "8            1   \n",
       "14           2   \n",
       "\n",
       "                                                                                                                                                                                                                                                                                                                                                                                                                                                                                                                                                                                                                                                                                                                                                                                                                                                                                                                                                                                                                                                                                                                                                                                                                                                                                                                                                                                                                                           signal  \\\n",
       "0                                      [[0.34408602], [0.34408602], [0.3373656], [0.33870968], [0.3373656], [0.3346774], [0.3360215], [0.33870968], [0.33870968], [0.33870968], [0.3360215], [0.33870968], [0.3373656], [0.3346774], [0.3346774], [0.3360215], [0.3360215], [0.3360215], [0.3373656], [0.3373656], [0.3373656], [0.3360215], [0.3346774], [0.3373656], [0.3373656], [0.33333334], [0.3346774], [0.33333334], [0.33333334], [0.3373656], [0.3373656], [0.33870968], [0.3346774], [0.3373656], [0.34005377], [0.3373656], [0.3360215], [0.33198923], [0.327957], [0.33064517], [0.33064517], [0.3346774], [0.3373656], [0.34005377], [0.34274194], [0.34139785], [0.34408602], [0.34005377], [0.3373656], [0.34005377], [0.33333334], [0.3346774], [0.3360215], [0.3346774], [0.34139785], [0.34274194], [0.3454301], [0.35080644], [0.3534946], [0.3534946], [0.35618284], [0.36021504], [0.35752687], [0.36021504], [0.36021504], [0.36021504], [0.36693552], [0.36693552], [0.37365595], [0.3763441], [0.3763441], [0.37096778], [0.36155918], [0.3534946], [0.35215053], [0.35080644], [0.3467742], [0.35080644], [0.35215053], [0.35618284], [0.35752687], [0.35618284], [0.3534946], [0.34946236], [0.34274194], [0.34005377], [0.3373656], [0.33198923], [0.3360215], [0.3360215], [0.33870968], [0.3454301], [0.34274194], [0.3534946], [0.35618284], [0.36693552], [0.37231186], [0.3857527], [0.405914], [0.436828], ...]   \n",
       "1                                      [[0.34408602], [0.34408602], [0.3373656], [0.33870968], [0.3373656], [0.3346774], [0.3360215], [0.33870968], [0.33870968], [0.33870968], [0.3360215], [0.33870968], [0.3373656], [0.3346774], [0.3346774], [0.3360215], [0.3360215], [0.3360215], [0.3373656], [0.3373656], [0.3373656], [0.3360215], [0.3346774], [0.3373656], [0.3373656], [0.33333334], [0.3346774], [0.33333334], [0.33333334], [0.3373656], [0.3373656], [0.33870968], [0.3346774], [0.3373656], [0.34005377], [0.3373656], [0.3360215], [0.33198923], [0.327957], [0.33064517], [0.33064517], [0.3346774], [0.3373656], [0.34005377], [0.34274194], [0.34139785], [0.34408602], [0.34005377], [0.3373656], [0.34005377], [0.33333334], [0.3346774], [0.3360215], [0.3346774], [0.34139785], [0.34274194], [0.3454301], [0.35080644], [0.3534946], [0.3534946], [0.35618284], [0.36021504], [0.35752687], [0.36021504], [0.36021504], [0.36021504], [0.36693552], [0.36693552], [0.37365595], [0.3763441], [0.3763441], [0.37096778], [0.36155918], [0.3534946], [0.35215053], [0.35080644], [0.3467742], [0.35080644], [0.35215053], [0.35618284], [0.35752687], [0.35618284], [0.3534946], [0.34946236], [0.34274194], [0.34005377], [0.3373656], [0.33198923], [0.3360215], [0.3360215], [0.33870968], [0.3454301], [0.34274194], [0.3534946], [0.35618284], [0.36693552], [0.37231186], [0.3857527], [0.405914], [0.436828], ...]   \n",
       "7   [[0.25870648], [0.252073], [0.24212274], [0.22719736], [0.21558872], [0.20563848], [0.20232174], [0.20066336], [0.20398012], [0.20398012], [0.19071311], [0.18242124], [0.17910448], [0.17910448], [0.18242124], [0.1774461], [0.1774461], [0.16749586], [0.16915423], [0.16583748], [0.1708126], [0.16749586], [0.15920398], [0.15257049], [0.1509121], [0.16252074], [0.16086237], [0.15588723], [0.14925374], [0.14925374], [0.15257049], [0.16417912], [0.17247099], [0.17247099], [0.16915423], [0.16915423], [0.1774461], [0.18407962], [0.18573798], [0.18407962], [0.18573798], [0.17910448], [0.18573798], [0.19402985], [0.1973466], [0.199005], [0.19568823], [0.199005], [0.199005], [0.20563848], [0.21227197], [0.21227197], [0.21227197], [0.2172471], [0.22056386], [0.21558872], [0.21061361], [0.20729686], [0.20563848], [0.20729686], [0.20398012], [0.20895523], [0.20729686], [0.20232174], [0.19402985], [0.18573798], [0.18407962], [0.18242124], [0.18905473], [0.19568823], [0.19402985], [0.18739636], [0.18905473], [0.18573798], [0.18739636], [0.18407962], [0.17412935], [0.16749586], [0.16915423], [0.16417912], [0.16749586], [0.16417912], [0.15920398], [0.15920398], [0.15422885], [0.15920398], [0.16417912], [0.16086237], [0.16252074], [0.16086237], [0.16583748], [0.16583748], [0.17247099], [0.17578773], [0.16749586], [0.16749586], [0.16252074], [0.16417912], [0.16749586], [0.1708126], ...]   \n",
       "8   [[0.25870648], [0.252073], [0.24212274], [0.22719736], [0.21558872], [0.20563848], [0.20232174], [0.20066336], [0.20398012], [0.20398012], [0.19071311], [0.18242124], [0.17910448], [0.17910448], [0.18242124], [0.1774461], [0.1774461], [0.16749586], [0.16915423], [0.16583748], [0.1708126], [0.16749586], [0.15920398], [0.15257049], [0.1509121], [0.16252074], [0.16086237], [0.15588723], [0.14925374], [0.14925374], [0.15257049], [0.16417912], [0.17247099], [0.17247099], [0.16915423], [0.16915423], [0.1774461], [0.18407962], [0.18573798], [0.18407962], [0.18573798], [0.17910448], [0.18573798], [0.19402985], [0.1973466], [0.199005], [0.19568823], [0.199005], [0.199005], [0.20563848], [0.21227197], [0.21227197], [0.21227197], [0.2172471], [0.22056386], [0.21558872], [0.21061361], [0.20729686], [0.20563848], [0.20729686], [0.20398012], [0.20895523], [0.20729686], [0.20232174], [0.19402985], [0.18573798], [0.18407962], [0.18242124], [0.18905473], [0.19568823], [0.19402985], [0.18739636], [0.18905473], [0.18573798], [0.18739636], [0.18407962], [0.17412935], [0.16749586], [0.16915423], [0.16417912], [0.16749586], [0.16417912], [0.15920398], [0.15920398], [0.15422885], [0.15920398], [0.16417912], [0.16086237], [0.16252074], [0.16086237], [0.16583748], [0.16583748], [0.17247099], [0.17578773], [0.16749586], [0.16749586], [0.16252074], [0.16417912], [0.16749586], [0.1708126], ...]   \n",
       "14                                                [[0.7304964], [0.7234042], [0.7304964], [0.7446808], [0.7541371], [0.75886524], [0.7399527], [0.73522455], [0.7328605], [0.7304964], [0.7304964], [0.73522455], [0.7328605], [0.73522455], [0.7399527], [0.7541371], [0.751773], [0.7446808], [0.73522455], [0.7446808], [0.75886524], [0.7683215], [0.7635934], [0.7565012], [0.751773], [0.7541371], [0.751773], [0.76122934], [0.751773], [0.73758864], [0.7328605], [0.7257683], [0.72813237], [0.7115839], [0.69503546], [0.6643026], [0.6217494], [0.56737584], [0.5295508], [0.501182], [0.48699763], [0.44917256], [0.36879432], [0.26241133], [0.15602833], [0.11111112], [0.120567374], [0.13947989], [0.15366426], [0.17966902], [0.23167849], [0.28605202], [0.3427896], [0.4042553], [0.4609929], [0.50591016], [0.5437352], [0.57919616], [0.60283685], [0.6193853], [0.6453901], [0.6879432], [0.7234042], [0.7659575], [0.78250587], [0.7895981], [0.787234], [0.78250587], [0.7895981], [0.7943262], [0.80378246], [0.7966903], [0.7943262], [0.7990543], [0.80614656], [0.80378246], [0.80378246], [0.7990543], [0.79196215], [0.80378246], [0.81560284], [0.82742316], [0.83451533], [0.82978725], [0.82742316], [0.822695], [0.8321513], [0.8392435], [0.8416076], [0.83451533], [0.82978725], [0.83451533], [0.8557919], [0.8747044], [0.8794326], [0.8652482], [0.86052006], [0.8676123], [0.8770686], [0.88416076], ...]   \n",
       "\n",
       "         PRD        CG  CG_int  \n",
       "0   2.475880  CAE_16CG      16  \n",
       "1   4.147525  CAE_32CG      32  \n",
       "7   3.430751  CAE_16CG      16  \n",
       "8   4.778826  CAE_32CG      32  \n",
       "14  2.825193  CAE_16CG      16  "
      ]
     },
     "execution_count": 22,
     "metadata": {},
     "output_type": "execute_result"
    }
   ],
   "source": [
    "df_basic[df_basic['CG_int']<64].head()"
   ]
  },
  {
   "cell_type": "code",
   "execution_count": 27,
   "metadata": {},
   "outputs": [],
   "source": [
    "num_of_samples = x_test.shape[0]\n",
    "def adaptive_compression(df, threshold_PRD,base_factor=1):\n",
    "    df_threshold = df[df['PRD']<threshold_PRD]\n",
    "    indices = df_threshold.groupby('signal_idx',sort=False)['CG_int'].transform(max)==df_threshold['CG_int']\n",
    "    \n",
    "    if len(indices)==0:\n",
    "        num_satisfied_PRD_indices = 0\n",
    "        avg_prd = 0\n",
    "        meanCG = base_factor\n",
    "\n",
    "    else:\n",
    "        num_satisfied_PRD_indices = indices.value_counts()[True]\n",
    "        avg_prd = (num_satisfied_PRD_indices/num_of_samples)*df_threshold[indices]['PRD'].mean()\n",
    "        meanCG = ((num_of_samples-num_satisfied_PRD_indices)/num_of_samples)*base_factor + (num_satisfied_PRD_indices/num_of_samples)*df_threshold[indices]['CG_int'].mean()\n",
    "    \n",
    "    return avg_prd,meanCG\n",
    "\n",
    "\n",
    "static_SOTA_64={'prd':[],'cg':[],'REALPRD':[]}\n",
    "static_SOTA_32={'prd':[],'cg':[],'REALPRD':[]}\n",
    "static_SOTA_16={'prd':[],'cg':[],'REALPRD':[]}\n",
    "adap_cg_min1_max32 = {'prd':[],'cg':[],'REALPRD':[]}\n",
    "adap_cg_min1_max32_unet = {'prd':[],'cg':[],'REALPRD':[]}\n",
    "adap_cg_min1_max32_unet_iot = {'prd':[],'cg':[],'REALPRD':[]}\n",
    "adap_cg_min1_max64 = {'prd':[],'cg':[],'REALPRD':[]}\n",
    "# adap_cg_min32 = []\n",
    "for PRD in np.arange(2.2,7.5,0.2):\n",
    "#     static_SOTA_16['cg'].append(adaptive_compression(df_basic[df_basic['CG_int']==16],PRD,1)[1])\n",
    "#     static_SOTA_32['cg'].append(adaptive_compression(df_basic[df_basic['CG_int']==32],PRD,1)[1])\n",
    "#     static_SOTA_64['cg'].append(adaptive_compression(df_basic[df_basic['CG_int']==64],PRD,1)[1])\n",
    "#     adap_cg_min1_max32['cg'].append(adaptive_compression(df_basic[df_basic['CG_int']<64],PRD,1)[1])\n",
    "#     adap_cg_min1_max32_unet['cg'].append(adaptive_compression(df[(df['CG']=='u_net-16') | (df['CG']=='u_net-32')],PRD,1)[1])\n",
    "#     adap_cg_min1_max32_unet_iot['cg'].append(adaptive_compression(df[(df['CG']=='u_net-16_iot') | (df['CG']=='u_net-32_iot')],PRD,1)[1])\n",
    "#     adap_cg_min1_max64['cg'].append(adaptive_compression(df_basic,PRD,1)[1])\n",
    "    \n",
    "    prd,cg = adaptive_compression(df_basic[df_basic['CG_int']==16],PRD,1)\n",
    "    static_SOTA_16['prd'].append(prd)\n",
    "    static_SOTA_16['cg'].append(cg)\n",
    "    static_SOTA_16['REALPRD'].append(PRD)\n",
    "    \n",
    "    \n",
    "    prd,cg = adaptive_compression(df_basic[df_basic['CG_int']==32],PRD,1)\n",
    "    static_SOTA_32['prd'].append(prd)\n",
    "    static_SOTA_32['cg'].append(cg)\n",
    "    static_SOTA_32['REALPRD'].append(PRD)\n",
    "    \n",
    "#     prd,cg = adaptive_compression(df[df['CG_int']==64],PRD,1)\n",
    "#     static_SOTA_64['prd'].append(prd)\n",
    "#     static_SOTA_64['cg'].append(cg)\n",
    "    \n",
    "    prd,cg = adaptive_compression(df_basic[df_basic['CG_int']<65],PRD,1)\n",
    "    adap_cg_min1_max32['prd'].append(prd)\n",
    "    adap_cg_min1_max32['cg'].append(cg)\n",
    "    adap_cg_min1_max32['REALPRD'].append(PRD)\n",
    "\n",
    "#     adap_cg_min32.append(adaptive_compression(df[df['CG_int']>31],PRD,32))\n"
   ]
  },
  {
   "cell_type": "code",
   "execution_count": 28,
   "metadata": {},
   "outputs": [
    {
     "data": {
      "text/plain": [
       "Text(0.5, 1.0, 'Adaptive CG as func of PRD loss')"
      ]
     },
     "execution_count": 28,
     "metadata": {},
     "output_type": "execute_result"
    },
    {
     "data": {
      "image/png": "[encoded data removed]",
      "text/plain": [
       "<Figure size 432x288 with 1 Axes>"
      ]
     },
     "metadata": {
      "needs_background": "light"
     },
     "output_type": "display_data"
    }
   ],
   "source": [
    "plt.plot(np.arange(2.2,7.5,0.2),adap_cg_min1_max32['cg'],'b')\n",
    "# plt.plot(np.arange(2,10,0.2),adap_cg_min1_max32_unet['cg'],'r')\n",
    "# plt.plot(np.arange(2,10,0.2),adap_cg_min1_max64['cg'],'y')\n",
    "plt.plot(np.arange(2.2,7.5,0.2),static_SOTA_16['cg'],'m')\n",
    "plt.plot(np.arange(2.2,7.5,0.2),static_SOTA_32['cg'])\n",
    "# plt.plot(np.arange(2,10,0.2),static_SOTA_64['cg'])\n",
    "plt\n",
    "plt.legend(['adap CG max 32','adap CG max32 u_net','adap CG max 64','static CG=16','static CG=32','static CG=64'])\n",
    "plt.yticks(np.arange(0, 65, 5))\n",
    "plt.xlabel('PRD loss')\n",
    "plt.ylabel('Avg CG')\n",
    "plt.grid()\n",
    "plt.title('Adaptive CG as func of PRD loss')"
   ]
  },
  {
   "cell_type": "code",
   "execution_count": 33,
   "metadata": {},
   "outputs": [
    {
     "data": {
      "text/plain": [
       "{'prd': [0,\n",
       "  0.027556936160406394,\n",
       "  0.07656493374306818,\n",
       "  0.2033499646675058,\n",
       "  0.5801403122400518,\n",
       "  0.9434637992747132,\n",
       "  1.3243188301044124,\n",
       "  1.6944526307215853,\n",
       "  2.1429361768623636,\n",
       "  2.4520485058989863,\n",
       "  2.755504020521225,\n",
       "  3.1039278222568853,\n",
       "  3.3223953764240832,\n",
       "  3.5831339437035497,\n",
       "  3.8185476527621773,\n",
       "  3.9679351584366196,\n",
       "  4.177211176168325,\n",
       "  4.280930622880948,\n",
       "  4.459853924023843,\n",
       "  4.589989542044984,\n",
       "  4.6982377276351235,\n",
       "  4.811836327904958,\n",
       "  4.951490199722011,\n",
       "  5.076304880117407,\n",
       "  5.23028087955038,\n",
       "  5.311227570667167,\n",
       "  5.397160639798871],\n",
       " 'cg': [1,\n",
       "  1.17578125,\n",
       "  1.46875,\n",
       "  2.171875,\n",
       "  4.10546875,\n",
       "  5.98828125,\n",
       "  8.3125,\n",
       "  10.7109375,\n",
       "  14.0390625,\n",
       "  16.66015625,\n",
       "  19.54296875,\n",
       "  22.41796875,\n",
       "  25.328125,\n",
       "  28.35546875,\n",
       "  31.894531250000004,\n",
       "  33.75390625,\n",
       "  37.2421875,\n",
       "  39.17578125,\n",
       "  41.8515625,\n",
       "  43.84765625,\n",
       "  45.72265625,\n",
       "  47.66015625,\n",
       "  49.58984375,\n",
       "  51.21484375,\n",
       "  52.76953125,\n",
       "  53.83203125,\n",
       "  54.89453125],\n",
       " 'REALPRD': [2.2,\n",
       "  2.4000000000000004,\n",
       "  2.6000000000000005,\n",
       "  2.8000000000000007,\n",
       "  3.000000000000001,\n",
       "  3.200000000000001,\n",
       "  3.4000000000000012,\n",
       "  3.6000000000000014,\n",
       "  3.8000000000000016,\n",
       "  4.000000000000002,\n",
       "  4.200000000000002,\n",
       "  4.400000000000002,\n",
       "  4.600000000000002,\n",
       "  4.8000000000000025,\n",
       "  5.000000000000003,\n",
       "  5.200000000000003,\n",
       "  5.400000000000003,\n",
       "  5.600000000000003,\n",
       "  5.800000000000003,\n",
       "  6.0000000000000036,\n",
       "  6.200000000000004,\n",
       "  6.400000000000004,\n",
       "  6.600000000000004,\n",
       "  6.800000000000004,\n",
       "  7.000000000000004,\n",
       "  7.200000000000005,\n",
       "  7.400000000000005]}"
      ]
     },
     "execution_count": 33,
     "metadata": {},
     "output_type": "execute_result"
    }
   ],
   "source": [
    "adap_cg_min1_max32"
   ]
  },
  {
   "cell_type": "code",
   "execution_count": 32,
   "metadata": {},
   "outputs": [
    {
     "data": {
      "text/plain": [
       "Text(0.5, 1.0, 'Adaptive CG as func of PRD loss U-NET with IoT')"
      ]
     },
     "execution_count": 32,
     "metadata": {},
     "output_type": "execute_result"
    },
    {
     "data": {
      "image/png": "[encoded data removed]",
      "text/plain": [
       "<Figure size 432x288 with 1 Axes>"
      ]
     },
     "metadata": {
      "needs_background": "light"
     },
     "output_type": "display_data"
    }
   ],
   "source": [
    "plt.plot(np.arange(2.2,7.5,0.2),adap_cg_min1_max32['cg'],'b')\n",
    "# plt.plot(np.arange(2.2,7.5,0.2),adap_cg_min1_max32_unet['cg'],'r')\n",
    "# plt.plot(np.arange(2.2,7.5,0.2),adap_cg_min1_max32_unet_iot['cg'],'y')\n",
    "# plt.plot(np.arange(2,10,0.2),adap_cg_min1_max64['cg'],'y')\n",
    "# plt.plot(np.arange(2,10,0.2),static_SOTA_16['cg'],'m')\n",
    "plt.plot(np.arange(2.2,7.5,0.2),static_SOTA_32['cg'])\n",
    "# plt.plot(np.arange(2,10,0.2),static_SOTA_64['cg'])\n",
    "plt\n",
    "plt.legend(['adap CG max 32 naive','adap CG max32 u_net','adap CG max32 u_net-iot','static CG=32','static CG=64'])\n",
    "plt.yticks(np.arange(0, 35, 5))\n",
    "plt.xlabel('PRD loss')\n",
    "plt.ylabel('Avg CG')\n",
    "plt.grid()\n",
    "plt.title('Adaptive CG as func of PRD loss U-NET with IoT')"
   ]
  },
  {
   "cell_type": "code",
   "execution_count": null,
   "metadata": {},
   "outputs": [],
   "source": [
    "plt.scatter(adap_cg_min1_max32['prd'],adap_cg_min1_max32['cg'],c=adap_cg_min1_max32['REALPRD'],marker='^')\n",
    "plt.scatter(static_SOTA_16['prd'],static_SOTA_16['cg'],c=static_SOTA_16['REALPRD'],marker='o')\n",
    "plt.scatter(static_SOTA_32['prd'],static_SOTA_32['cg'],c=static_SOTA_32['REALPRD'],marker='|')\n",
    "plt.legend(['adap CG','static CG=16','static CG=32'])\n",
    "plt.xlabel('PRD loss')\n",
    "plt.ylabel('CG')\n",
    "plt.grid()\n",
    "plt.title('Adaptive CG as func of PRD loss')"
   ]
  },
  {
   "cell_type": "code",
   "execution_count": null,
   "metadata": {},
   "outputs": [],
   "source": [
    "# def adaptive_compression(df, threshold_PRD,base_factor=1):\n",
    "#     df_threshold = df[df['PRD']<threshold_PRD]\n",
    "#     indices = df_threshold.groupby('signal_idx',sort=False)['CG_int'].transform(max)==df_threshold['CG_int']\n",
    "    \n",
    "# #     if len(indices)==0:\n",
    "# #         num_satisfied_PRD_indices = 0\n",
    "# #         avg_prd = 0\n",
    "# #         meanCG = base_factor\n",
    "\n",
    "# #     else:\n",
    "# #         num_satisfied_PRD_indices = indices.value_counts()[True]\n",
    "# #         avg_prd = (num_satisfied_PRD_indices/x_test.shape[0])*df_threshold[indices]['PRD'].mean()\n",
    "# #         meanCG = ((x_test.shape[0]-num_satisfied_PRD_indices)/x_test.shape[0])*base_factor + (num_satisfied_PRD_indices/x_test.shape[0])*df_threshold[indices]['CG_int'].mean()\n",
    "    \n",
    "#     return indices\n",
    "\n",
    "\n",
    "# static_SOTA_64={'prd':[],'cg':[]}\n",
    "# static_SOTA_32={'prd':[],'cg':[]}\n",
    "# static_SOTA_16={'prd':[],'cg':[]}\n",
    "# adap_cg_min1 = {'prd':[],'cg':[]}\n",
    "# # adap_cg_min32 = []\n",
    "# for PRD in np.arange(2,10,0.2):\n",
    "#     static_SOTA_16['cg'].append(adaptive_compression(df[df['CG_int']==16],PRD,1)[1])\n",
    "#     static_SOTA_32['cg'].append(adaptive_compression(df[df['CG_int']==32],PRD,1)[1])\n",
    "#     static_SOTA_64['cg'].append(adaptive_compression(df[df['CG_int']==64],PRD,1)[1])\n",
    "#     adap_cg_min1['cg'].append(adaptive_compression(df,PRD,1)[1])"
   ]
  },
  {
   "cell_type": "code",
   "execution_count": null,
   "metadata": {},
   "outputs": [],
   "source": [
    "def missing_values(df, col_name,upper_value):\n",
    "    missing_values = []\n",
    "    unique_values=df[col_name].unique()\n",
    "    for i in range(upper_value):\n",
    "        if not i in unique_values:\n",
    "            missing_values.append(i)\n",
    "    return missing_values\n",
    "\n",
    "# len(missing_values(t,'signal_idx',4640))"
   ]
  },
  {
   "cell_type": "code",
   "execution_count": null,
   "metadata": {},
   "outputs": [],
   "source": [
    "def buid_dataset(df,threshold_PRD):\n",
    "\n",
    "    df_threshold = df[(df['PRD']<threshold_PRD)]\n",
    "    indices = df_threshold.groupby('signal_idx',sort=False)['CG_int'].transform(max)==df_threshold['CG_int']\n",
    "    t = df_threshold[indices][['signal_idx','PRD','CG_int']]\n",
    "\n",
    "    no_compression_idx = missing_values(t,'signal_idx',int(df.shape[0]/3))\n",
    "    no_compression_stats = pd.DataFrame([[x,0,1] for x in no_compression_idx])\n",
    "    no_compression_stats.columns = ['signal_idx','PRD','CG_int']\n",
    "    t = pd.concat([no_compression_stats,t],axis=0)\n",
    "#     print(t.shape)\n",
    "    t['MAX_PRD'] = t['CG_int'].apply(lambda x: float(threshold_PRD))\n",
    "    return t\n",
    "\n",
    "t = buid_dataset(df,3)\n",
    "for PRD_run in np.arange(3.2,9,0.2):\n",
    "#     df_threshold = df[(df['PRD']<PRD) & (df['CG_int']<64)]\n",
    "#     indices = df_threshold.groupby('signal_idx',sort=False)['CG_int'].transform(max)==df_threshold['CG_int']\n",
    "#     temp = df_threshold[indices][['signal_idx','PRD','CG_int']]\n",
    "#     temp['MAX_PRD'] = pd.Series(np.ones(x_train.shape[0])*PRD)\n",
    "    tempo = buid_dataset(df[df['CG_int']<64],PRD_run)\n",
    "    t = pd.concat([tempo,t])\n",
    "    print(t.shape)\n",
    "#     raise\n",
    "    "
   ]
  },
  {
   "cell_type": "code",
   "execution_count": null,
   "metadata": {},
   "outputs": [],
   "source": [
    "model_u_net.layers[4].layers[-2].summary()"
   ]
  },
  {
   "cell_type": "code",
   "execution_count": null,
   "metadata": {},
   "outputs": [],
   "source": [
    "t.describe()"
   ]
  },
  {
   "cell_type": "code",
   "execution_count": null,
   "metadata": {},
   "outputs": [],
   "source": [
    "#t[(t['MAX_PRD']>=6.6) & (t['MAX_PRD']<=6.9)]"
   ]
  },
  {
   "cell_type": "code",
   "execution_count": null,
   "metadata": {},
   "outputs": [],
   "source": [
    "t['MAX_PRD'].unique()"
   ]
  },
  {
   "cell_type": "code",
   "execution_count": null,
   "metadata": {},
   "outputs": [],
   "source": [
    "t"
   ]
  },
  {
   "cell_type": "code",
   "execution_count": null,
   "metadata": {},
   "outputs": [],
   "source": [
    "t.describe(include='all')"
   ]
  },
  {
   "cell_type": "code",
   "execution_count": null,
   "metadata": {},
   "outputs": [],
   "source": [
    "df_threshold[indices]"
   ]
  },
  {
   "cell_type": "code",
   "execution_count": null,
   "metadata": {},
   "outputs": [],
   "source": [
    "t.to_csv('Data/compressor_decsision_max32.csv')"
   ]
  },
  {
   "cell_type": "code",
   "execution_count": null,
   "metadata": {},
   "outputs": [],
   "source": []
  }
 ],
 "metadata": {
  "kernelspec": {
   "display_name": "Python 3",
   "language": "python",
   "name": "python3"
  },
  "language_info": {
   "codemirror_mode": {
    "name": "ipython",
    "version": 3
   },
   "file_extension": ".py",
   "mimetype": "text/x-python",
   "name": "python",
   "nbconvert_exporter": "python",
   "pygments_lexer": "ipython3",
   "version": "3.7.9"
  }
 },
 "nbformat": 4,
 "nbformat_minor": 4
}

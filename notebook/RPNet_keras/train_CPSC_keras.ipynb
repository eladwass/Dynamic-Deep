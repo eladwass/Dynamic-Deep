{
 "cells": [
  {
   "cell_type": "markdown",
   "metadata": {
    "colab_type": "text",
    "id": "SbkD92kfzL1A"
   },
   "source": [
    "### Accessing content in your drive\n"
   ]
  },
  {
   "cell_type": "markdown",
   "metadata": {
    "colab_type": "text",
    "id": "6LoYGJSRTw6W"
   },
   "source": [
    "### Navigate to the location of folder ###"
   ]
  },
  {
   "cell_type": "code",
   "execution_count": 1,
   "metadata": {
    "colab": {},
    "colab_type": "code",
    "executionInfo": {
     "elapsed": 1157,
     "status": "ok",
     "timestamp": 1595183195390,
     "user": {
      "displayName": "Sricharan V",
      "photoUrl": "",
      "userId": "03063971511613622677"
     },
     "user_tz": -330
    },
    "id": "IoYIoChl7RNa"
   },
   "outputs": [],
   "source": [
    "import os\n",
    "os.chdir('../../src/Enviroments/ExternalEnv/RPNet')"
   ]
  },
  {
   "cell_type": "markdown",
   "metadata": {
    "colab_type": "text",
    "id": "Vv5Zk4iWzGwI"
   },
   "source": [
    "### Importing required modules"
   ]
  },
  {
   "cell_type": "code",
   "execution_count": 2,
   "metadata": {
    "colab": {},
    "colab_type": "code",
    "executionInfo": {
     "elapsed": 1555,
     "status": "ok",
     "timestamp": 1595183202693,
     "user": {
      "displayName": "Sricharan V",
      "photoUrl": "",
      "userId": "03063971511613622677"
     },
     "user_tz": -330
    },
    "id": "5KS-9VEirZ7X"
   },
   "outputs": [],
   "source": [
    "### Importing basic libraries\n",
    "import scipy.io\n",
    "import numpy as np\n",
    "import torch\n",
    "from scipy import signal\n",
    "# from tqdm import tqdm_notebook as tqdm\n",
    "from matplotlib import pyplot as plt\n",
    "import random\n",
    "import pandas as pd\n",
    "import scipy\n",
    "import pickle\n",
    "import sklearn\n",
    "from sklearn.preprocessing import MinMaxScaler\n",
    "import warnings\n",
    "import math\n",
    "import csv\n",
    "# from tqdm.notebook import tqdm\n",
    "\n",
    "from scipy.signal import butter, lfilter, lfilter_zi\n",
    "from pylab import plot, show, title, xlabel, ylabel, subplot\n",
    "\n",
    "### Importing torch related libraries\n",
    "# from torch.utils.data import DataLoader\n",
    "# from torch.utils.data import TensorDataset\n",
    "# import torch.nn as nn\n",
    "# import torch.functional as F\n",
    "# from torch.autograd import Variable   \n",
    "# import torch.optim as optim\n",
    "# from torch.optim import lr_scheduler\n",
    "import datetime\n",
    "\n",
    "### Importing Custom Libraries\n",
    "# from network import IncUNet\n",
    "from network_keras import IncUNet\n"
   ]
  },
  {
   "cell_type": "markdown",
   "metadata": {
    "colab_type": "text",
    "id": "KLloorhcT50Y"
   },
   "source": [
    "# Preprocessing #"
   ]
  },
  {
   "cell_type": "markdown",
   "metadata": {
    "colab_type": "text",
    "id": "APNa7e1tyCiH"
   },
   "source": [
    "### Navigate to the folder containing the model and data"
   ]
  },
  {
   "cell_type": "code",
   "execution_count": 3,
   "metadata": {
    "colab": {},
    "colab_type": "code",
    "executionInfo": {
     "elapsed": 1278,
     "status": "ok",
     "timestamp": 1595178230901,
     "user": {
      "displayName": "Sricharan V",
      "photoUrl": "",
      "userId": "03063971511613622677"
     },
     "user_tz": -330
    },
    "id": "5FbsPEjixAP3"
   },
   "outputs": [],
   "source": [
    "data_path = \"../../../../Data/CPSC_2019/train/data\"\n",
    "reference_path = \"../../../../Data/CPSC_2019/train/ref\""
   ]
  },
  {
   "cell_type": "markdown",
   "metadata": {
    "colab_type": "text",
    "id": "skbXk1ZyrZ8A"
   },
   "source": [
    "### Loading from the Mat file"
   ]
  },
  {
   "cell_type": "code",
   "execution_count": 4,
   "metadata": {
    "colab": {},
    "colab_type": "code",
    "executionInfo": {
     "elapsed": 1189,
     "status": "ok",
     "timestamp": 1595178708359,
     "user": {
      "displayName": "Sricharan V",
      "photoUrl": "",
      "userId": "03063971511613622677"
     },
     "user_tz": -330
    },
    "id": "LRIBLoABrZ8B"
   },
   "outputs": [],
   "source": [
    "# count = 0 \n",
    "# patient_info = []\n",
    "# for files in sorted(os.listdir(data_path)):\n",
    "#     count += 1\n",
    "#     patient_info.append(scipy.io.loadmat(os.path.join(data_path,files)))\n",
    "# #     if count == 20:\n",
    "# #       break"
   ]
  },
  {
   "cell_type": "code",
   "execution_count": 5,
   "metadata": {
    "colab": {},
    "colab_type": "code",
    "executionInfo": {
     "elapsed": 1023,
     "status": "ok",
     "timestamp": 1595178709559,
     "user": {
      "displayName": "Sricharan V",
      "photoUrl": "",
      "userId": "03063971511613622677"
     },
     "user_tz": -330
    },
    "id": "PnRei9_kCLCU"
   },
   "outputs": [],
   "source": [
    "# count = 0 \n",
    "# patient_reference = []\n",
    "# for files in sorted(os.listdir(reference_path)):\n",
    "#     count += 1\n",
    "#     patient_reference.append(scipy.io.loadmat(os.path.join(reference_path,files)))\n",
    "# #     if count == 20:\n",
    "# #       break\n",
    "# ### Entire thing can be run in a single line\n",
    "# ### patient_reference = [scipy.io.loadmat(os.path.join(reference_path,files)) for files in tqdm(sorted(os.listdir(reference_path)))]"
   ]
  },
  {
   "cell_type": "code",
   "execution_count": 6,
   "metadata": {
    "colab": {
     "base_uri": "https://localhost:8080/",
     "height": 51
    },
    "colab_type": "code",
    "executionInfo": {
     "elapsed": 1131,
     "status": "ok",
     "timestamp": 1595178712341,
     "user": {
      "displayName": "Sricharan V",
      "photoUrl": "",
      "userId": "03063971511613622677"
     },
     "user_tz": -330
    },
    "id": "o-tPH98uCfRn",
    "outputId": "8fa4e1f5-6ecf-4e5c-b51e-0bdf543000dc"
   },
   "outputs": [],
   "source": [
    "# print(len(patient_info))\n",
    "# print(len(patient_reference))"
   ]
  },
  {
   "cell_type": "markdown",
   "metadata": {
    "colab_type": "text",
    "id": "qKSRXHtYrZ8V"
   },
   "source": [
    "### To obtain the patient's ECG Record ###"
   ]
  },
  {
   "cell_type": "code",
   "execution_count": 7,
   "metadata": {
    "colab": {
     "base_uri": "https://localhost:8080/",
     "height": 83,
     "referenced_widgets": [
      "07fe63b0121d4351bb26947c3bad0d54",
      "c8b43bc08f914132b3d3bb3ae1960db0",
      "4bd46106e1cb4310b5fc453cfe37f894",
      "2d859fb9e6304a149dd04847f2c00616",
      "c39a3c6900de4c23ae249b97fdd14387",
      "60def240f2294eb0bead3c27b78a814e",
      "36f6579b633c4f12b45c49abd96e6c38",
      "053c08f89b80490e93ae6cc0484707f7"
     ]
    },
    "colab_type": "code",
    "executionInfo": {
     "elapsed": 1166,
     "status": "ok",
     "timestamp": 1595178719689,
     "user": {
      "displayName": "Sricharan V",
      "photoUrl": "",
      "userId": "03063971511613622677"
     },
     "user_tz": -330
    },
    "id": "XgCliWQnrZ8W",
    "outputId": "7faba977-b0ad-43cb-fd5a-0170be41fbac"
   },
   "outputs": [],
   "source": [
    "# patient_ecg = np.asarray( [patient_info[i]['ecg'] for i in (range(0,len(patient_info)))] )\n",
    "# print(\"Shape of the ECG record\",patient_ecg.shape)\n",
    "# patient_ecg = patient_ecg[:,:,0]"
   ]
  },
  {
   "cell_type": "markdown",
   "metadata": {
    "colab_type": "text",
    "id": "XwXZQlLlrZ8d"
   },
   "source": [
    "\n",
    "### Normalizing Patient ECG"
   ]
  },
  {
   "cell_type": "code",
   "execution_count": 8,
   "metadata": {
    "colab": {},
    "colab_type": "code",
    "executionInfo": {
     "elapsed": 1192,
     "status": "ok",
     "timestamp": 1595179044244,
     "user": {
      "displayName": "Sricharan V",
      "photoUrl": "",
      "userId": "03063971511613622677"
     },
     "user_tz": -330
    },
    "id": "ECtjCKc64yT2"
   },
   "outputs": [],
   "source": [
    "# scaler = sklearn.preprocessing.StandardScaler()\n",
    "# patient_ecg = scaler.fit_transform(patient_ecg.transpose()).transpose()"
   ]
  },
  {
   "cell_type": "markdown",
   "metadata": {
    "colab_type": "text",
    "id": "SufdQRuWrZ86"
   },
   "source": [
    "### To obtain the Reference Value ###"
   ]
  },
  {
   "cell_type": "code",
   "execution_count": 9,
   "metadata": {
    "colab": {},
    "colab_type": "code",
    "executionInfo": {
     "elapsed": 1155,
     "status": "ok",
     "timestamp": 1595179071308,
     "user": {
      "displayName": "Sricharan V",
      "photoUrl": "",
      "userId": "03063971511613622677"
     },
     "user_tz": -330
    },
    "id": "DnkVkiwUrZ87"
   },
   "outputs": [],
   "source": [
    "# patient_ref = []\n",
    "# for j in range(0,len(patient_reference)):\n",
    "#     if(patient_reference[j]['R_peak'].shape[0] == 1):\n",
    "#         patient_ref.append(patient_reference[j]['R_peak'][0].ravel().astype(np.float16))\n",
    "#     else:\n",
    "#         patient_ref.append(patient_reference[j]['R_peak'].ravel().astype(np.float16))"
   ]
  },
  {
   "cell_type": "markdown",
   "metadata": {
    "colab_type": "text",
    "id": "PGD4O5ARrZ9J"
   },
   "source": [
    "### Determining no of QRS complexes in windows"
   ]
  },
  {
   "cell_type": "code",
   "execution_count": 10,
   "metadata": {
    "colab": {},
    "colab_type": "code",
    "executionInfo": {
     "elapsed": 1142,
     "status": "ok",
     "timestamp": 1595179101396,
     "user": {
      "displayName": "Sricharan V",
      "photoUrl": "",
      "userId": "03063971511613622677"
     },
     "user_tz": -330
    },
    "id": "rTLI6rzerZ9L"
   },
   "outputs": [],
   "source": [
    "# count = np.zeros((5,1))\n",
    "# for i in range(len(patient_ref)-64):\n",
    "#     if(len(patient_ref[i]) <= 10):\n",
    "#         count[0] += 1 \n",
    "#     elif (len(patient_ref[i]) > 10 and len(patient_ref[i]) <= 20):\n",
    "#         count[1] += 1\n",
    "#     elif (len(patient_ref[i]) > 20 and len(patient_ref[i]) <= 30):\n",
    "#         count[2] += 1\n",
    "#     elif (len(patient_ref[i])>30 and len(patient_ref[i])<=40):\n",
    "#         count[3] += 1\n",
    "#     elif (len(patient_ref[i])>40 and len(patient_ref[i])<=50):\n",
    "#         count[4] += 1"
   ]
  },
  {
   "cell_type": "markdown",
   "metadata": {
    "colab_type": "text",
    "id": "6sUvjfCArZ9s"
   },
   "source": [
    "### Distance Transform- Obtaining ground truth"
   ]
  },
  {
   "cell_type": "code",
   "execution_count": 11,
   "metadata": {
    "colab": {
     "base_uri": "https://localhost:8080/",
     "height": 66,
     "referenced_widgets": [
      "c8f9b9b525e44dfdbd675713220a210f",
      "d326d4e62ea341c78d09b126ecec0315",
      "cf1cf687acd4494685d963c6867d87e3",
      "862ecdffe598460c8705b4c05159e551",
      "776ef00e70ef4e1ab7dd7c4a0e0b009e",
      "f40f9fee85a1420591f055e31ab3a820",
      "79f82bfc4d8247bf97708bb800aa00ec",
      "e20e7078af6245808d479ecf6b9adc10"
     ]
    },
    "colab_type": "code",
    "executionInfo": {
     "elapsed": 1213,
     "status": "ok",
     "timestamp": 1595179201252,
     "user": {
      "displayName": "Sricharan V",
      "photoUrl": "",
      "userId": "03063971511613622677"
     },
     "user_tz": -330
    },
    "id": "IpLHCDiqrZ9s",
    "outputId": "31d3a75b-c86f-42fb-e532-ae986e495a67"
   },
   "outputs": [],
   "source": [
    "# distance_transform = []\n",
    "# for i in (range(len(patient_ref))):\n",
    "#     prev_qrs = patient_ref[i][0]\n",
    "#     next_qrs = patient_ref[i][1]\n",
    "#     dist_tran = np.zeros(patient_ecg.shape[1])\n",
    "#     beat_count = 1\n",
    "#     for j in range(len(dist_tran)):\n",
    "#         threshold = (prev_qrs + next_qrs)/2   \n",
    "#         if(j < threshold):\n",
    "#             dist_tran[j] = int(abs(j - prev_qrs))/250\n",
    "#         elif(j >= threshold): \n",
    "#             dist_tran[j] = int(abs(j - next_qrs))/250\n",
    "#         if(j == next_qrs and beat_count != len(patient_ref[i])-1): ## -2 instead of -1 because we are incrementing the beat in the loop\n",
    "#             beat_count += 1 \n",
    "#             prev_qrs = next_qrs\n",
    "#             next_qrs = patient_ref[i][beat_count]\n",
    "#     distance_transform.append(dist_tran)\n",
    "# distance_transform = np.asarray(distance_transform)\n",
    "# scaler = MinMaxScaler(feature_range = (0,1))\n",
    "# distance_transform =  np.transpose(scaler.fit_transform(distance_transform.transpose())) "
   ]
  },
  {
   "cell_type": "code",
   "execution_count": 12,
   "metadata": {
    "colab": {
     "base_uri": "https://localhost:8080/",
     "height": 34
    },
    "colab_type": "code",
    "executionInfo": {
     "elapsed": 1221,
     "status": "ok",
     "timestamp": 1595179206158,
     "user": {
      "displayName": "Sricharan V",
      "photoUrl": "",
      "userId": "03063971511613622677"
     },
     "user_tz": -330
    },
    "id": "FRBHobjMrZ90",
    "outputId": "cbf035ba-0a61-4901-8238-e88790b82610"
   },
   "outputs": [],
   "source": [
    "# dist_transform = torch.Tensor(distance_transform)\n",
    "# dist_transform = dist_transform.view(dist_transform.shape[0],1,dist_transform.shape[1])\n",
    "# print(dist_transform.shape)"
   ]
  },
  {
   "cell_type": "code",
   "execution_count": 13,
   "metadata": {
    "colab": {},
    "colab_type": "code",
    "id": "FLUbT5Uk2o5c"
   },
   "outputs": [],
   "source": [
    "# BATCH_SIZE = 64\n",
    "\n",
    "# patient_ecg_t = torch.from_numpy(patient_ecg).float()\n",
    "# patient_ecg_train = patient_ecg_t[:1936,:]\n",
    "# patient_ecg_train = patient_ecg_train.view((patient_ecg_train.shape[0],1,patient_ecg_train.shape[1]))\n",
    "# dist_transform_train = dist_transform[:1936,0,:]\n",
    "# dist_transform_train = dist_transform_train.view(dist_transform_train.shape[0],1,dist_transform_train.shape[1])\n",
    "# print(\"Shape of input:\",patient_ecg_train.shape)\n",
    "# print(\"Shape of ground truth:\",dist_transform_train.shape)\n",
    "# patient_ecg_tl = TensorDataset(patient_ecg_train,dist_transform_train)\n",
    "# trainloader = DataLoader(patient_ecg_tl, batch_size=BATCH_SIZE, shuffle = True)\n",
    "\n",
    "# patient_ecg_t_test = patient_ecg_t[1936:,:]\n",
    "# patient_ecg_t_test = patient_ecg_t_test.view((patient_ecg_t_test.shape[0],1,patient_ecg_t_test.shape[1]))\n",
    "# dist_transform_test = dist_transform[1936:,:]\n",
    "# print(\"Shape of input:\",patient_ecg_t_test.shape)\n",
    "# print(\"Shape of ground truth:\",dist_transform_test.shape)\n",
    "# patient_ecg_tl_test = TensorDataset(patient_ecg_t_test,dist_transform_test)\n",
    "# testloader = DataLoader(patient_ecg_tl_test, batch_size=BATCH_SIZE)\n",
    "\n",
    "# torch.save(patient_ecg_train, 'train.pt')\n",
    "# torch.save(patient_ecg_t_test, 'test.pt')\n",
    "# torch.save(dist_transform_train, 'dist_transform_train.pt')\n",
    "# torch.save(dist_transform_test, 'dist_transform_test.pt')"
   ]
  },
  {
   "cell_type": "markdown",
   "metadata": {
    "colab_type": "text",
    "id": "AUQ447F1rZ-I"
   },
   "source": [
    "# Train and Evaluate #"
   ]
  },
  {
   "cell_type": "markdown",
   "metadata": {
    "colab_type": "text",
    "id": "MMn9e3pcrZ-J"
   },
   "source": [
    "### Hyperparameters and Related parameters"
   ]
  },
  {
   "cell_type": "code",
   "execution_count": 14,
   "metadata": {
    "colab": {},
    "colab_type": "code",
    "executionInfo": {
     "elapsed": 1212,
     "status": "ok",
     "timestamp": 1595183209430,
     "user": {
      "displayName": "Sricharan V",
      "photoUrl": "",
      "userId": "03063971511613622677"
     },
     "user_tz": -330
    },
    "id": "dPfIA-lOrZ-K"
   },
   "outputs": [],
   "source": [
    "\n",
    "C,H,W = 1,1,5000\n",
    "learn_rate = 0.05\n",
    "num_epochs = 480"
   ]
  },
  {
   "cell_type": "markdown",
   "metadata": {
    "colab_type": "text",
    "id": "EOMdQQOmy4Ap"
   },
   "source": [
    "### Loading data via the pt files"
   ]
  },
  {
   "cell_type": "code",
   "execution_count": 15,
   "metadata": {
    "colab": {},
    "colab_type": "code",
    "executionInfo": {
     "elapsed": 1124,
     "status": "ok",
     "timestamp": 1595183212561,
     "user": {
      "displayName": "Sricharan V",
      "photoUrl": "",
      "userId": "03063971511613622677"
     },
     "user_tz": -330
    },
    "id": "FgDMzUZ8y2b_"
   },
   "outputs": [],
   "source": [
    "patient_ecg_train = torch.load('train.pt').numpy().reshape((-1,5000,1))\n",
    "dist_transform_train = torch.load('dist_transform_train.pt').numpy().reshape((-1,5000,1))\n",
    "patient_ecg_test = torch.load('test.pt').numpy().reshape((-1,5000,1))\n",
    "dist_transform_test = torch.load('dist_transform_test.pt').numpy().reshape((-1,5000,1))\n",
    "\n",
    "# patient_ecg_train_td = TensorDataset(patient_ecg_train, dist_transform_train)\n",
    "# trainloader = DataLoader(patient_ecg_train_td, batch_size=BATCH_SIZE, shuffle = True)\n",
    "\n",
    "# patient_ecg_test_td = TensorDataset(patient_ecg_test, dist_transform_test)\n",
    "# testloader = DataLoader(patient_ecg_test_td, batch_size=BATCH_SIZE)"
   ]
  },
  {
   "cell_type": "markdown",
   "metadata": {
    "colab_type": "text",
    "id": "t0Px41-pAFFF"
   },
   "source": [
    "### Visualizing using Matplotlib"
   ]
  },
  {
   "cell_type": "code",
   "execution_count": 16,
   "metadata": {
    "colab": {
     "base_uri": "https://localhost:8080/",
     "height": 282
    },
    "colab_type": "code",
    "executionInfo": {
     "elapsed": 1484,
     "status": "ok",
     "timestamp": 1595183482793,
     "user": {
      "displayName": "Sricharan V",
      "photoUrl": "",
      "userId": "03063971511613622677"
     },
     "user_tz": -330
    },
    "id": "6F93ayksAEja",
    "outputId": "a1254dac-1c95-4ca8-b767-2bac2699e11d"
   },
   "outputs": [
    {
     "data": {
      "text/plain": [
       "[<matplotlib.lines.Line2D at 0x7f20b7dcf990>]"
      ]
     },
     "execution_count": 16,
     "metadata": {},
     "output_type": "execute_result"
    },
    {
     "data": {
      "image/png": "[encoded data removed]",
      "text/plain": [
       "<Figure size 432x288 with 1 Axes>"
      ]
     },
     "metadata": {
      "needs_background": "light"
     },
     "output_type": "display_data"
    }
   ],
   "source": [
    "record_no = 18\n",
    "plt.plot(patient_ecg_train[record_no,:,0])\n",
    "plt.plot(dist_transform_train[record_no,:,0])"
   ]
  },
  {
   "cell_type": "markdown",
   "metadata": {
    "colab_type": "text",
    "id": "GcC1nSeW2VVd"
   },
   "source": [
    "### Ensuring deterministicity through Random seeding\n"
   ]
  },
  {
   "cell_type": "code",
   "execution_count": 17,
   "metadata": {
    "colab": {},
    "colab_type": "code",
    "executionInfo": {
     "elapsed": 1129,
     "status": "ok",
     "timestamp": 1595183223109,
     "user": {
      "displayName": "Sricharan V",
      "photoUrl": "",
      "userId": "03063971511613622677"
     },
     "user_tz": -330
    },
    "id": "cXDLjoNl2UhR"
   },
   "outputs": [],
   "source": [
    "# torch.backends.cudnn.deterministic = True\n",
    "# torch.backends.cudnn.benchmark = False\n",
    "manualSeed = 4\n",
    "random.seed(manualSeed)\n",
    "# torch.manual_seed(manualSeed)\n",
    "# if torch.cuda.is_available():\n",
    "#     torch.cuda.manual_seed(manualSeed) "
   ]
  },
  {
   "cell_type": "markdown",
   "metadata": {
    "colab_type": "text",
    "id": "W4jG7ivprZ-y"
   },
   "source": [
    "### Setting the optimizer and Loss function"
   ]
  },
  {
   "cell_type": "code",
   "execution_count": 18,
   "metadata": {},
   "outputs": [
    {
     "name": "stdout",
     "output_type": "stream",
     "text": [
      "1 Physical GPUs, 1 Logical GPUs\n"
     ]
    }
   ],
   "source": [
    "from tensorflow.keras.optimizers import Adam\n",
    "from tensorflow.keras.layers import Input\n",
    "from tensorflow.keras.utils import plot_model\n",
    "import tensorflow as tf\n",
    "\n",
    "gpus = tf.config.experimental.list_physical_devices('GPU')\n",
    "if gpus:\n",
    "    try:\n",
    "        # Currently, memory growth needs to be the same across GPUs\n",
    "        for gpu in gpus:\n",
    "            tf.config.experimental.set_memory_growth(gpu, True)\n",
    "        logical_gpus = tf.config.experimental.list_logical_devices('GPU')\n",
    "        print(len(gpus), \"Physical GPUs,\", len(logical_gpus), \"Logical GPUs\")\n",
    "    except RuntimeError as e:\n",
    "        # Memory growth must be set before GPUs have been initialized\n",
    "        print(e)"
   ]
  },
  {
   "cell_type": "code",
   "execution_count": 19,
   "metadata": {
    "colab": {},
    "colab_type": "code",
    "executionInfo": {
     "elapsed": 3973,
     "status": "ok",
     "timestamp": 1595183232895,
     "user": {
      "displayName": "Sricharan V",
      "photoUrl": "",
      "userId": "03063971511613622677"
     },
     "user_tz": -330
    },
    "id": "OfQNokSUrZ-z"
   },
   "outputs": [
    {
     "name": "stdout",
     "output_type": "stream",
     "text": [
      "(None, 5000, 1)\n",
      "Model: \"inc_u_net\"\n",
      "_________________________________________________________________\n",
      "Layer (type)                 Output Shape              Param #   \n",
      "=================================================================\n",
      "seq1 (Sequential)            (None, 2499, 64)          36672     \n",
      "_________________________________________________________________\n",
      "seq2 (Sequential)            (None, 1250, 128)         176768    \n",
      "_________________________________________________________________\n",
      "sequential (Sequential)      (None, 1250, 128)         49792     \n",
      "_________________________________________________________________\n",
      "seq4 (Sequential)            (None, 624, 256)          753536    \n",
      "_________________________________________________________________\n",
      "sequential_1 (Sequential)    (None, 311, 512)          3071744   \n",
      "_________________________________________________________________\n",
      "seq6 (Sequential)            (None, 309, 512)          788992    \n",
      "_________________________________________________________________\n",
      "sequential_2 (Sequential)    (None, 155, 512)          4121600   \n",
      "_________________________________________________________________\n",
      "seq8 (Sequential)            (None, 78, 512)           4121600   \n",
      "_________________________________________________________________\n",
      "sequential_3 (Sequential)    (None, 76, 512)           788992    \n",
      "_________________________________________________________________\n",
      "seq10 (Sequential)           (None, 38, 512)           4121600   \n",
      "_________________________________________________________________\n",
      "sequential_4 (Sequential)    (None, 19, 512)           2102272   \n",
      "_________________________________________________________________\n",
      "seq12 (Sequential)           (None, 38, 512)           4383744   \n",
      "_________________________________________________________________\n",
      "sequential_5 (Sequential)    (None, 76, 512)           5170176   \n",
      "_________________________________________________________________\n",
      "seq14 (Sequential)           (None, 76, 512)           3856896   \n",
      "_________________________________________________________________\n",
      "sequential_6 (Sequential)    (None, 156, 512)          4645888   \n",
      "_________________________________________________________________\n",
      "seq16 (Sequential)           (None, 312, 512)          5170176   \n",
      "_________________________________________________________________\n",
      "sequential_7 (Sequential)    (None, 312, 512)          3856896   \n",
      "_________________________________________________________________\n",
      "seq18 (Sequential)           (None, 624, 256)          1884672   \n",
      "_________________________________________________________________\n",
      "sequential_8 (Sequential)    (None, 1248, 128)         247040    \n",
      "_________________________________________________________________\n",
      "seq20 (Sequential)           (None, 1250, 128)         98944     \n",
      "_________________________________________________________________\n",
      "sequential_9 (Sequential)    (None, 2500, 64)          164288    \n",
      "_________________________________________________________________\n",
      "seq22 (Sequential)           (None, 5000, 1)           66177     \n",
      "=================================================================\n",
      "Total params: 49,678,465\n",
      "Trainable params: 49,632,737\n",
      "Non-trainable params: 45,728\n",
      "_________________________________________________________________\n"
     ]
    }
   ],
   "source": [
    "\n",
    "\n",
    "model = IncUNet()\n",
    "inputs_signal = Input(shape=(5000,1), name='input-RR')\n",
    "print(model(inputs_signal).shape)\n",
    "model.summary()\n",
    "# model.cuda()\n",
    "\n",
    "# optimizer = optim.Adam(model.parameters(), lr = learn_rate)# Try out weight decay , \n",
    "# scheduler = optim.lr_scheduler.MultiStepLR(optimizer, milestones=[90,190,450], gamma=0.1)\n",
    "\n",
    "# criterion = nn.SmoothL1Loss()"
   ]
  },
  {
   "cell_type": "markdown",
   "metadata": {
    "colab_type": "text",
    "id": "Wbe1kLYCrZ-4"
   },
   "source": [
    "### Initializing Tensorboard ###"
   ]
  },
  {
   "cell_type": "code",
   "execution_count": 20,
   "metadata": {
    "colab": {
     "base_uri": "https://localhost:8080/",
     "height": 34
    },
    "colab_type": "code",
    "executionInfo": {
     "elapsed": 1125,
     "status": "ok",
     "timestamp": 1595183237345,
     "user": {
      "displayName": "Sricharan V",
      "photoUrl": "",
      "userId": "03063971511613622677"
     },
     "user_tz": -330
    },
    "id": "FSuCJ988rZ-5",
    "outputId": "f0e34b44-4fc8-474b-bb63-92726e4e5209"
   },
   "outputs": [],
   "source": [
    "# ### Using datetime to capture date time and write details into a text file\n",
    "# date_time = str(datetime.datetime.now())\n",
    "# date = date_time[:10]\n",
    "# start_time = date_time[11:19]\n",
    "# model_path = \"saved_model/\" + date + \"__\" + start_time + \"/\" \n",
    "# if not(os.path.exists('saved_model')): \n",
    "#   os.mkdir('saved_model')\n",
    "# os.mkdir(model_path)\n",
    "# log_file = './' + model_path + 'logfile.txt'\n",
    "# log_data = open(log_file,'w+')\n",
    "# settings = ' The Settings of the model are: Epoch:%d, LR:%f, BATCH_SIZE:%d Seed:%d\\n'%(num_epochs,learn_rate,BATCH_SIZE,manualSeed)\n",
    "# log_data.write(settings) "
   ]
  },
  {
   "cell_type": "markdown",
   "metadata": {
    "colab_type": "text",
    "id": "e-Hf-yCxrZ_T"
   },
   "source": [
    "### Training ###"
   ]
  },
  {
   "cell_type": "code",
   "execution_count": 21,
   "metadata": {},
   "outputs": [
    {
     "data": {
      "text/plain": [
       "0.05"
      ]
     },
     "execution_count": 21,
     "metadata": {},
     "output_type": "execute_result"
    }
   ],
   "source": [
    "opt = Adam(lr=0.05,decay=1e-5)\n",
    "model.compile(optimizer=opt,loss='Huber')\n",
    "learn_rate"
   ]
  },
  {
   "cell_type": "code",
   "execution_count": 22,
   "metadata": {
    "collapsed": true,
    "jupyter": {
     "outputs_hidden": true
    }
   },
   "outputs": [
    {
     "name": "stdout",
     "output_type": "stream",
     "text": [
      "Epoch 1/200\n",
      "31/31 [==============================] - 21s 666ms/step - loss: 14.1407 - val_loss: 83214899085312.0000\n",
      "Epoch 2/200\n",
      "31/31 [==============================] - 14s 458ms/step - loss: 0.1412 - val_loss: 9018.4248\n",
      "Epoch 3/200\n",
      "31/31 [==============================] - 14s 457ms/step - loss: 0.0616 - val_loss: 0.1897\n",
      "Epoch 4/200\n",
      "31/31 [==============================] - 14s 458ms/step - loss: 0.0516 - val_loss: 45.4976\n",
      "Epoch 5/200\n",
      "31/31 [==============================] - 14s 456ms/step - loss: 0.0303 - val_loss: 7.1283\n",
      "Epoch 6/200\n",
      "31/31 [==============================] - 14s 457ms/step - loss: 0.0321 - val_loss: 1.0952\n",
      "Epoch 7/200\n",
      "31/31 [==============================] - 14s 457ms/step - loss: 0.0329 - val_loss: 0.0662\n",
      "Epoch 8/200\n",
      "31/31 [==============================] - 14s 457ms/step - loss: 0.0320 - val_loss: 0.0452\n",
      "Epoch 9/200\n",
      "31/31 [==============================] - 14s 455ms/step - loss: 0.0290 - val_loss: 0.0320\n",
      "Epoch 10/200\n",
      "31/31 [==============================] - 14s 456ms/step - loss: 0.0274 - val_loss: 0.0288\n",
      "Epoch 11/200\n",
      "31/31 [==============================] - 14s 456ms/step - loss: 0.0325 - val_loss: 0.0294\n",
      "Epoch 12/200\n",
      "31/31 [==============================] - 14s 456ms/step - loss: 0.0290 - val_loss: 0.0338\n",
      "Epoch 13/200\n",
      "31/31 [==============================] - 14s 458ms/step - loss: 0.0287 - val_loss: 0.0332\n",
      "Epoch 14/200\n",
      "31/31 [==============================] - 14s 456ms/step - loss: 0.0253 - val_loss: 0.0292\n",
      "Epoch 15/200\n",
      "31/31 [==============================] - 14s 456ms/step - loss: 0.0249 - val_loss: 0.0288\n",
      "Epoch 16/200\n",
      "31/31 [==============================] - 14s 456ms/step - loss: 0.0250 - val_loss: 0.0283\n",
      "Epoch 17/200\n",
      "31/31 [==============================] - 14s 455ms/step - loss: 0.0254 - val_loss: 0.0290\n",
      "Epoch 18/200\n",
      "31/31 [==============================] - 14s 455ms/step - loss: 0.0246 - val_loss: 0.0277\n",
      "Epoch 19/200\n",
      "31/31 [==============================] - 14s 457ms/step - loss: 0.0244 - val_loss: 0.0293\n",
      "Epoch 20/200\n",
      "31/31 [==============================] - 14s 456ms/step - loss: 0.0248 - val_loss: 0.0261\n",
      "Epoch 21/200\n",
      "31/31 [==============================] - 14s 456ms/step - loss: 0.0236 - val_loss: 0.0260\n",
      "Epoch 22/200\n",
      "31/31 [==============================] - 14s 455ms/step - loss: 0.0229 - val_loss: 0.0267\n",
      "Epoch 23/200\n",
      "31/31 [==============================] - 14s 456ms/step - loss: 0.0224 - val_loss: 0.0257\n",
      "Epoch 24/200\n",
      "31/31 [==============================] - 14s 456ms/step - loss: 0.0222 - val_loss: 0.0255\n",
      "Epoch 25/200\n",
      "31/31 [==============================] - 14s 456ms/step - loss: 0.0221 - val_loss: 0.0259\n",
      "Epoch 26/200\n",
      "31/31 [==============================] - 14s 456ms/step - loss: 0.0222 - val_loss: 0.0264\n",
      "Epoch 27/200\n",
      "31/31 [==============================] - 14s 456ms/step - loss: 0.0221 - val_loss: 0.0256\n",
      "Epoch 28/200\n",
      "31/31 [==============================] - 14s 456ms/step - loss: 0.0217 - val_loss: 0.0259\n",
      "Epoch 29/200\n",
      "31/31 [==============================] - 14s 456ms/step - loss: 0.0219 - val_loss: 0.0260\n",
      "Epoch 30/200\n",
      "31/31 [==============================] - 14s 456ms/step - loss: 0.0217 - val_loss: 0.0255\n",
      "Epoch 31/200\n",
      "31/31 [==============================] - 14s 458ms/step - loss: 0.0216 - val_loss: 0.0261\n",
      "Epoch 32/200\n",
      "31/31 [==============================] - 14s 456ms/step - loss: 0.0218 - val_loss: 0.0254\n",
      "Epoch 33/200\n",
      "31/31 [==============================] - 14s 457ms/step - loss: 0.0217 - val_loss: 0.0261\n",
      "Epoch 34/200\n",
      "31/31 [==============================] - 14s 456ms/step - loss: 0.0214 - val_loss: 0.0259\n",
      "Epoch 35/200\n",
      "31/31 [==============================] - 14s 457ms/step - loss: 0.0212 - val_loss: 0.0254\n",
      "Epoch 36/200\n",
      "31/31 [==============================] - 14s 458ms/step - loss: 0.0214 - val_loss: 0.0262\n",
      "Epoch 37/200\n",
      "31/31 [==============================] - 14s 456ms/step - loss: 0.0212 - val_loss: 0.0257\n",
      "Epoch 38/200\n",
      "31/31 [==============================] - 14s 457ms/step - loss: 0.0212 - val_loss: 0.0253\n",
      "Epoch 39/200\n",
      "31/31 [==============================] - 14s 456ms/step - loss: 0.0213 - val_loss: 0.0280\n",
      "Epoch 40/200\n",
      "31/31 [==============================] - 14s 457ms/step - loss: 0.0210 - val_loss: 0.0256\n",
      "Epoch 41/200\n",
      "31/31 [==============================] - 14s 456ms/step - loss: 0.0208 - val_loss: 0.0251\n",
      "Epoch 42/200\n",
      "31/31 [==============================] - 14s 457ms/step - loss: 0.0205 - val_loss: 0.0241\n",
      "Epoch 43/200\n",
      "31/31 [==============================] - 14s 456ms/step - loss: 0.0204 - val_loss: 0.0254\n",
      "Epoch 44/200\n",
      "31/31 [==============================] - 14s 458ms/step - loss: 0.0201 - val_loss: 0.0245\n",
      "Epoch 45/200\n",
      "31/31 [==============================] - 14s 457ms/step - loss: 0.0198 - val_loss: 0.0237\n",
      "Epoch 46/200\n",
      "31/31 [==============================] - 14s 456ms/step - loss: 0.0198 - val_loss: 0.0251\n",
      "Epoch 47/200\n",
      "31/31 [==============================] - 14s 457ms/step - loss: 0.0196 - val_loss: 0.0255\n",
      "Epoch 48/200\n",
      "31/31 [==============================] - 14s 457ms/step - loss: 0.0197 - val_loss: 0.0268\n",
      "Epoch 49/200\n",
      "31/31 [==============================] - 14s 456ms/step - loss: 0.0194 - val_loss: 0.0251\n",
      "Epoch 50/200\n",
      "31/31 [==============================] - 14s 457ms/step - loss: 0.0192 - val_loss: 0.0239\n",
      "Epoch 51/200\n",
      "31/31 [==============================] - 14s 457ms/step - loss: 0.0191 - val_loss: 0.0248\n",
      "Epoch 52/200\n",
      "31/31 [==============================] - 14s 457ms/step - loss: 0.0191 - val_loss: 0.0233\n",
      "Epoch 53/200\n",
      "31/31 [==============================] - 14s 458ms/step - loss: 0.0189 - val_loss: 0.0242\n",
      "Epoch 54/200\n",
      "31/31 [==============================] - 14s 456ms/step - loss: 0.0187 - val_loss: 0.0233\n",
      "Epoch 55/200\n",
      "31/31 [==============================] - 14s 459ms/step - loss: 0.0185 - val_loss: 0.0268\n",
      "Epoch 56/200\n",
      "31/31 [==============================] - 14s 457ms/step - loss: 0.0192 - val_loss: 0.0238\n",
      "Epoch 57/200\n",
      "31/31 [==============================] - 14s 457ms/step - loss: 0.0182 - val_loss: 0.0227\n",
      "Epoch 58/200\n",
      "31/31 [==============================] - 14s 456ms/step - loss: 0.0182 - val_loss: 0.0232\n",
      "Epoch 59/200\n",
      "31/31 [==============================] - 14s 457ms/step - loss: 0.0181 - val_loss: 0.0231\n",
      "Epoch 60/200\n",
      "31/31 [==============================] - 14s 457ms/step - loss: 0.0176 - val_loss: 0.0221\n",
      "Epoch 61/200\n",
      "31/31 [==============================] - 14s 457ms/step - loss: 0.0175 - val_loss: 0.0219\n",
      "Epoch 62/200\n",
      "31/31 [==============================] - 14s 457ms/step - loss: 0.0173 - val_loss: 0.0248\n",
      "Epoch 63/200\n",
      "31/31 [==============================] - 14s 456ms/step - loss: 0.0173 - val_loss: 0.0253\n",
      "Epoch 64/200\n",
      "31/31 [==============================] - 14s 456ms/step - loss: 0.0170 - val_loss: 0.0212\n",
      "Epoch 65/200\n",
      "31/31 [==============================] - 14s 458ms/step - loss: 0.0167 - val_loss: 0.0252\n",
      "Epoch 66/200\n",
      "31/31 [==============================] - 14s 456ms/step - loss: 0.0170 - val_loss: 0.0230\n",
      "Epoch 67/200\n",
      "31/31 [==============================] - 14s 456ms/step - loss: 0.0166 - val_loss: 0.0281\n",
      "Epoch 68/200\n",
      "31/31 [==============================] - 14s 456ms/step - loss: 0.0162 - val_loss: 0.0313\n",
      "Epoch 69/200\n",
      "31/31 [==============================] - 14s 457ms/step - loss: 0.0153 - val_loss: 0.0263\n",
      "Epoch 70/200\n",
      "31/31 [==============================] - 14s 457ms/step - loss: 0.0142 - val_loss: 0.0340\n",
      "Epoch 71/200\n",
      "31/31 [==============================] - 14s 457ms/step - loss: 0.0155 - val_loss: 0.0282\n",
      "Epoch 72/200\n",
      "31/31 [==============================] - 14s 457ms/step - loss: 0.0131 - val_loss: 0.0307\n",
      "Epoch 73/200\n",
      "31/31 [==============================] - 14s 457ms/step - loss: 0.0126 - val_loss: 0.0306\n",
      "Epoch 74/200\n",
      "31/31 [==============================] - 14s 456ms/step - loss: 0.0117 - val_loss: 0.0384\n",
      "Epoch 75/200\n",
      "31/31 [==============================] - 14s 457ms/step - loss: 0.0110 - val_loss: 0.0424\n",
      "Epoch 76/200\n",
      "31/31 [==============================] - 14s 456ms/step - loss: 0.0104 - val_loss: 0.0432\n",
      "Epoch 77/200\n",
      "31/31 [==============================] - 14s 456ms/step - loss: 0.0104 - val_loss: 0.0326\n",
      "Epoch 78/200\n",
      "31/31 [==============================] - 14s 456ms/step - loss: 0.0102 - val_loss: 0.0466\n",
      "Epoch 79/200\n",
      "31/31 [==============================] - 14s 457ms/step - loss: 0.0108 - val_loss: 0.0249\n",
      "Epoch 80/200\n",
      "31/31 [==============================] - 14s 457ms/step - loss: 0.0095 - val_loss: 0.0203\n",
      "Epoch 81/200\n",
      "31/31 [==============================] - 14s 457ms/step - loss: 0.0093 - val_loss: 0.0210\n",
      "Epoch 82/200\n",
      "31/31 [==============================] - 14s 457ms/step - loss: 0.0091 - val_loss: 0.0167\n",
      "Epoch 83/200\n",
      "31/31 [==============================] - 14s 456ms/step - loss: 0.0090 - val_loss: 0.0204\n",
      "Epoch 84/200\n",
      "31/31 [==============================] - 14s 457ms/step - loss: 0.0093 - val_loss: 0.0221\n",
      "Epoch 85/200\n",
      "31/31 [==============================] - 14s 456ms/step - loss: 0.0088 - val_loss: 0.0168\n",
      "Epoch 86/200\n",
      "31/31 [==============================] - 14s 457ms/step - loss: 0.0087 - val_loss: 0.0146\n",
      "Epoch 87/200\n",
      "31/31 [==============================] - 14s 456ms/step - loss: 0.0084 - val_loss: 0.0256\n",
      "Epoch 88/200\n",
      "31/31 [==============================] - 14s 456ms/step - loss: 0.0081 - val_loss: 0.0140\n",
      "Epoch 89/200\n",
      "31/31 [==============================] - 14s 455ms/step - loss: 0.0079 - val_loss: 0.0120\n",
      "Epoch 90/200\n",
      "31/31 [==============================] - 14s 456ms/step - loss: 0.0079 - val_loss: 0.0124\n",
      "Epoch 91/200\n",
      "31/31 [==============================] - 14s 456ms/step - loss: 0.0078 - val_loss: 0.0121\n",
      "Epoch 92/200\n",
      "31/31 [==============================] - 14s 456ms/step - loss: 0.0077 - val_loss: 0.0149\n",
      "Epoch 93/200\n",
      "31/31 [==============================] - 14s 456ms/step - loss: 0.0075 - val_loss: 0.0149\n",
      "Epoch 94/200\n",
      "31/31 [==============================] - 14s 457ms/step - loss: 0.0072 - val_loss: 0.0118\n",
      "Epoch 95/200\n",
      "31/31 [==============================] - 14s 456ms/step - loss: 0.0075 - val_loss: 0.0138\n",
      "Epoch 96/200\n",
      "31/31 [==============================] - 14s 455ms/step - loss: 0.0071 - val_loss: 0.0122\n",
      "Epoch 97/200\n",
      "31/31 [==============================] - 14s 456ms/step - loss: 0.0070 - val_loss: 0.0128\n",
      "Epoch 98/200\n",
      "31/31 [==============================] - 14s 457ms/step - loss: 0.0075 - val_loss: 0.0098\n",
      "Epoch 99/200\n",
      "31/31 [==============================] - 14s 456ms/step - loss: 0.0069 - val_loss: 0.0114\n",
      "Epoch 100/200\n",
      "31/31 [==============================] - 14s 456ms/step - loss: 0.0069 - val_loss: 0.0126\n",
      "Epoch 101/200\n",
      "31/31 [==============================] - 14s 456ms/step - loss: 0.0068 - val_loss: 0.0112\n",
      "Epoch 102/200\n",
      "31/31 [==============================] - 14s 456ms/step - loss: 0.0071 - val_loss: 0.0192\n",
      "Epoch 103/200\n",
      "31/31 [==============================] - 14s 456ms/step - loss: 0.0099 - val_loss: 0.0213\n",
      "Epoch 104/200\n",
      "31/31 [==============================] - 14s 457ms/step - loss: 0.0084 - val_loss: 0.0154\n",
      "Epoch 105/200\n",
      "31/31 [==============================] - 14s 456ms/step - loss: 0.0076 - val_loss: 0.0180\n",
      "Epoch 106/200\n",
      "31/31 [==============================] - 14s 456ms/step - loss: 0.0068 - val_loss: 0.0133\n",
      "Epoch 107/200\n",
      "31/31 [==============================] - 14s 457ms/step - loss: 0.0064 - val_loss: 0.0126\n",
      "Epoch 108/200\n",
      "31/31 [==============================] - 14s 457ms/step - loss: 0.0064 - val_loss: 0.0098\n",
      "Epoch 109/200\n",
      "31/31 [==============================] - 14s 456ms/step - loss: 0.0062 - val_loss: 0.0095\n",
      "Epoch 110/200\n",
      "31/31 [==============================] - 14s 457ms/step - loss: 0.0082 - val_loss: 0.0194\n",
      "Epoch 111/200\n",
      "31/31 [==============================] - 14s 457ms/step - loss: 0.0072 - val_loss: 0.0172\n",
      "Epoch 112/200\n",
      "31/31 [==============================] - 14s 457ms/step - loss: 0.0062 - val_loss: 0.0112\n",
      "Epoch 113/200\n",
      "31/31 [==============================] - 14s 457ms/step - loss: 0.0062 - val_loss: 0.0140\n",
      "Epoch 114/200\n",
      "31/31 [==============================] - 14s 456ms/step - loss: 0.0059 - val_loss: 0.0113\n",
      "Epoch 115/200\n",
      "31/31 [==============================] - 14s 457ms/step - loss: 0.0059 - val_loss: 0.0093\n",
      "Epoch 116/200\n",
      "31/31 [==============================] - 14s 456ms/step - loss: 0.0057 - val_loss: 0.0106\n",
      "Epoch 117/200\n",
      "31/31 [==============================] - 14s 457ms/step - loss: 0.0061 - val_loss: 0.0100\n",
      "Epoch 118/200\n",
      "31/31 [==============================] - 14s 458ms/step - loss: 0.0056 - val_loss: 0.0100\n",
      "Epoch 119/200\n",
      "31/31 [==============================] - 14s 457ms/step - loss: 0.0054 - val_loss: 0.0100\n",
      "Epoch 120/200\n",
      "31/31 [==============================] - 14s 457ms/step - loss: 0.0053 - val_loss: 0.0082\n",
      "Epoch 121/200\n",
      "31/31 [==============================] - 14s 456ms/step - loss: 0.0053 - val_loss: 0.0123\n",
      "Epoch 122/200\n",
      "31/31 [==============================] - 14s 457ms/step - loss: 0.0052 - val_loss: 0.0099\n",
      "Epoch 123/200\n",
      "31/31 [==============================] - 14s 456ms/step - loss: 0.0052 - val_loss: 0.0115\n",
      "Epoch 124/200\n",
      "31/31 [==============================] - 14s 456ms/step - loss: 0.0049 - val_loss: 0.0087\n",
      "Epoch 125/200\n",
      "31/31 [==============================] - 14s 457ms/step - loss: 0.0052 - val_loss: 0.0081\n",
      "Epoch 126/200\n",
      "31/31 [==============================] - 14s 457ms/step - loss: 0.0050 - val_loss: 0.0078\n",
      "Epoch 127/200\n",
      "31/31 [==============================] - 14s 457ms/step - loss: 0.0051 - val_loss: 0.0082\n",
      "Epoch 128/200\n",
      "31/31 [==============================] - 14s 456ms/step - loss: 0.0047 - val_loss: 0.0105\n",
      "Epoch 129/200\n",
      "31/31 [==============================] - 14s 457ms/step - loss: 0.0048 - val_loss: 0.0079\n",
      "Epoch 130/200\n",
      "31/31 [==============================] - 14s 456ms/step - loss: 0.0050 - val_loss: 0.0123\n",
      "Epoch 131/200\n",
      "31/31 [==============================] - 14s 455ms/step - loss: 0.0047 - val_loss: 0.0096\n",
      "Epoch 132/200\n",
      "31/31 [==============================] - 14s 456ms/step - loss: 0.0049 - val_loss: 0.0078\n",
      "Epoch 133/200\n",
      "31/31 [==============================] - 14s 457ms/step - loss: 0.0046 - val_loss: 0.0091\n",
      "Epoch 134/200\n",
      "31/31 [==============================] - 14s 456ms/step - loss: 0.0047 - val_loss: 0.0085\n",
      "Epoch 135/200\n",
      "31/31 [==============================] - 14s 456ms/step - loss: 0.0043 - val_loss: 0.0079\n",
      "Epoch 136/200\n",
      "31/31 [==============================] - 14s 456ms/step - loss: 0.0044 - val_loss: 0.0113\n",
      "Epoch 137/200\n",
      "31/31 [==============================] - 14s 456ms/step - loss: 0.0047 - val_loss: 0.0085\n",
      "Epoch 138/200\n",
      "31/31 [==============================] - 14s 457ms/step - loss: 0.0041 - val_loss: 0.0083\n",
      "Epoch 139/200\n",
      "31/31 [==============================] - 14s 456ms/step - loss: 0.0039 - val_loss: 0.0094\n",
      "Epoch 140/200\n",
      "31/31 [==============================] - 14s 457ms/step - loss: 0.0043 - val_loss: 0.0059\n",
      "Epoch 141/200\n",
      "31/31 [==============================] - 14s 457ms/step - loss: 0.0041 - val_loss: 0.0086\n",
      "Epoch 142/200\n",
      "31/31 [==============================] - 14s 456ms/step - loss: 0.0040 - val_loss: 0.0085\n",
      "Epoch 143/200\n",
      "31/31 [==============================] - 14s 456ms/step - loss: 0.0041 - val_loss: 0.0094\n",
      "Epoch 144/200\n",
      "31/31 [==============================] - 14s 456ms/step - loss: 0.0042 - val_loss: 0.0057\n",
      "Epoch 145/200\n",
      "31/31 [==============================] - 14s 456ms/step - loss: 0.0040 - val_loss: 0.0072\n",
      "Epoch 146/200\n",
      "31/31 [==============================] - 14s 456ms/step - loss: 0.0036 - val_loss: 0.0059\n",
      "Epoch 147/200\n",
      "31/31 [==============================] - 14s 456ms/step - loss: 0.0039 - val_loss: 0.0071\n",
      "Epoch 148/200\n",
      "31/31 [==============================] - 14s 457ms/step - loss: 0.0034 - val_loss: 0.0096\n",
      "Epoch 149/200\n",
      "31/31 [==============================] - 14s 457ms/step - loss: 0.0045 - val_loss: 0.0103\n",
      "Epoch 150/200\n",
      "31/31 [==============================] - 14s 459ms/step - loss: 0.0040 - val_loss: 0.0101\n",
      "Epoch 151/200\n",
      "31/31 [==============================] - 14s 456ms/step - loss: 0.0040 - val_loss: 0.0090\n",
      "Epoch 152/200\n",
      "31/31 [==============================] - 14s 456ms/step - loss: 0.0034 - val_loss: 0.0075\n",
      "Epoch 153/200\n",
      "31/31 [==============================] - 14s 456ms/step - loss: 0.0034 - val_loss: 0.0074\n",
      "Epoch 154/200\n",
      "31/31 [==============================] - 14s 456ms/step - loss: 0.0032 - val_loss: 0.0115\n",
      "Epoch 155/200\n",
      "31/31 [==============================] - 14s 457ms/step - loss: 0.0035 - val_loss: 0.0076\n",
      "Epoch 156/200\n",
      "31/31 [==============================] - 14s 457ms/step - loss: 0.0033 - val_loss: 0.0071\n",
      "Epoch 157/200\n",
      "31/31 [==============================] - 14s 457ms/step - loss: 0.0032 - val_loss: 0.0061\n",
      "Epoch 158/200\n",
      "31/31 [==============================] - 14s 456ms/step - loss: 0.0032 - val_loss: 0.0047\n",
      "Epoch 159/200\n",
      "31/31 [==============================] - 14s 457ms/step - loss: 0.0027 - val_loss: 0.0051\n",
      "Epoch 160/200\n",
      "31/31 [==============================] - 14s 456ms/step - loss: 0.0030 - val_loss: 0.0067\n",
      "Epoch 161/200\n",
      "31/31 [==============================] - 14s 456ms/step - loss: 0.0031 - val_loss: 0.0067\n",
      "Epoch 162/200\n",
      "31/31 [==============================] - 14s 456ms/step - loss: 0.0031 - val_loss: 0.0075\n",
      "Epoch 163/200\n",
      "31/31 [==============================] - 14s 456ms/step - loss: 0.0029 - val_loss: 0.0068\n",
      "Epoch 164/200\n",
      "31/31 [==============================] - 14s 457ms/step - loss: 0.0035 - val_loss: 0.0094\n",
      "Epoch 165/200\n",
      "31/31 [==============================] - 14s 456ms/step - loss: 0.0032 - val_loss: 0.0061\n",
      "Epoch 166/200\n",
      "31/31 [==============================] - 14s 456ms/step - loss: 0.0026 - val_loss: 0.0071\n",
      "Epoch 167/200\n",
      "31/31 [==============================] - 14s 457ms/step - loss: 0.0024 - val_loss: 0.0098\n",
      "Epoch 168/200\n",
      "31/31 [==============================] - 14s 457ms/step - loss: 0.0028 - val_loss: 0.0064\n",
      "Epoch 169/200\n",
      "31/31 [==============================] - 14s 457ms/step - loss: 0.0028 - val_loss: 0.0105\n",
      "Epoch 170/200\n",
      "31/31 [==============================] - 14s 456ms/step - loss: 0.0027 - val_loss: 0.0076\n",
      "Epoch 171/200\n",
      "31/31 [==============================] - 14s 456ms/step - loss: 0.0023 - val_loss: 0.0097\n",
      "Epoch 172/200\n",
      "31/31 [==============================] - 14s 457ms/step - loss: 0.0031 - val_loss: 0.0090\n",
      "Epoch 173/200\n",
      "31/31 [==============================] - 14s 456ms/step - loss: 0.0024 - val_loss: 0.0124\n",
      "Epoch 174/200\n",
      "31/31 [==============================] - 14s 456ms/step - loss: 0.0024 - val_loss: 0.0097\n",
      "Epoch 175/200\n",
      "31/31 [==============================] - 14s 456ms/step - loss: 0.0025 - val_loss: 0.0086\n",
      "Epoch 176/200\n",
      "31/31 [==============================] - 14s 456ms/step - loss: 0.0023 - val_loss: 0.0083\n",
      "Epoch 177/200\n",
      "31/31 [==============================] - 14s 457ms/step - loss: 0.0025 - val_loss: 0.0088\n",
      "Epoch 178/200\n",
      "31/31 [==============================] - 14s 456ms/step - loss: 0.0025 - val_loss: 0.0075\n",
      "Epoch 179/200\n",
      "31/31 [==============================] - 14s 456ms/step - loss: 0.0020 - val_loss: 0.0074\n",
      "Epoch 180/200\n",
      "31/31 [==============================] - 14s 456ms/step - loss: 0.0020 - val_loss: 0.0064\n",
      "Epoch 181/200\n",
      "31/31 [==============================] - 14s 456ms/step - loss: 0.0027 - val_loss: 0.0149\n",
      "Epoch 182/200\n",
      "31/31 [==============================] - 14s 456ms/step - loss: 0.0022 - val_loss: 0.0086\n",
      "Epoch 183/200\n",
      "31/31 [==============================] - 14s 456ms/step - loss: 0.0020 - val_loss: 0.0067\n",
      "Epoch 184/200\n",
      "31/31 [==============================] - 14s 455ms/step - loss: 0.0019 - val_loss: 0.0058\n",
      "Epoch 185/200\n",
      "31/31 [==============================] - 14s 457ms/step - loss: 0.0018 - val_loss: 0.0070\n",
      "Epoch 186/200\n",
      "31/31 [==============================] - 14s 456ms/step - loss: 0.0020 - val_loss: 0.0072\n",
      "Epoch 187/200\n",
      "31/31 [==============================] - 14s 456ms/step - loss: 0.0019 - val_loss: 0.0074\n",
      "Epoch 188/200\n",
      "31/31 [==============================] - 14s 456ms/step - loss: 0.0022 - val_loss: 0.0102\n",
      "Epoch 189/200\n",
      "31/31 [==============================] - 14s 457ms/step - loss: 0.0023 - val_loss: 0.0082\n",
      "Epoch 190/200\n",
      "31/31 [==============================] - 14s 456ms/step - loss: 0.0019 - val_loss: 0.0085\n",
      "Epoch 191/200\n",
      "31/31 [==============================] - 14s 456ms/step - loss: 0.0017 - val_loss: 0.0080\n",
      "Epoch 192/200\n",
      "31/31 [==============================] - 14s 456ms/step - loss: 0.0019 - val_loss: 0.0090\n",
      "Epoch 193/200\n",
      "31/31 [==============================] - 14s 456ms/step - loss: 0.0020 - val_loss: 0.0068\n",
      "Epoch 194/200\n",
      "31/31 [==============================] - 14s 456ms/step - loss: 0.0020 - val_loss: 0.0079\n",
      "Epoch 195/200\n",
      "31/31 [==============================] - 14s 456ms/step - loss: 0.0017 - val_loss: 0.0073\n",
      "Epoch 196/200\n",
      "31/31 [==============================] - 14s 457ms/step - loss: 0.0017 - val_loss: 0.0092\n",
      "Epoch 197/200\n",
      "31/31 [==============================] - 14s 456ms/step - loss: 0.0014 - val_loss: 0.0073\n",
      "Epoch 198/200\n",
      "31/31 [==============================] - 14s 456ms/step - loss: 0.0014 - val_loss: 0.0071\n",
      "Epoch 199/200\n",
      "31/31 [==============================] - 14s 456ms/step - loss: 0.0013 - val_loss: 0.0104\n",
      "Epoch 200/200\n",
      "31/31 [==============================] - 14s 455ms/step - loss: 0.0014 - val_loss: 0.0066\n"
     ]
    },
    {
     "data": {
      "text/plain": [
       "<tensorflow.python.keras.callbacks.History at 0x7f1fb420eed0>"
      ]
     },
     "execution_count": 22,
     "metadata": {},
     "output_type": "execute_result"
    }
   ],
   "source": [
    "model.fit(patient_ecg_train,dist_transform_train,\n",
    "          validation_data=(patient_ecg_test,dist_transform_test),\n",
    "          epochs=200,\n",
    "          batch_size=64)\n",
    "\n",
    "# patient_ecg_train = torch.load('train.pt')\n",
    "# dist_transform_train = torch.load('dist_transform_train.pt')\n",
    "# patient_ecg_test = torch.load('test.pt')\n",
    "# dist_transform_test = torch.load('dist_transform_test.pt')"
   ]
  },
  {
   "cell_type": "code",
   "execution_count": 23,
   "metadata": {
    "colab": {
     "base_uri": "https://localhost:8080/",
     "height": 1000,
     "referenced_widgets": [
      "613e3121a6954bc3ad6b304792d6ffc0",
      "33161a85b3ed48c280c15ecec72dc407",
      "969aa4977b3544649e81b9fc40478fb2",
      "bc729aea834f47548f564012920e96ed",
      "06c419d4a11744ae883efa3eb3dde16d",
      "db4c7d1f4bf1463caca66524d719e050",
      "95b89a795924443d9f921ecd2b265a5d",
      "314dfc662be24750a30d953044d894f9"
     ]
    },
    "colab_type": "code",
    "executionInfo": {
     "elapsed": 139249,
     "status": "error",
     "timestamp": 1595183380345,
     "user": {
      "displayName": "Sricharan V",
      "photoUrl": "",
      "userId": "03063971511613622677"
     },
     "user_tz": -330
    },
    "id": "vnDKw-rkrZ_a",
    "outputId": "898f1473-4360-4f5e-8d47-8bc4e312ea00"
   },
   "outputs": [],
   "source": [
    "# epoch_loss = []\n",
    "# min_test_loss = 1000 ### Set a very high number\n",
    "# best_epoch = 0\n",
    "# for epoch in (range(num_epochs)):\n",
    "#     print ('-'*40)\n",
    "#     model.train()\n",
    "#     print ('Epoch {}/{}'.format(epoch+1,num_epochs))\n",
    "#     print ('-'*10)\n",
    "#     net_loss = 0\n",
    "    \n",
    "#     for step,(x,y) in enumerate(trainloader):\n",
    "        \n",
    "#         print(\"Step no: {}/{}\".format(step+1, len(trainloader)))\n",
    "#         x,y = x.cuda(),y.cuda()\n",
    "#         y_predict = model(x) \n",
    "        \n",
    "#         ### Loss computation and Optimization ###\n",
    "#         loss = criterion(y,y_predict)\n",
    "#         optimizer.zero_grad()\n",
    "#         loss.backward()\n",
    "#         optimizer.step()\n",
    "#         net_loss += loss\n",
    "        \n",
    "#     net_loss = net_loss/ (step + 1)\n",
    "    \n",
    "#     ### Logging ###\n",
    "#     settings = \"\\nEpoch:{},Loss:{}\".format(epoch,net_loss)\n",
    "#     log_data.write(settings)\n",
    "#     if(epoch == num_epochs - 1):\n",
    "#         log_data.close()\n",
    "    \n",
    "#     print(\"Net loss is:\", net_loss)\n",
    "#     epoch_loss.append(net_loss.data)\n",
    "    \n",
    "#     scheduler.step()\n",
    "\n",
    "#     ### Evaluation and saving best model ###    \n",
    "#     if epoch % 10 == 0:\n",
    "#         print ('-'*40)\n",
    "#         print(\"..........Evaluation..........\")\n",
    "#         print(\"Epoch No is:\", epoch)\n",
    "#         model.eval()\n",
    "    \n",
    "#         with torch.no_grad():\n",
    "#           net_test_loss = 0 \n",
    "#           for step,(x,y) in enumerate(testloader): ### Use trainloader for AK2-11 ###\n",
    "#               x,y = Variable(x.cuda()),Variable(y.cuda())\n",
    "#               y_predict_test = model(x)\n",
    "                           \n",
    "#               test_loss = criterion(y_predict_test,y)                \n",
    "#               net_test_loss += test_loss                 \n",
    "            \n",
    "#           net_test_loss /= step + 1 \n",
    "            \n",
    "#         ### Saving the best model based on the Minimum Loss\n",
    "#         if net_test_loss < min_test_loss:\n",
    "#           min_test_loss = net_test_loss\n",
    "#           best_epoch = epoch\n",
    "#           print(\"..........Saving the model..........\")\n",
    "#           torch.save(model.state_dict(),model_path+'Epoch'+str(epoch)+'.pt')\n",
    "# print(\"base model in epoch: \", best_epoch)"
   ]
  },
  {
   "cell_type": "markdown",
   "metadata": {
    "colab_type": "text",
    "id": "UYrjL8Cs4uO5"
   },
   "source": [
    "### Evaluation\n",
    "\n"
   ]
  },
  {
   "cell_type": "code",
   "execution_count": 24,
   "metadata": {
    "colab": {
     "base_uri": "https://localhost:8080/",
     "height": 34
    },
    "colab_type": "code",
    "executionInfo": {
     "elapsed": 1500,
     "status": "ok",
     "timestamp": 1595183439808,
     "user": {
      "displayName": "Sricharan V",
      "photoUrl": "",
      "userId": "03063971511613622677"
     },
     "user_tz": -330
    },
    "id": "XjS8FQb3LsUE",
    "outputId": "fc9688d9-f843-4ea5-c5a2-2fe16819aad2"
   },
   "outputs": [],
   "source": [
    "# best_model_path = model_path+'Epoch160.pt'\n",
    "# print(best_model_path)\n",
    "# SAVED_MODEL_PATH = \"model_1.pt\"\n",
    "# # model.load_state_dict(torch.load(SAVED_MODEL_PATH))\n",
    "# model.load_state_dict(torch.load(best_model_path))\n"
   ]
  },
  {
   "cell_type": "code",
   "execution_count": 25,
   "metadata": {
    "colab": {
     "base_uri": "https://localhost:8080/",
     "height": 34
    },
    "colab_type": "code",
    "executionInfo": {
     "elapsed": 2590,
     "status": "ok",
     "timestamp": 1595183443906,
     "user": {
      "displayName": "Sricharan V",
      "photoUrl": "",
      "userId": "03063971511613622677"
     },
     "user_tz": -330
    },
    "id": "XL_8udoWxoPA",
    "outputId": "72f7e0e0-6e09-41ab-9886-d082391a40e7"
   },
   "outputs": [
    {
     "data": {
      "text/plain": [
       "((64, 5000), (64, 5000, 1))"
      ]
     },
     "execution_count": 25,
     "metadata": {},
     "output_type": "execute_result"
    }
   ],
   "source": [
    "y_pred_array = []\n",
    "ecg = []\n",
    "\n",
    "\n",
    "y_predict_test = model.predict(patient_ecg_test)\n",
    "\n",
    "# test_loss = criterion(y_predict_test,y)                \n",
    "# net_test_loss += test_loss   \n",
    "# print('Step: {}, Loss: {} '.format(step,net_test_loss))\n",
    "\n",
    "# ecg.append(patient_ecg_test)\n",
    "y_pred_array = y_predict_test.reshape((-1,5000))#[:,0,:]\n",
    "y_pred_array.shape,y_predict_test.shape"
   ]
  },
  {
   "cell_type": "code",
   "execution_count": 26,
   "metadata": {},
   "outputs": [
    {
     "data": {
      "text/plain": [
       "((64, 5000, 1), (64, 5000, 1))"
      ]
     },
     "execution_count": 26,
     "metadata": {},
     "output_type": "execute_result"
    }
   ],
   "source": [
    "dist_transform_test.shape,patient_ecg_test.shape"
   ]
  },
  {
   "cell_type": "code",
   "execution_count": 27,
   "metadata": {},
   "outputs": [],
   "source": [
    "# patient_ecg_test = torch.load('test.pt')\n",
    "# dist_transform_test = torch.load('dist_transform_test.pt')"
   ]
  },
  {
   "cell_type": "markdown",
   "metadata": {
    "colab_type": "text",
    "id": "AfTPsVFTPQd4"
   },
   "source": [
    "### Post Processing ###"
   ]
  },
  {
   "cell_type": "code",
   "execution_count": 28,
   "metadata": {
    "colab": {},
    "colab_type": "code",
    "executionInfo": {
     "elapsed": 1107,
     "status": "ok",
     "timestamp": 1595183448608,
     "user": {
      "displayName": "Sricharan V",
      "photoUrl": "",
      "userId": "03063971511613622677"
     },
     "user_tz": -330
    },
    "id": "lM0Z2Z0JLfwe"
   },
   "outputs": [],
   "source": [
    "batch_no = 0\n",
    "# y_pred_array = np.asarray(y_pred_array[batch_no])\n",
    "ecg = patient_ecg_test#np.asarray(ecg[batch_no])[:,0,:]\n",
    "\n",
    "peak_locs = []\n",
    "for i in range(y_pred_array.shape[0]):\n",
    "    peak_locs.append(scipy.signal.find_peaks(-y_pred_array[i,:],distance = 90,height = -0.2,prominence = 0.035)[0])\n",
    "\n",
    "### Getting the amplitude values at valley location. \n",
    "y_roll_valleys = []\n",
    "y = []\n",
    "for j in range(len(peak_locs)):\n",
    "    y = [ecg[j,i] for i in peak_locs[j]]\n",
    "    y_roll_valleys.append(y)"
   ]
  },
  {
   "cell_type": "markdown",
   "metadata": {
    "colab_type": "text",
    "id": "Ed84FVtSPs09"
   },
   "source": [
    "### Plotting output ###"
   ]
  },
  {
   "cell_type": "code",
   "execution_count": 50,
   "metadata": {
    "colab": {
     "base_uri": "https://localhost:8080/",
     "height": 282
    },
    "colab_type": "code",
    "executionInfo": {
     "elapsed": 1358,
     "status": "ok",
     "timestamp": 1595183453995,
     "user": {
      "displayName": "Sricharan V",
      "photoUrl": "",
      "userId": "03063971511613622677"
     },
     "user_tz": -330
    },
    "id": "x1hsN7CcPIGU",
    "outputId": "d9e3329e-2b6f-43ca-f2a0-e6fb6a264021"
   },
   "outputs": [
    {
     "data": {
      "text/plain": [
       "[<matplotlib.lines.Line2D at 0x7f21351cc190>]"
      ]
     },
     "execution_count": 50,
     "metadata": {},
     "output_type": "execute_result"
    },
    {
     "data": {
      "image/png": "[encoded data removed]",
      "text/plain": [
       "<Figure size 432x288 with 1 Axes>"
      ]
     },
     "metadata": {
      "needs_background": "light"
     },
     "output_type": "display_data"
    }
   ],
   "source": [
    "record_no = 35\n",
    "plt.plot(ecg[record_no,:,0])\n",
    "# plt.plot(y_pred_array[record_no])\n",
    "plt.plot(dist_transform_test[record_no])\n",
    "plt.plot(peak_locs[record_no], y_roll_valleys[record_no],'*')"
   ]
  },
  {
   "cell_type": "code",
   "execution_count": 30,
   "metadata": {},
   "outputs": [
    {
     "data": {
      "text/plain": [
       "(array([0.801913  , 0.7657761 , 0.75298524, ..., 0.74985224, 0.76605093,\n",
       "        0.7445706 ], dtype=float32),\n",
       " array([[1.        ],\n",
       "        [0.9954128 ],\n",
       "        [0.9908257 ],\n",
       "        ...,\n",
       "        [0.5917431 ],\n",
       "        [0.5963303 ],\n",
       "        [0.60091746]], dtype=float32))"
      ]
     },
     "execution_count": 30,
     "metadata": {},
     "output_type": "execute_result"
    }
   ],
   "source": [
    "y_pred_array[record_no],dist_transform_test[record_no]"
   ]
  },
  {
   "cell_type": "code",
   "execution_count": 36,
   "metadata": {},
   "outputs": [
    {
     "data": {
      "text/plain": [
       "((64, 5000), (64, 5000, 1))"
      ]
     },
     "execution_count": 36,
     "metadata": {},
     "output_type": "execute_result"
    }
   ],
   "source": [
    "y_pred_array.shape, dist_transform_test.shape"
   ]
  },
  {
   "cell_type": "code",
   "execution_count": 41,
   "metadata": {},
   "outputs": [
    {
     "data": {
      "text/plain": [
       "(0.06685272, 0.017215652, 0.22545017)"
      ]
     },
     "execution_count": 41,
     "metadata": {},
     "output_type": "execute_result"
    }
   ],
   "source": [
    "loss = np.mean(np.abs(y_pred_array-dist_transform_test.reshape(64,5000)),axis=1)\n",
    "loss.mean(),loss.min(),loss.max()"
   ]
  },
  {
   "cell_type": "code",
   "execution_count": 43,
   "metadata": {},
   "outputs": [
    {
     "data": {
      "text/plain": [
       "{'whiskers': [<matplotlib.lines.Line2D at 0x7f21354be150>,\n",
       "  <matplotlib.lines.Line2D at 0x7f21354be590>],\n",
       " 'caps': [<matplotlib.lines.Line2D at 0x7f21354bea10>,\n",
       "  <matplotlib.lines.Line2D at 0x7f21354bee10>],\n",
       " 'boxes': [<matplotlib.lines.Line2D at 0x7f21354b6d90>],\n",
       " 'medians': [<matplotlib.lines.Line2D at 0x7f21354c82d0>],\n",
       " 'fliers': [<matplotlib.lines.Line2D at 0x7f21354c8710>],\n",
       " 'means': []}"
      ]
     },
     "execution_count": 43,
     "metadata": {},
     "output_type": "execute_result"
    },
    {
     "data": {
      "image/png": "[encoded data removed]",
      "text/plain": [
       "<Figure size 432x288 with 1 Axes>"
      ]
     },
     "metadata": {
      "needs_background": "light"
     },
     "output_type": "display_data"
    }
   ],
   "source": [
    "plt.boxplot(loss)"
   ]
  },
  {
   "cell_type": "code",
   "execution_count": 42,
   "metadata": {},
   "outputs": [
    {
     "data": {
      "text/html": [
       "<div>\n",
       "<style scoped>\n",
       "    .dataframe tbody tr th:only-of-type {\n",
       "        vertical-align: middle;\n",
       "    }\n",
       "\n",
       "    .dataframe tbody tr th {\n",
       "        vertical-align: top;\n",
       "    }\n",
       "\n",
       "    .dataframe thead th {\n",
       "        text-align: right;\n",
       "    }\n",
       "</style>\n",
       "<table border=\"1\" class=\"dataframe\">\n",
       "  <thead>\n",
       "    <tr style=\"text-align: right;\">\n",
       "      <th></th>\n",
       "      <th>0</th>\n",
       "    </tr>\n",
       "  </thead>\n",
       "  <tbody>\n",
       "    <tr>\n",
       "      <th>count</th>\n",
       "      <td>64.000000</td>\n",
       "    </tr>\n",
       "    <tr>\n",
       "      <th>mean</th>\n",
       "      <td>0.066853</td>\n",
       "    </tr>\n",
       "    <tr>\n",
       "      <th>std</th>\n",
       "      <td>0.044667</td>\n",
       "    </tr>\n",
       "    <tr>\n",
       "      <th>min</th>\n",
       "      <td>0.017216</td>\n",
       "    </tr>\n",
       "    <tr>\n",
       "      <th>25%</th>\n",
       "      <td>0.031492</td>\n",
       "    </tr>\n",
       "    <tr>\n",
       "      <th>50%</th>\n",
       "      <td>0.050636</td>\n",
       "    </tr>\n",
       "    <tr>\n",
       "      <th>75%</th>\n",
       "      <td>0.095050</td>\n",
       "    </tr>\n",
       "    <tr>\n",
       "      <th>max</th>\n",
       "      <td>0.225450</td>\n",
       "    </tr>\n",
       "  </tbody>\n",
       "</table>\n",
       "</div>"
      ],
      "text/plain": [
       "               0\n",
       "count  64.000000\n",
       "mean    0.066853\n",
       "std     0.044667\n",
       "min     0.017216\n",
       "25%     0.031492\n",
       "50%     0.050636\n",
       "75%     0.095050\n",
       "max     0.225450"
      ]
     },
     "execution_count": 42,
     "metadata": {},
     "output_type": "execute_result"
    }
   ],
   "source": [
    "import pandas as pd\n",
    "pd.DataFrame(loss).describe()"
   ]
  },
  {
   "cell_type": "code",
   "execution_count": 55,
   "metadata": {},
   "outputs": [],
   "source": [
    "model.save_weights('../../../../Models/RR/RR_app.hdf5')"
   ]
  },
  {
   "cell_type": "code",
   "execution_count": 56,
   "metadata": {},
   "outputs": [
    {
     "data": {
      "text/plain": [
       "'2.2.0'"
      ]
     },
     "execution_count": 56,
     "metadata": {},
     "output_type": "execute_result"
    }
   ],
   "source": [
    "tf.__version__"
   ]
  },
  {
   "cell_type": "code",
   "execution_count": null,
   "metadata": {},
   "outputs": [],
   "source": []
  }
 ],
 "metadata": {
  "accelerator": "GPU",
  "colab": {
   "name": "train_CPSC.ipynb",
   "provenance": []
  },
  "kernelspec": {
   "display_name": "tensorflow22",
   "language": "python",
   "name": "tensorflow22"
  },
  "language_info": {
   "codemirror_mode": {
    "name": "ipython",
    "version": 3
   },
   "file_extension": ".py",
   "mimetype": "text/x-python",
   "name": "python",
   "nbconvert_exporter": "python",
   "pygments_lexer": "ipython3",
   "version": "3.7.9"
  },
  "widgets": {
   "application/vnd.jupyter.widget-state+json": {
    "053c08f89b80490e93ae6cc0484707f7": {
     "model_module": "@jupyter-widgets/base",
     "model_name": "LayoutModel",
     "state": {
      "_model_module": "@jupyter-widgets/base",
      "_model_module_version": "1.2.0",
      "_model_name": "LayoutModel",
      "_view_count": null,
      "_view_module": "@jupyter-widgets/base",
      "_view_module_version": "1.2.0",
      "_view_name": "LayoutView",
      "align_content": null,
      "align_items": null,
      "align_self": null,
      "border": null,
      "bottom": null,
      "display": null,
      "flex": null,
      "flex_flow": null,
      "grid_area": null,
      "grid_auto_columns": null,
      "grid_auto_flow": null,
      "grid_auto_rows": null,
      "grid_column": null,
      "grid_gap": null,
      "grid_row": null,
      "grid_template_areas": null,
      "grid_template_columns": null,
      "grid_template_rows": null,
      "height": null,
      "justify_content": null,
      "justify_items": null,
      "left": null,
      "margin": null,
      "max_height": null,
      "max_width": null,
      "min_height": null,
      "min_width": null,
      "object_fit": null,
      "object_position": null,
      "order": null,
      "overflow": null,
      "overflow_x": null,
      "overflow_y": null,
      "padding": null,
      "right": null,
      "top": null,
      "visibility": null,
      "width": null
     }
    },
    "06c419d4a11744ae883efa3eb3dde16d": {
     "model_module": "@jupyter-widgets/controls",
     "model_name": "ProgressStyleModel",
     "state": {
      "_model_module": "@jupyter-widgets/controls",
      "_model_module_version": "1.5.0",
      "_model_name": "ProgressStyleModel",
      "_view_count": null,
      "_view_module": "@jupyter-widgets/base",
      "_view_module_version": "1.2.0",
      "_view_name": "StyleView",
      "bar_color": null,
      "description_width": "initial"
     }
    },
    "07fe63b0121d4351bb26947c3bad0d54": {
     "model_module": "@jupyter-widgets/controls",
     "model_name": "HBoxModel",
     "state": {
      "_dom_classes": [],
      "_model_module": "@jupyter-widgets/controls",
      "_model_module_version": "1.5.0",
      "_model_name": "HBoxModel",
      "_view_count": null,
      "_view_module": "@jupyter-widgets/controls",
      "_view_module_version": "1.5.0",
      "_view_name": "HBoxView",
      "box_style": "",
      "children": [
       "IPY_MODEL_4bd46106e1cb4310b5fc453cfe37f894",
       "IPY_MODEL_2d859fb9e6304a149dd04847f2c00616"
      ],
      "layout": "IPY_MODEL_c8b43bc08f914132b3d3bb3ae1960db0"
     }
    },
    "2d859fb9e6304a149dd04847f2c00616": {
     "model_module": "@jupyter-widgets/controls",
     "model_name": "HTMLModel",
     "state": {
      "_dom_classes": [],
      "_model_module": "@jupyter-widgets/controls",
      "_model_module_version": "1.5.0",
      "_model_name": "HTMLModel",
      "_view_count": null,
      "_view_module": "@jupyter-widgets/controls",
      "_view_module_version": "1.5.0",
      "_view_name": "HTMLView",
      "description": "",
      "description_tooltip": null,
      "layout": "IPY_MODEL_053c08f89b80490e93ae6cc0484707f7",
      "placeholder": "​",
      "style": "IPY_MODEL_36f6579b633c4f12b45c49abd96e6c38",
      "value": " 20/20 [05:37&lt;00:00, 16.90s/it]"
     }
    },
    "314dfc662be24750a30d953044d894f9": {
     "model_module": "@jupyter-widgets/base",
     "model_name": "LayoutModel",
     "state": {
      "_model_module": "@jupyter-widgets/base",
      "_model_module_version": "1.2.0",
      "_model_name": "LayoutModel",
      "_view_count": null,
      "_view_module": "@jupyter-widgets/base",
      "_view_module_version": "1.2.0",
      "_view_name": "LayoutView",
      "align_content": null,
      "align_items": null,
      "align_self": null,
      "border": null,
      "bottom": null,
      "display": null,
      "flex": null,
      "flex_flow": null,
      "grid_area": null,
      "grid_auto_columns": null,
      "grid_auto_flow": null,
      "grid_auto_rows": null,
      "grid_column": null,
      "grid_gap": null,
      "grid_row": null,
      "grid_template_areas": null,
      "grid_template_columns": null,
      "grid_template_rows": null,
      "height": null,
      "justify_content": null,
      "justify_items": null,
      "left": null,
      "margin": null,
      "max_height": null,
      "max_width": null,
      "min_height": null,
      "min_width": null,
      "object_fit": null,
      "object_position": null,
      "order": null,
      "overflow": null,
      "overflow_x": null,
      "overflow_y": null,
      "padding": null,
      "right": null,
      "top": null,
      "visibility": null,
      "width": null
     }
    },
    "33161a85b3ed48c280c15ecec72dc407": {
     "model_module": "@jupyter-widgets/base",
     "model_name": "LayoutModel",
     "state": {
      "_model_module": "@jupyter-widgets/base",
      "_model_module_version": "1.2.0",
      "_model_name": "LayoutModel",
      "_view_count": null,
      "_view_module": "@jupyter-widgets/base",
      "_view_module_version": "1.2.0",
      "_view_name": "LayoutView",
      "align_content": null,
      "align_items": null,
      "align_self": null,
      "border": null,
      "bottom": null,
      "display": null,
      "flex": null,
      "flex_flow": null,
      "grid_area": null,
      "grid_auto_columns": null,
      "grid_auto_flow": null,
      "grid_auto_rows": null,
      "grid_column": null,
      "grid_gap": null,
      "grid_row": null,
      "grid_template_areas": null,
      "grid_template_columns": null,
      "grid_template_rows": null,
      "height": null,
      "justify_content": null,
      "justify_items": null,
      "left": null,
      "margin": null,
      "max_height": null,
      "max_width": null,
      "min_height": null,
      "min_width": null,
      "object_fit": null,
      "object_position": null,
      "order": null,
      "overflow": null,
      "overflow_x": null,
      "overflow_y": null,
      "padding": null,
      "right": null,
      "top": null,
      "visibility": null,
      "width": null
     }
    },
    "36f6579b633c4f12b45c49abd96e6c38": {
     "model_module": "@jupyter-widgets/controls",
     "model_name": "DescriptionStyleModel",
     "state": {
      "_model_module": "@jupyter-widgets/controls",
      "_model_module_version": "1.5.0",
      "_model_name": "DescriptionStyleModel",
      "_view_count": null,
      "_view_module": "@jupyter-widgets/base",
      "_view_module_version": "1.2.0",
      "_view_name": "StyleView",
      "description_width": ""
     }
    },
    "4bd46106e1cb4310b5fc453cfe37f894": {
     "model_module": "@jupyter-widgets/controls",
     "model_name": "FloatProgressModel",
     "state": {
      "_dom_classes": [],
      "_model_module": "@jupyter-widgets/controls",
      "_model_module_version": "1.5.0",
      "_model_name": "FloatProgressModel",
      "_view_count": null,
      "_view_module": "@jupyter-widgets/controls",
      "_view_module_version": "1.5.0",
      "_view_name": "ProgressView",
      "bar_style": "success",
      "description": "100%",
      "description_tooltip": null,
      "layout": "IPY_MODEL_60def240f2294eb0bead3c27b78a814e",
      "max": 20,
      "min": 0,
      "orientation": "horizontal",
      "style": "IPY_MODEL_c39a3c6900de4c23ae249b97fdd14387",
      "value": 20
     }
    },
    "60def240f2294eb0bead3c27b78a814e": {
     "model_module": "@jupyter-widgets/base",
     "model_name": "LayoutModel",
     "state": {
      "_model_module": "@jupyter-widgets/base",
      "_model_module_version": "1.2.0",
      "_model_name": "LayoutModel",
      "_view_count": null,
      "_view_module": "@jupyter-widgets/base",
      "_view_module_version": "1.2.0",
      "_view_name": "LayoutView",
      "align_content": null,
      "align_items": null,
      "align_self": null,
      "border": null,
      "bottom": null,
      "display": null,
      "flex": null,
      "flex_flow": null,
      "grid_area": null,
      "grid_auto_columns": null,
      "grid_auto_flow": null,
      "grid_auto_rows": null,
      "grid_column": null,
      "grid_gap": null,
      "grid_row": null,
      "grid_template_areas": null,
      "grid_template_columns": null,
      "grid_template_rows": null,
      "height": null,
      "justify_content": null,
      "justify_items": null,
      "left": null,
      "margin": null,
      "max_height": null,
      "max_width": null,
      "min_height": null,
      "min_width": null,
      "object_fit": null,
      "object_position": null,
      "order": null,
      "overflow": null,
      "overflow_x": null,
      "overflow_y": null,
      "padding": null,
      "right": null,
      "top": null,
      "visibility": null,
      "width": null
     }
    },
    "613e3121a6954bc3ad6b304792d6ffc0": {
     "model_module": "@jupyter-widgets/controls",
     "model_name": "HBoxModel",
     "state": {
      "_dom_classes": [],
      "_model_module": "@jupyter-widgets/controls",
      "_model_module_version": "1.5.0",
      "_model_name": "HBoxModel",
      "_view_count": null,
      "_view_module": "@jupyter-widgets/controls",
      "_view_module_version": "1.5.0",
      "_view_name": "HBoxView",
      "box_style": "",
      "children": [
       "IPY_MODEL_969aa4977b3544649e81b9fc40478fb2",
       "IPY_MODEL_bc729aea834f47548f564012920e96ed"
      ],
      "layout": "IPY_MODEL_33161a85b3ed48c280c15ecec72dc407"
     }
    },
    "776ef00e70ef4e1ab7dd7c4a0e0b009e": {
     "model_module": "@jupyter-widgets/controls",
     "model_name": "ProgressStyleModel",
     "state": {
      "_model_module": "@jupyter-widgets/controls",
      "_model_module_version": "1.5.0",
      "_model_name": "ProgressStyleModel",
      "_view_count": null,
      "_view_module": "@jupyter-widgets/base",
      "_view_module_version": "1.2.0",
      "_view_name": "StyleView",
      "bar_color": null,
      "description_width": "initial"
     }
    },
    "79f82bfc4d8247bf97708bb800aa00ec": {
     "model_module": "@jupyter-widgets/controls",
     "model_name": "DescriptionStyleModel",
     "state": {
      "_model_module": "@jupyter-widgets/controls",
      "_model_module_version": "1.5.0",
      "_model_name": "DescriptionStyleModel",
      "_view_count": null,
      "_view_module": "@jupyter-widgets/base",
      "_view_module_version": "1.2.0",
      "_view_name": "StyleView",
      "description_width": ""
     }
    },
    "862ecdffe598460c8705b4c05159e551": {
     "model_module": "@jupyter-widgets/controls",
     "model_name": "HTMLModel",
     "state": {
      "_dom_classes": [],
      "_model_module": "@jupyter-widgets/controls",
      "_model_module_version": "1.5.0",
      "_model_name": "HTMLModel",
      "_view_count": null,
      "_view_module": "@jupyter-widgets/controls",
      "_view_module_version": "1.5.0",
      "_view_name": "HTMLView",
      "description": "",
      "description_tooltip": null,
      "layout": "IPY_MODEL_e20e7078af6245808d479ecf6b9adc10",
      "placeholder": "​",
      "style": "IPY_MODEL_79f82bfc4d8247bf97708bb800aa00ec",
      "value": " 20/20 [33:32&lt;00:00, 100.61s/it]"
     }
    },
    "95b89a795924443d9f921ecd2b265a5d": {
     "model_module": "@jupyter-widgets/controls",
     "model_name": "DescriptionStyleModel",
     "state": {
      "_model_module": "@jupyter-widgets/controls",
      "_model_module_version": "1.5.0",
      "_model_name": "DescriptionStyleModel",
      "_view_count": null,
      "_view_module": "@jupyter-widgets/base",
      "_view_module_version": "1.2.0",
      "_view_name": "StyleView",
      "description_width": ""
     }
    },
    "969aa4977b3544649e81b9fc40478fb2": {
     "model_module": "@jupyter-widgets/controls",
     "model_name": "FloatProgressModel",
     "state": {
      "_dom_classes": [],
      "_model_module": "@jupyter-widgets/controls",
      "_model_module_version": "1.5.0",
      "_model_name": "FloatProgressModel",
      "_view_count": null,
      "_view_module": "@jupyter-widgets/controls",
      "_view_module_version": "1.5.0",
      "_view_name": "ProgressView",
      "bar_style": "danger",
      "description": "  5%",
      "description_tooltip": null,
      "layout": "IPY_MODEL_db4c7d1f4bf1463caca66524d719e050",
      "max": 20,
      "min": 0,
      "orientation": "horizontal",
      "style": "IPY_MODEL_06c419d4a11744ae883efa3eb3dde16d",
      "value": 1
     }
    },
    "bc729aea834f47548f564012920e96ed": {
     "model_module": "@jupyter-widgets/controls",
     "model_name": "HTMLModel",
     "state": {
      "_dom_classes": [],
      "_model_module": "@jupyter-widgets/controls",
      "_model_module_version": "1.5.0",
      "_model_name": "HTMLModel",
      "_view_count": null,
      "_view_module": "@jupyter-widgets/controls",
      "_view_module_version": "1.5.0",
      "_view_name": "HTMLView",
      "description": "",
      "description_tooltip": null,
      "layout": "IPY_MODEL_314dfc662be24750a30d953044d894f9",
      "placeholder": "​",
      "style": "IPY_MODEL_95b89a795924443d9f921ecd2b265a5d",
      "value": " 1/20 [02:18&lt;33:24, 105.50s/it]"
     }
    },
    "c39a3c6900de4c23ae249b97fdd14387": {
     "model_module": "@jupyter-widgets/controls",
     "model_name": "ProgressStyleModel",
     "state": {
      "_model_module": "@jupyter-widgets/controls",
      "_model_module_version": "1.5.0",
      "_model_name": "ProgressStyleModel",
      "_view_count": null,
      "_view_module": "@jupyter-widgets/base",
      "_view_module_version": "1.2.0",
      "_view_name": "StyleView",
      "bar_color": null,
      "description_width": "initial"
     }
    },
    "c8b43bc08f914132b3d3bb3ae1960db0": {
     "model_module": "@jupyter-widgets/base",
     "model_name": "LayoutModel",
     "state": {
      "_model_module": "@jupyter-widgets/base",
      "_model_module_version": "1.2.0",
      "_model_name": "LayoutModel",
      "_view_count": null,
      "_view_module": "@jupyter-widgets/base",
      "_view_module_version": "1.2.0",
      "_view_name": "LayoutView",
      "align_content": null,
      "align_items": null,
      "align_self": null,
      "border": null,
      "bottom": null,
      "display": null,
      "flex": null,
      "flex_flow": null,
      "grid_area": null,
      "grid_auto_columns": null,
      "grid_auto_flow": null,
      "grid_auto_rows": null,
      "grid_column": null,
      "grid_gap": null,
      "grid_row": null,
      "grid_template_areas": null,
      "grid_template_columns": null,
      "grid_template_rows": null,
      "height": null,
      "justify_content": null,
      "justify_items": null,
      "left": null,
      "margin": null,
      "max_height": null,
      "max_width": null,
      "min_height": null,
      "min_width": null,
      "object_fit": null,
      "object_position": null,
      "order": null,
      "overflow": null,
      "overflow_x": null,
      "overflow_y": null,
      "padding": null,
      "right": null,
      "top": null,
      "visibility": null,
      "width": null
     }
    },
    "c8f9b9b525e44dfdbd675713220a210f": {
     "model_module": "@jupyter-widgets/controls",
     "model_name": "HBoxModel",
     "state": {
      "_dom_classes": [],
      "_model_module": "@jupyter-widgets/controls",
      "_model_module_version": "1.5.0",
      "_model_name": "HBoxModel",
      "_view_count": null,
      "_view_module": "@jupyter-widgets/controls",
      "_view_module_version": "1.5.0",
      "_view_name": "HBoxView",
      "box_style": "",
      "children": [
       "IPY_MODEL_cf1cf687acd4494685d963c6867d87e3",
       "IPY_MODEL_862ecdffe598460c8705b4c05159e551"
      ],
      "layout": "IPY_MODEL_d326d4e62ea341c78d09b126ecec0315"
     }
    },
    "cf1cf687acd4494685d963c6867d87e3": {
     "model_module": "@jupyter-widgets/controls",
     "model_name": "FloatProgressModel",
     "state": {
      "_dom_classes": [],
      "_model_module": "@jupyter-widgets/controls",
      "_model_module_version": "1.5.0",
      "_model_name": "FloatProgressModel",
      "_view_count": null,
      "_view_module": "@jupyter-widgets/controls",
      "_view_module_version": "1.5.0",
      "_view_name": "ProgressView",
      "bar_style": "success",
      "description": "100%",
      "description_tooltip": null,
      "layout": "IPY_MODEL_f40f9fee85a1420591f055e31ab3a820",
      "max": 20,
      "min": 0,
      "orientation": "horizontal",
      "style": "IPY_MODEL_776ef00e70ef4e1ab7dd7c4a0e0b009e",
      "value": 20
     }
    },
    "d326d4e62ea341c78d09b126ecec0315": {
     "model_module": "@jupyter-widgets/base",
     "model_name": "LayoutModel",
     "state": {
      "_model_module": "@jupyter-widgets/base",
      "_model_module_version": "1.2.0",
      "_model_name": "LayoutModel",
      "_view_count": null,
      "_view_module": "@jupyter-widgets/base",
      "_view_module_version": "1.2.0",
      "_view_name": "LayoutView",
      "align_content": null,
      "align_items": null,
      "align_self": null,
      "border": null,
      "bottom": null,
      "display": null,
      "flex": null,
      "flex_flow": null,
      "grid_area": null,
      "grid_auto_columns": null,
      "grid_auto_flow": null,
      "grid_auto_rows": null,
      "grid_column": null,
      "grid_gap": null,
      "grid_row": null,
      "grid_template_areas": null,
      "grid_template_columns": null,
      "grid_template_rows": null,
      "height": null,
      "justify_content": null,
      "justify_items": null,
      "left": null,
      "margin": null,
      "max_height": null,
      "max_width": null,
      "min_height": null,
      "min_width": null,
      "object_fit": null,
      "object_position": null,
      "order": null,
      "overflow": null,
      "overflow_x": null,
      "overflow_y": null,
      "padding": null,
      "right": null,
      "top": null,
      "visibility": null,
      "width": null
     }
    },
    "db4c7d1f4bf1463caca66524d719e050": {
     "model_module": "@jupyter-widgets/base",
     "model_name": "LayoutModel",
     "state": {
      "_model_module": "@jupyter-widgets/base",
      "_model_module_version": "1.2.0",
      "_model_name": "LayoutModel",
      "_view_count": null,
      "_view_module": "@jupyter-widgets/base",
      "_view_module_version": "1.2.0",
      "_view_name": "LayoutView",
      "align_content": null,
      "align_items": null,
      "align_self": null,
      "border": null,
      "bottom": null,
      "display": null,
      "flex": null,
      "flex_flow": null,
      "grid_area": null,
      "grid_auto_columns": null,
      "grid_auto_flow": null,
      "grid_auto_rows": null,
      "grid_column": null,
      "grid_gap": null,
      "grid_row": null,
      "grid_template_areas": null,
      "grid_template_columns": null,
      "grid_template_rows": null,
      "height": null,
      "justify_content": null,
      "justify_items": null,
      "left": null,
      "margin": null,
      "max_height": null,
      "max_width": null,
      "min_height": null,
      "min_width": null,
      "object_fit": null,
      "object_position": null,
      "order": null,
      "overflow": null,
      "overflow_x": null,
      "overflow_y": null,
      "padding": null,
      "right": null,
      "top": null,
      "visibility": null,
      "width": null
     }
    },
    "e20e7078af6245808d479ecf6b9adc10": {
     "model_module": "@jupyter-widgets/base",
     "model_name": "LayoutModel",
     "state": {
      "_model_module": "@jupyter-widgets/base",
      "_model_module_version": "1.2.0",
      "_model_name": "LayoutModel",
      "_view_count": null,
      "_view_module": "@jupyter-widgets/base",
      "_view_module_version": "1.2.0",
      "_view_name": "LayoutView",
      "align_content": null,
      "align_items": null,
      "align_self": null,
      "border": null,
      "bottom": null,
      "display": null,
      "flex": null,
      "flex_flow": null,
      "grid_area": null,
      "grid_auto_columns": null,
      "grid_auto_flow": null,
      "grid_auto_rows": null,
      "grid_column": null,
      "grid_gap": null,
      "grid_row": null,
      "grid_template_areas": null,
      "grid_template_columns": null,
      "grid_template_rows": null,
      "height": null,
      "justify_content": null,
      "justify_items": null,
      "left": null,
      "margin": null,
      "max_height": null,
      "max_width": null,
      "min_height": null,
      "min_width": null,
      "object_fit": null,
      "object_position": null,
      "order": null,
      "overflow": null,
      "overflow_x": null,
      "overflow_y": null,
      "padding": null,
      "right": null,
      "top": null,
      "visibility": null,
      "width": null
     }
    },
    "f40f9fee85a1420591f055e31ab3a820": {
     "model_module": "@jupyter-widgets/base",
     "model_name": "LayoutModel",
     "state": {
      "_model_module": "@jupyter-widgets/base",
      "_model_module_version": "1.2.0",
      "_model_name": "LayoutModel",
      "_view_count": null,
      "_view_module": "@jupyter-widgets/base",
      "_view_module_version": "1.2.0",
      "_view_name": "LayoutView",
      "align_content": null,
      "align_items": null,
      "align_self": null,
      "border": null,
      "bottom": null,
      "display": null,
      "flex": null,
      "flex_flow": null,
      "grid_area": null,
      "grid_auto_columns": null,
      "grid_auto_flow": null,
      "grid_auto_rows": null,
      "grid_column": null,
      "grid_gap": null,
      "grid_row": null,
      "grid_template_areas": null,
      "grid_template_columns": null,
      "grid_template_rows": null,
      "height": null,
      "justify_content": null,
      "justify_items": null,
      "left": null,
      "margin": null,
      "max_height": null,
      "max_width": null,
      "min_height": null,
      "min_width": null,
      "object_fit": null,
      "object_position": null,
      "order": null,
      "overflow": null,
      "overflow_x": null,
      "overflow_y": null,
      "padding": null,
      "right": null,
      "top": null,
      "visibility": null,
      "width": null
     }
    }
   }
  }
 },
 "nbformat": 4,
 "nbformat_minor": 4
}

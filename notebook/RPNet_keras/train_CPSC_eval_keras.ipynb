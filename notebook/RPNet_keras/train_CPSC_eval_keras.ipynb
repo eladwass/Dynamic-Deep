{
 "cells": [
  {
   "cell_type": "markdown",
   "metadata": {
    "colab_type": "text",
    "id": "6LoYGJSRTw6W"
   },
   "source": [
    "### Navigate to the location of folder ###"
   ]
  },
  {
   "cell_type": "code",
   "execution_count": 1,
   "metadata": {
    "colab": {},
    "colab_type": "code",
    "executionInfo": {
     "elapsed": 1157,
     "status": "ok",
     "timestamp": 1595183195390,
     "user": {
      "displayName": "Sricharan V",
      "photoUrl": "",
      "userId": "03063971511613622677"
     },
     "user_tz": -330
    },
    "id": "IoYIoChl7RNa"
   },
   "outputs": [],
   "source": [
    "import os\n",
    "# os.chdir('../../src/Enviroments/ExternalEnv/RPNet')\n",
    "os.chdir('../../')"
   ]
  },
  {
   "cell_type": "code",
   "execution_count": 2,
   "metadata": {},
   "outputs": [
    {
     "data": {
      "text/plain": [
       "'/home/welad1992/thesis'"
      ]
     },
     "execution_count": 2,
     "metadata": {},
     "output_type": "execute_result"
    }
   ],
   "source": [
    "from os import listdir,getcwd,chdir,mkdir\n",
    "from os.path import isfile,join,exists\n",
    "from pathlib import Path\n",
    "import sys\n",
    "sys.path.append(join(getcwd(),str(Path('src'))))\n",
    "getcwd()"
   ]
  },
  {
   "cell_type": "markdown",
   "metadata": {
    "colab_type": "text",
    "id": "Vv5Zk4iWzGwI"
   },
   "source": [
    "### Importing required modules"
   ]
  },
  {
   "cell_type": "code",
   "execution_count": 3,
   "metadata": {
    "colab": {},
    "colab_type": "code",
    "executionInfo": {
     "elapsed": 1555,
     "status": "ok",
     "timestamp": 1595183202693,
     "user": {
      "displayName": "Sricharan V",
      "photoUrl": "",
      "userId": "03063971511613622677"
     },
     "user_tz": -330
    },
    "id": "5KS-9VEirZ7X"
   },
   "outputs": [
    {
     "name": "stdout",
     "output_type": "stream",
     "text": [
      "1 Physical GPUs, 1 Logical GPUs\n"
     ]
    }
   ],
   "source": [
    "### Importing basic libraries\n",
    "import scipy.io\n",
    "import numpy as np\n",
    "import torch\n",
    "from scipy import signal\n",
    "# from tqdm import tqdm_notebook as tqdm\n",
    "from matplotlib import pyplot as plt\n",
    "import random\n",
    "import pandas as pd\n",
    "import scipy\n",
    "import pickle\n",
    "import sklearn\n",
    "from sklearn.preprocessing import MinMaxScaler\n",
    "import warnings\n",
    "import math\n",
    "import csv\n",
    "\n",
    "from scipy.signal import butter, lfilter, lfilter_zi\n",
    "from pylab import plot, show, title, xlabel, ylabel, subplot\n",
    "\n",
    "from tensorflow.keras.layers import Input\n",
    "from tensorflow.keras.utils import plot_model\n",
    "import tensorflow as tf\n",
    "\n",
    "gpus = tf.config.experimental.list_physical_devices('GPU')\n",
    "if gpus:\n",
    "    try:\n",
    "        # Currently, memory growth needs to be the same across GPUs\n",
    "        for gpu in gpus:\n",
    "            tf.config.experimental.set_memory_growth(gpu, True)\n",
    "        logical_gpus = tf.config.experimental.list_logical_devices('GPU')\n",
    "        print(len(gpus), \"Physical GPUs,\", len(logical_gpus), \"Logical GPUs\")\n",
    "    except RuntimeError as e:\n",
    "        # Memory growth must be set before GPUs have been initialized\n",
    "        print(e)\n",
    "import datetime\n",
    "\n",
    "### Importing Custom Libraries\n",
    "# from network import IncUNet\n",
    "# os.chdir('../../src/Enviroments/ExternalEnv/RPNet')\n"
   ]
  },
  {
   "cell_type": "code",
   "execution_count": 4,
   "metadata": {},
   "outputs": [],
   "source": [
    "from Enviroments.ExternalEnv.RPNet.network_keras import IncUNet\n",
    "from Enviroments.ExternalEnv.RPNet.utils import extract_RR"
   ]
  },
  {
   "cell_type": "markdown",
   "metadata": {
    "colab_type": "text",
    "id": "KLloorhcT50Y"
   },
   "source": [
    "# Preprocessing #"
   ]
  },
  {
   "cell_type": "markdown",
   "metadata": {
    "colab_type": "text",
    "id": "APNa7e1tyCiH"
   },
   "source": [
    "### Navigate to the folder containing the model and data"
   ]
  },
  {
   "cell_type": "code",
   "execution_count": 5,
   "metadata": {
    "colab": {},
    "colab_type": "code",
    "executionInfo": {
     "elapsed": 1278,
     "status": "ok",
     "timestamp": 1595178230901,
     "user": {
      "displayName": "Sricharan V",
      "photoUrl": "",
      "userId": "03063971511613622677"
     },
     "user_tz": -330
    },
    "id": "5FbsPEjixAP3"
   },
   "outputs": [],
   "source": [
    "data_path = \"../../../../Data/mitdb/\"\n",
    "reference_path = \"original_data/ref\"\n",
    "args = {}\n",
    "args['datapath'] = data_path\n",
    "args['dataset'] = 'mitdb'\n",
    "args['evaluate_nstdb'] = False\n",
    "args['db'] = 99"
   ]
  },
  {
   "cell_type": "markdown",
   "metadata": {
    "colab_type": "text",
    "id": "AUQ447F1rZ-I"
   },
   "source": [
    "# Evaluate #"
   ]
  },
  {
   "cell_type": "markdown",
   "metadata": {
    "colab_type": "text",
    "id": "MMn9e3pcrZ-J"
   },
   "source": [
    "### Hyperparameters and Related parameters"
   ]
  },
  {
   "cell_type": "code",
   "execution_count": 6,
   "metadata": {
    "colab": {},
    "colab_type": "code",
    "executionInfo": {
     "elapsed": 1212,
     "status": "ok",
     "timestamp": 1595183209430,
     "user": {
      "displayName": "Sricharan V",
      "photoUrl": "",
      "userId": "03063971511613622677"
     },
     "user_tz": -330
    },
    "id": "dPfIA-lOrZ-K"
   },
   "outputs": [],
   "source": [
    "BATCH_SIZE = 64\n",
    "C,H,W = 1,1,5000\n",
    "learn_rate = 0.05\n",
    "num_epochs = 480"
   ]
  },
  {
   "cell_type": "markdown",
   "metadata": {
    "colab_type": "text",
    "id": "EOMdQQOmy4Ap"
   },
   "source": [
    "### Loading data via the pt files"
   ]
  },
  {
   "cell_type": "code",
   "execution_count": 7,
   "metadata": {
    "colab": {},
    "colab_type": "code",
    "executionInfo": {
     "elapsed": 1124,
     "status": "ok",
     "timestamp": 1595183212561,
     "user": {
      "displayName": "Sricharan V",
      "photoUrl": "",
      "userId": "03063971511613622677"
     },
     "user_tz": -330
    },
    "id": "FgDMzUZ8y2b_"
   },
   "outputs": [],
   "source": [
    "patient_ecg_train = torch.load('/home/welad1992/thesis/src/Enviroments/ExternalEnv/RPNet/train.pt').numpy().reshape((-1,5000,1))\n",
    "dist_transform_train = torch.load('/home/welad1992/thesis/src/Enviroments/ExternalEnv/RPNet/dist_transform_train.pt').numpy().reshape((-1,5000,1))\n",
    "patient_ecg_test = torch.load('/home/welad1992/thesis/src/Enviroments/ExternalEnv/RPNet/test.pt').numpy().reshape((-1,5000,1))\n",
    "dist_transform_test = torch.load('/home/welad1992/thesis/src/Enviroments/ExternalEnv/RPNet/dist_transform_test.pt').numpy().reshape((-1,5000,1))"
   ]
  },
  {
   "cell_type": "code",
   "execution_count": 8,
   "metadata": {
    "colab": {},
    "colab_type": "code",
    "executionInfo": {
     "elapsed": 3973,
     "status": "ok",
     "timestamp": 1595183232895,
     "user": {
      "displayName": "Sricharan V",
      "photoUrl": "",
      "userId": "03063971511613622677"
     },
     "user_tz": -330
    },
    "id": "OfQNokSUrZ-z"
   },
   "outputs": [
    {
     "name": "stdout",
     "output_type": "stream",
     "text": [
      "(None, 5000, 1)\n",
      "Model: \"inc_u_net\"\n",
      "_________________________________________________________________\n",
      "Layer (type)                 Output Shape              Param #   \n",
      "=================================================================\n",
      "seq1 (Sequential)            (None, 2499, 64)          36672     \n",
      "_________________________________________________________________\n",
      "seq2 (Sequential)            (None, 1250, 128)         176768    \n",
      "_________________________________________________________________\n",
      "sequential (Sequential)      (None, 1250, 128)         49792     \n",
      "_________________________________________________________________\n",
      "seq4 (Sequential)            (None, 624, 256)          753536    \n",
      "_________________________________________________________________\n",
      "sequential_1 (Sequential)    (None, 311, 512)          3071744   \n",
      "_________________________________________________________________\n",
      "seq6 (Sequential)            (None, 309, 512)          788992    \n",
      "_________________________________________________________________\n",
      "sequential_2 (Sequential)    (None, 155, 512)          4121600   \n",
      "_________________________________________________________________\n",
      "seq8 (Sequential)            (None, 78, 512)           4121600   \n",
      "_________________________________________________________________\n",
      "sequential_3 (Sequential)    (None, 76, 512)           788992    \n",
      "_________________________________________________________________\n",
      "seq10 (Sequential)           (None, 38, 512)           4121600   \n",
      "_________________________________________________________________\n",
      "sequential_4 (Sequential)    (None, 19, 512)           2102272   \n",
      "_________________________________________________________________\n",
      "seq12 (Sequential)           (None, 38, 512)           4383744   \n",
      "_________________________________________________________________\n",
      "sequential_5 (Sequential)    (None, 76, 512)           5170176   \n",
      "_________________________________________________________________\n",
      "seq14 (Sequential)           (None, 76, 512)           3856896   \n",
      "_________________________________________________________________\n",
      "sequential_6 (Sequential)    (None, 156, 512)          4645888   \n",
      "_________________________________________________________________\n",
      "seq16 (Sequential)           (None, 312, 512)          5170176   \n",
      "_________________________________________________________________\n",
      "sequential_7 (Sequential)    (None, 312, 512)          3856896   \n",
      "_________________________________________________________________\n",
      "seq18 (Sequential)           (None, 624, 256)          1884672   \n",
      "_________________________________________________________________\n",
      "sequential_8 (Sequential)    (None, 1248, 128)         247040    \n",
      "_________________________________________________________________\n",
      "seq20 (Sequential)           (None, 1250, 128)         98944     \n",
      "_________________________________________________________________\n",
      "sequential_9 (Sequential)    (None, 2500, 64)          164288    \n",
      "_________________________________________________________________\n",
      "seq22 (Sequential)           (None, 5000, 1)           66177     \n",
      "=================================================================\n",
      "Total params: 49,678,465\n",
      "Trainable params: 49,632,737\n",
      "Non-trainable params: 45,728\n",
      "_________________________________________________________________\n"
     ]
    }
   ],
   "source": [
    "model = IncUNet()\n",
    "inputs_signal = Input(shape=(5000,1), name='input-RR')\n",
    "print(model(inputs_signal).shape)\n",
    "model.summary()\n",
    "model.load_weights('Models/RR/RR_app.hdf5')"
   ]
  },
  {
   "cell_type": "code",
   "execution_count": 9,
   "metadata": {
    "colab": {
     "base_uri": "https://localhost:8080/",
     "height": 34
    },
    "colab_type": "code",
    "executionInfo": {
     "elapsed": 2590,
     "status": "ok",
     "timestamp": 1595183443906,
     "user": {
      "displayName": "Sricharan V",
      "photoUrl": "",
      "userId": "03063971511613622677"
     },
     "user_tz": -330
    },
    "id": "XL_8udoWxoPA",
    "outputId": "72f7e0e0-6e09-41ab-9886-d082391a40e7"
   },
   "outputs": [
    {
     "data": {
      "text/plain": [
       "((64, 5000), (64, 5000, 1))"
      ]
     },
     "execution_count": 9,
     "metadata": {},
     "output_type": "execute_result"
    }
   ],
   "source": [
    "y_pred_array = []\n",
    "ecg = []\n",
    "\n",
    "y_predict_test = model.predict(patient_ecg_test)\n",
    "y_pred_array = y_predict_test.reshape((-1,5000))#[:,0,:]\n",
    "y_pred_array.shape,y_predict_test.shape"
   ]
  },
  {
   "cell_type": "markdown",
   "metadata": {
    "colab_type": "text",
    "id": "AfTPsVFTPQd4"
   },
   "source": [
    "### Post Processing ###"
   ]
  },
  {
   "cell_type": "code",
   "execution_count": 10,
   "metadata": {
    "colab": {},
    "colab_type": "code",
    "executionInfo": {
     "elapsed": 1107,
     "status": "ok",
     "timestamp": 1595183448608,
     "user": {
      "displayName": "Sricharan V",
      "photoUrl": "",
      "userId": "03063971511613622677"
     },
     "user_tz": -330
    },
    "id": "lM0Z2Z0JLfwe"
   },
   "outputs": [],
   "source": [
    "batch_no = 0\n",
    "\n",
    "ecg = patient_ecg_test\n",
    "\n",
    "peak_locs = []\n",
    "for i in range(y_pred_array.shape[0]):\n",
    "    peak_locs.append(scipy.signal.find_peaks(-y_pred_array[i,:],distance = 90,height = -0.2,prominence = 0.035)[0])\n",
    "\n",
    "### Getting the amplitude values at valley location. \n",
    "y_roll_valleys = []\n",
    "y = []\n",
    "for j in range(len(peak_locs)):\n",
    "    y = [ecg[j,i] for i in peak_locs[j]]\n",
    "    y_roll_valleys.append(y)"
   ]
  },
  {
   "cell_type": "markdown",
   "metadata": {
    "colab_type": "text",
    "id": "Ed84FVtSPs09"
   },
   "source": [
    "### Plotting output ###"
   ]
  },
  {
   "cell_type": "code",
   "execution_count": 11,
   "metadata": {},
   "outputs": [
    {
     "data": {
      "text/plain": [
       "[<matplotlib.lines.Line2D at 0x7fb885d9a550>]"
      ]
     },
     "execution_count": 11,
     "metadata": {},
     "output_type": "execute_result"
    },
    {
     "data": {
      "image/png": "[encoded data removed]",
      "text/plain": [
       "<Figure size 432x288 with 1 Axes>"
      ]
     },
     "metadata": {
      "needs_background": "light"
     },
     "output_type": "display_data"
    }
   ],
   "source": [
    "record_no = 45\n",
    "plt.plot(ecg[record_no,:,0])\n",
    "\n",
    "# plt.plot(y_pred_array[record_no])\n",
    "# plt.plot(dist_transform_test[record_no])\n",
    "plt.plot(peak_locs[record_no], y_roll_valleys[record_no],'*')"
   ]
  },
  {
   "cell_type": "code",
   "execution_count": 12,
   "metadata": {
    "colab": {
     "base_uri": "https://localhost:8080/",
     "height": 282
    },
    "colab_type": "code",
    "executionInfo": {
     "elapsed": 1358,
     "status": "ok",
     "timestamp": 1595183453995,
     "user": {
      "displayName": "Sricharan V",
      "photoUrl": "",
      "userId": "03063971511613622677"
     },
     "user_tz": -330
    },
    "id": "x1hsN7CcPIGU",
    "outputId": "d9e3329e-2b6f-43ca-f2a0-e6fb6a264021"
   },
   "outputs": [
    {
     "data": {
      "text/plain": [
       "(0.06685272, 0.017215652, 0.22545017)"
      ]
     },
     "execution_count": 12,
     "metadata": {},
     "output_type": "execute_result"
    }
   ],
   "source": [
    "loss = np.mean(np.abs(y_pred_array-dist_transform_test.reshape(64,5000)),axis=1)\n",
    "loss.mean(),loss.min(),loss.max()"
   ]
  },
  {
   "cell_type": "code",
   "execution_count": 13,
   "metadata": {},
   "outputs": [
    {
     "data": {
      "text/plain": [
       "{'whiskers': [<matplotlib.lines.Line2D at 0x7fba4e501210>,\n",
       "  <matplotlib.lines.Line2D at 0x7fba4e501650>],\n",
       " 'caps': [<matplotlib.lines.Line2D at 0x7fba4e501a90>,\n",
       "  <matplotlib.lines.Line2D at 0x7fba4e501ed0>],\n",
       " 'boxes': [<matplotlib.lines.Line2D at 0x7fba4e4f6e50>],\n",
       " 'medians': [<matplotlib.lines.Line2D at 0x7fba4e50b390>],\n",
       " 'fliers': [<matplotlib.lines.Line2D at 0x7fba4e50b7d0>],\n",
       " 'means': []}"
      ]
     },
     "execution_count": 13,
     "metadata": {},
     "output_type": "execute_result"
    },
    {
     "data": {
      "image/png": "[encoded data removed]",
      "text/plain": [
       "<Figure size 432x288 with 1 Axes>"
      ]
     },
     "metadata": {
      "needs_background": "light"
     },
     "output_type": "display_data"
    }
   ],
   "source": [
    "plt.boxplot(loss)"
   ]
  },
  {
   "cell_type": "markdown",
   "metadata": {},
   "source": [
    "## Evaluate on CINC2017"
   ]
  },
  {
   "cell_type": "code",
   "execution_count": 14,
   "metadata": {},
   "outputs": [],
   "source": [
    "# from Enviroments.ExternalEnv.EcgClassification.ecg import network,network_compression,network_compression_IoT\n",
    "import Enviroments.ExternalEnv.EcgClassification.ecg.load as load\n",
    "import Enviroments.ExternalEnv.EcgClassification.ecg.util as util"
   ]
  },
  {
   "cell_type": "code",
   "execution_count": 15,
   "metadata": {},
   "outputs": [
    {
     "name": "stderr",
     "output_type": "stream",
     "text": [
      "100%|██████████| 7676/7676 [00:01<00:00, 5598.65it/s]\n",
      "100%|██████████| 852/852 [00:00<00:00, 5206.61it/s]\n"
     ]
    }
   ],
   "source": [
    "train = load.load_dataset(\"src/Enviroments/ExternalEnv/ecg-classification-AndrewNG/examples/cinc17/train.json\")\n",
    "preproc = load.Preproc(*train,app=True,CINC=True)\n",
    "\n",
    "dev = load.load_dataset('src/Enviroments/ExternalEnv/ecg-classification-AndrewNG/examples/cinc17/dev.json')\n",
    "train_gen = load.data_generator(32, preproc, *train)\n",
    "dev_gen = load.data_generator(32,preproc, *dev)"
   ]
  },
  {
   "cell_type": "code",
   "execution_count": 16,
   "metadata": {},
   "outputs": [
    {
     "data": {
      "text/plain": [
       "((5403, 8960, 1), (5403, 8960, 1), (5403, 35, 4))"
      ]
     },
     "execution_count": 16,
     "metadata": {},
     "output_type": "execute_result"
    }
   ],
   "source": [
    "x_train,y_train = preproc.process(train[0],train[1])\n",
    "x_train.shape,y_train[0].shape,y_train[1].shape"
   ]
  },
  {
   "cell_type": "code",
   "execution_count": 17,
   "metadata": {},
   "outputs": [
    {
     "data": {
      "text/plain": [
       "((602, 8960, 1), (602, 8960, 1), (602, 35, 4))"
      ]
     },
     "execution_count": 17,
     "metadata": {},
     "output_type": "execute_result"
    }
   ],
   "source": [
    "x_dev,y_dev = preproc.process(dev[0],dev[1])\n",
    "x_dev.shape,y_dev[0].shape,y_dev[1].shape"
   ]
  },
  {
   "cell_type": "markdown",
   "metadata": {},
   "source": [
    "## Build CINC-RR dataset"
   ]
  },
  {
   "cell_type": "code",
   "execution_count": 18,
   "metadata": {},
   "outputs": [],
   "source": [
    "RR_peaks_low_part = model.predict(x_train[:,:5000,])\n",
    "RR_peaks_high_part= model.predict(x_train[:,8960-5000:,])"
   ]
  },
  {
   "cell_type": "code",
   "execution_count": 19,
   "metadata": {},
   "outputs": [
    {
     "data": {
      "text/plain": [
       "(5403, 8960, 1)"
      ]
     },
     "execution_count": 19,
     "metadata": {},
     "output_type": "execute_result"
    }
   ],
   "source": [
    "RR_predicted_cinc = np.concatenate([RR_peaks_low_part,RR_peaks_high_part[:,(10000-8960):]],axis=1)\n",
    "RR_predicted_cinc.shape"
   ]
  },
  {
   "cell_type": "code",
   "execution_count": 20,
   "metadata": {},
   "outputs": [],
   "source": [
    "RR_predicted_cinc17,peak_locs = extract_RR(x_train,RR_predicted_cinc.reshape((5403,8960)))"
   ]
  },
  {
   "cell_type": "code",
   "execution_count": 21,
   "metadata": {},
   "outputs": [
    {
     "data": {
      "text/plain": [
       "[<matplotlib.lines.Line2D at 0x7fba4b785650>]"
      ]
     },
     "execution_count": 21,
     "metadata": {},
     "output_type": "execute_result"
    },
    {
     "data": {
      "image/png": "[encoded data removed]",
      "text/plain": [
       "<Figure size 432x288 with 1 Axes>"
      ]
     },
     "metadata": {
      "needs_background": "light"
     },
     "output_type": "display_data"
    }
   ],
   "source": [
    "record_no = 30\n",
    "high_index = 8960\n",
    "plt.plot(x_train[record_no,:high_index])\n",
    "plt.plot(RR_predicted_cinc[record_no,:high_index])\n",
    "# plt.plot(peak_locs[record_no], RR_predicted_cinc17[record_no],'*')"
   ]
  },
  {
   "cell_type": "code",
   "execution_count": 22,
   "metadata": {},
   "outputs": [
    {
     "data": {
      "text/plain": [
       "(5403, 8960, 1)"
      ]
     },
     "execution_count": 22,
     "metadata": {},
     "output_type": "execute_result"
    }
   ],
   "source": [
    "np.save('Data/RR/train.npy',RR_predicted_cinc)\n",
    "RR_predicted_cinc.shape"
   ]
  },
  {
   "cell_type": "code",
   "execution_count": 23,
   "metadata": {},
   "outputs": [],
   "source": [
    "RR_peaks_low_part = model.predict(x_dev[:,:5000,])\n",
    "RR_peaks_high_part= model.predict(x_dev[:,8960-5000:,])"
   ]
  },
  {
   "cell_type": "code",
   "execution_count": 24,
   "metadata": {},
   "outputs": [
    {
     "data": {
      "text/plain": [
       "(602, 8960, 1)"
      ]
     },
     "execution_count": 24,
     "metadata": {},
     "output_type": "execute_result"
    }
   ],
   "source": [
    "RR_predicted_cinc = np.concatenate([RR_peaks_low_part,RR_peaks_high_part[:,(10000-8960):]],axis=1)\n",
    "RR_predicted_cinc.shape"
   ]
  },
  {
   "cell_type": "code",
   "execution_count": 25,
   "metadata": {},
   "outputs": [],
   "source": [
    "RR_predicted_cinc17,peak_locs = extract_RR(x_dev,RR_predicted_cinc.reshape((602,8960)))"
   ]
  },
  {
   "cell_type": "code",
   "execution_count": 30,
   "metadata": {},
   "outputs": [
    {
     "data": {
      "text/plain": [
       "[<matplotlib.lines.Line2D at 0x7fba4c89be10>]"
      ]
     },
     "execution_count": 30,
     "metadata": {},
     "output_type": "execute_result"
    },
    {
     "data": {
      "image/png": "[encoded data removed]",
      "text/plain": [
       "<Figure size 432x288 with 1 Axes>"
      ]
     },
     "metadata": {
      "needs_background": "light"
     },
     "output_type": "display_data"
    }
   ],
   "source": [
    "record_no = 95\n",
    "high_index = 8960\n",
    "plt.plot(x_dev[record_no,:high_index])\n",
    "plt.plot(RR_predicted_cinc[record_no,:high_index])\n",
    "plt.plot(peak_locs[record_no], RR_predicted_cinc17[record_no],'*')"
   ]
  },
  {
   "cell_type": "code",
   "execution_count": 27,
   "metadata": {},
   "outputs": [
    {
     "data": {
      "text/plain": [
       "(602, 8960, 1)"
      ]
     },
     "execution_count": 27,
     "metadata": {},
     "output_type": "execute_result"
    }
   ],
   "source": [
    "np.save('Data/RR/test.npy',RR_predicted_cinc)\n",
    "RR_predicted_cinc.shape"
   ]
  },
  {
   "cell_type": "code",
   "execution_count": 31,
   "metadata": {},
   "outputs": [
    {
     "data": {
      "text/plain": [
       "(602, 8960, 1)"
      ]
     },
     "execution_count": 31,
     "metadata": {},
     "output_type": "execute_result"
    }
   ],
   "source": [
    "new_data = np.load('Data/RR/test.npy')\n",
    "new_data.shape"
   ]
  },
  {
   "cell_type": "code",
   "execution_count": null,
   "metadata": {},
   "outputs": [],
   "source": []
  }
 ],
 "metadata": {
  "accelerator": "GPU",
  "colab": {
   "name": "train_CPSC.ipynb",
   "provenance": []
  },
  "kernelspec": {
   "display_name": "tensorflow22",
   "language": "python",
   "name": "tensorflow22"
  },
  "language_info": {
   "codemirror_mode": {
    "name": "ipython",
    "version": 3
   },
   "file_extension": ".py",
   "mimetype": "text/x-python",
   "name": "python",
   "nbconvert_exporter": "python",
   "pygments_lexer": "ipython3",
   "version": "3.7.9"
  },
  "widgets": {
   "application/vnd.jupyter.widget-state+json": {
    "053c08f89b80490e93ae6cc0484707f7": {
     "model_module": "@jupyter-widgets/base",
     "model_name": "LayoutModel",
     "state": {
      "_model_module": "@jupyter-widgets/base",
      "_model_module_version": "1.2.0",
      "_model_name": "LayoutModel",
      "_view_count": null,
      "_view_module": "@jupyter-widgets/base",
      "_view_module_version": "1.2.0",
      "_view_name": "LayoutView",
      "align_content": null,
      "align_items": null,
      "align_self": null,
      "border": null,
      "bottom": null,
      "display": null,
      "flex": null,
      "flex_flow": null,
      "grid_area": null,
      "grid_auto_columns": null,
      "grid_auto_flow": null,
      "grid_auto_rows": null,
      "grid_column": null,
      "grid_gap": null,
      "grid_row": null,
      "grid_template_areas": null,
      "grid_template_columns": null,
      "grid_template_rows": null,
      "height": null,
      "justify_content": null,
      "justify_items": null,
      "left": null,
      "margin": null,
      "max_height": null,
      "max_width": null,
      "min_height": null,
      "min_width": null,
      "object_fit": null,
      "object_position": null,
      "order": null,
      "overflow": null,
      "overflow_x": null,
      "overflow_y": null,
      "padding": null,
      "right": null,
      "top": null,
      "visibility": null,
      "width": null
     }
    },
    "06c419d4a11744ae883efa3eb3dde16d": {
     "model_module": "@jupyter-widgets/controls",
     "model_name": "ProgressStyleModel",
     "state": {
      "_model_module": "@jupyter-widgets/controls",
      "_model_module_version": "1.5.0",
      "_model_name": "ProgressStyleModel",
      "_view_count": null,
      "_view_module": "@jupyter-widgets/base",
      "_view_module_version": "1.2.0",
      "_view_name": "StyleView",
      "bar_color": null,
      "description_width": "initial"
     }
    },
    "07fe63b0121d4351bb26947c3bad0d54": {
     "model_module": "@jupyter-widgets/controls",
     "model_name": "HBoxModel",
     "state": {
      "_dom_classes": [],
      "_model_module": "@jupyter-widgets/controls",
      "_model_module_version": "1.5.0",
      "_model_name": "HBoxModel",
      "_view_count": null,
      "_view_module": "@jupyter-widgets/controls",
      "_view_module_version": "1.5.0",
      "_view_name": "HBoxView",
      "box_style": "",
      "children": [
       "IPY_MODEL_4bd46106e1cb4310b5fc453cfe37f894",
       "IPY_MODEL_2d859fb9e6304a149dd04847f2c00616"
      ],
      "layout": "IPY_MODEL_c8b43bc08f914132b3d3bb3ae1960db0"
     }
    },
    "2d859fb9e6304a149dd04847f2c00616": {
     "model_module": "@jupyter-widgets/controls",
     "model_name": "HTMLModel",
     "state": {
      "_dom_classes": [],
      "_model_module": "@jupyter-widgets/controls",
      "_model_module_version": "1.5.0",
      "_model_name": "HTMLModel",
      "_view_count": null,
      "_view_module": "@jupyter-widgets/controls",
      "_view_module_version": "1.5.0",
      "_view_name": "HTMLView",
      "description": "",
      "description_tooltip": null,
      "layout": "IPY_MODEL_053c08f89b80490e93ae6cc0484707f7",
      "placeholder": "​",
      "style": "IPY_MODEL_36f6579b633c4f12b45c49abd96e6c38",
      "value": " 20/20 [05:37&lt;00:00, 16.90s/it]"
     }
    },
    "314dfc662be24750a30d953044d894f9": {
     "model_module": "@jupyter-widgets/base",
     "model_name": "LayoutModel",
     "state": {
      "_model_module": "@jupyter-widgets/base",
      "_model_module_version": "1.2.0",
      "_model_name": "LayoutModel",
      "_view_count": null,
      "_view_module": "@jupyter-widgets/base",
      "_view_module_version": "1.2.0",
      "_view_name": "LayoutView",
      "align_content": null,
      "align_items": null,
      "align_self": null,
      "border": null,
      "bottom": null,
      "display": null,
      "flex": null,
      "flex_flow": null,
      "grid_area": null,
      "grid_auto_columns": null,
      "grid_auto_flow": null,
      "grid_auto_rows": null,
      "grid_column": null,
      "grid_gap": null,
      "grid_row": null,
      "grid_template_areas": null,
      "grid_template_columns": null,
      "grid_template_rows": null,
      "height": null,
      "justify_content": null,
      "justify_items": null,
      "left": null,
      "margin": null,
      "max_height": null,
      "max_width": null,
      "min_height": null,
      "min_width": null,
      "object_fit": null,
      "object_position": null,
      "order": null,
      "overflow": null,
      "overflow_x": null,
      "overflow_y": null,
      "padding": null,
      "right": null,
      "top": null,
      "visibility": null,
      "width": null
     }
    },
    "33161a85b3ed48c280c15ecec72dc407": {
     "model_module": "@jupyter-widgets/base",
     "model_name": "LayoutModel",
     "state": {
      "_model_module": "@jupyter-widgets/base",
      "_model_module_version": "1.2.0",
      "_model_name": "LayoutModel",
      "_view_count": null,
      "_view_module": "@jupyter-widgets/base",
      "_view_module_version": "1.2.0",
      "_view_name": "LayoutView",
      "align_content": null,
      "align_items": null,
      "align_self": null,
      "border": null,
      "bottom": null,
      "display": null,
      "flex": null,
      "flex_flow": null,
      "grid_area": null,
      "grid_auto_columns": null,
      "grid_auto_flow": null,
      "grid_auto_rows": null,
      "grid_column": null,
      "grid_gap": null,
      "grid_row": null,
      "grid_template_areas": null,
      "grid_template_columns": null,
      "grid_template_rows": null,
      "height": null,
      "justify_content": null,
      "justify_items": null,
      "left": null,
      "margin": null,
      "max_height": null,
      "max_width": null,
      "min_height": null,
      "min_width": null,
      "object_fit": null,
      "object_position": null,
      "order": null,
      "overflow": null,
      "overflow_x": null,
      "overflow_y": null,
      "padding": null,
      "right": null,
      "top": null,
      "visibility": null,
      "width": null
     }
    },
    "36f6579b633c4f12b45c49abd96e6c38": {
     "model_module": "@jupyter-widgets/controls",
     "model_name": "DescriptionStyleModel",
     "state": {
      "_model_module": "@jupyter-widgets/controls",
      "_model_module_version": "1.5.0",
      "_model_name": "DescriptionStyleModel",
      "_view_count": null,
      "_view_module": "@jupyter-widgets/base",
      "_view_module_version": "1.2.0",
      "_view_name": "StyleView",
      "description_width": ""
     }
    },
    "4bd46106e1cb4310b5fc453cfe37f894": {
     "model_module": "@jupyter-widgets/controls",
     "model_name": "FloatProgressModel",
     "state": {
      "_dom_classes": [],
      "_model_module": "@jupyter-widgets/controls",
      "_model_module_version": "1.5.0",
      "_model_name": "FloatProgressModel",
      "_view_count": null,
      "_view_module": "@jupyter-widgets/controls",
      "_view_module_version": "1.5.0",
      "_view_name": "ProgressView",
      "bar_style": "success",
      "description": "100%",
      "description_tooltip": null,
      "layout": "IPY_MODEL_60def240f2294eb0bead3c27b78a814e",
      "max": 20,
      "min": 0,
      "orientation": "horizontal",
      "style": "IPY_MODEL_c39a3c6900de4c23ae249b97fdd14387",
      "value": 20
     }
    },
    "60def240f2294eb0bead3c27b78a814e": {
     "model_module": "@jupyter-widgets/base",
     "model_name": "LayoutModel",
     "state": {
      "_model_module": "@jupyter-widgets/base",
      "_model_module_version": "1.2.0",
      "_model_name": "LayoutModel",
      "_view_count": null,
      "_view_module": "@jupyter-widgets/base",
      "_view_module_version": "1.2.0",
      "_view_name": "LayoutView",
      "align_content": null,
      "align_items": null,
      "align_self": null,
      "border": null,
      "bottom": null,
      "display": null,
      "flex": null,
      "flex_flow": null,
      "grid_area": null,
      "grid_auto_columns": null,
      "grid_auto_flow": null,
      "grid_auto_rows": null,
      "grid_column": null,
      "grid_gap": null,
      "grid_row": null,
      "grid_template_areas": null,
      "grid_template_columns": null,
      "grid_template_rows": null,
      "height": null,
      "justify_content": null,
      "justify_items": null,
      "left": null,
      "margin": null,
      "max_height": null,
      "max_width": null,
      "min_height": null,
      "min_width": null,
      "object_fit": null,
      "object_position": null,
      "order": null,
      "overflow": null,
      "overflow_x": null,
      "overflow_y": null,
      "padding": null,
      "right": null,
      "top": null,
      "visibility": null,
      "width": null
     }
    },
    "613e3121a6954bc3ad6b304792d6ffc0": {
     "model_module": "@jupyter-widgets/controls",
     "model_name": "HBoxModel",
     "state": {
      "_dom_classes": [],
      "_model_module": "@jupyter-widgets/controls",
      "_model_module_version": "1.5.0",
      "_model_name": "HBoxModel",
      "_view_count": null,
      "_view_module": "@jupyter-widgets/controls",
      "_view_module_version": "1.5.0",
      "_view_name": "HBoxView",
      "box_style": "",
      "children": [
       "IPY_MODEL_969aa4977b3544649e81b9fc40478fb2",
       "IPY_MODEL_bc729aea834f47548f564012920e96ed"
      ],
      "layout": "IPY_MODEL_33161a85b3ed48c280c15ecec72dc407"
     }
    },
    "776ef00e70ef4e1ab7dd7c4a0e0b009e": {
     "model_module": "@jupyter-widgets/controls",
     "model_name": "ProgressStyleModel",
     "state": {
      "_model_module": "@jupyter-widgets/controls",
      "_model_module_version": "1.5.0",
      "_model_name": "ProgressStyleModel",
      "_view_count": null,
      "_view_module": "@jupyter-widgets/base",
      "_view_module_version": "1.2.0",
      "_view_name": "StyleView",
      "bar_color": null,
      "description_width": "initial"
     }
    },
    "79f82bfc4d8247bf97708bb800aa00ec": {
     "model_module": "@jupyter-widgets/controls",
     "model_name": "DescriptionStyleModel",
     "state": {
      "_model_module": "@jupyter-widgets/controls",
      "_model_module_version": "1.5.0",
      "_model_name": "DescriptionStyleModel",
      "_view_count": null,
      "_view_module": "@jupyter-widgets/base",
      "_view_module_version": "1.2.0",
      "_view_name": "StyleView",
      "description_width": ""
     }
    },
    "862ecdffe598460c8705b4c05159e551": {
     "model_module": "@jupyter-widgets/controls",
     "model_name": "HTMLModel",
     "state": {
      "_dom_classes": [],
      "_model_module": "@jupyter-widgets/controls",
      "_model_module_version": "1.5.0",
      "_model_name": "HTMLModel",
      "_view_count": null,
      "_view_module": "@jupyter-widgets/controls",
      "_view_module_version": "1.5.0",
      "_view_name": "HTMLView",
      "description": "",
      "description_tooltip": null,
      "layout": "IPY_MODEL_e20e7078af6245808d479ecf6b9adc10",
      "placeholder": "​",
      "style": "IPY_MODEL_79f82bfc4d8247bf97708bb800aa00ec",
      "value": " 20/20 [33:32&lt;00:00, 100.61s/it]"
     }
    },
    "95b89a795924443d9f921ecd2b265a5d": {
     "model_module": "@jupyter-widgets/controls",
     "model_name": "DescriptionStyleModel",
     "state": {
      "_model_module": "@jupyter-widgets/controls",
      "_model_module_version": "1.5.0",
      "_model_name": "DescriptionStyleModel",
      "_view_count": null,
      "_view_module": "@jupyter-widgets/base",
      "_view_module_version": "1.2.0",
      "_view_name": "StyleView",
      "description_width": ""
     }
    },
    "969aa4977b3544649e81b9fc40478fb2": {
     "model_module": "@jupyter-widgets/controls",
     "model_name": "FloatProgressModel",
     "state": {
      "_dom_classes": [],
      "_model_module": "@jupyter-widgets/controls",
      "_model_module_version": "1.5.0",
      "_model_name": "FloatProgressModel",
      "_view_count": null,
      "_view_module": "@jupyter-widgets/controls",
      "_view_module_version": "1.5.0",
      "_view_name": "ProgressView",
      "bar_style": "danger",
      "description": "  5%",
      "description_tooltip": null,
      "layout": "IPY_MODEL_db4c7d1f4bf1463caca66524d719e050",
      "max": 20,
      "min": 0,
      "orientation": "horizontal",
      "style": "IPY_MODEL_06c419d4a11744ae883efa3eb3dde16d",
      "value": 1
     }
    },
    "bc729aea834f47548f564012920e96ed": {
     "model_module": "@jupyter-widgets/controls",
     "model_name": "HTMLModel",
     "state": {
      "_dom_classes": [],
      "_model_module": "@jupyter-widgets/controls",
      "_model_module_version": "1.5.0",
      "_model_name": "HTMLModel",
      "_view_count": null,
      "_view_module": "@jupyter-widgets/controls",
      "_view_module_version": "1.5.0",
      "_view_name": "HTMLView",
      "description": "",
      "description_tooltip": null,
      "layout": "IPY_MODEL_314dfc662be24750a30d953044d894f9",
      "placeholder": "​",
      "style": "IPY_MODEL_95b89a795924443d9f921ecd2b265a5d",
      "value": " 1/20 [02:18&lt;33:24, 105.50s/it]"
     }
    },
    "c39a3c6900de4c23ae249b97fdd14387": {
     "model_module": "@jupyter-widgets/controls",
     "model_name": "ProgressStyleModel",
     "state": {
      "_model_module": "@jupyter-widgets/controls",
      "_model_module_version": "1.5.0",
      "_model_name": "ProgressStyleModel",
      "_view_count": null,
      "_view_module": "@jupyter-widgets/base",
      "_view_module_version": "1.2.0",
      "_view_name": "StyleView",
      "bar_color": null,
      "description_width": "initial"
     }
    },
    "c8b43bc08f914132b3d3bb3ae1960db0": {
     "model_module": "@jupyter-widgets/base",
     "model_name": "LayoutModel",
     "state": {
      "_model_module": "@jupyter-widgets/base",
      "_model_module_version": "1.2.0",
      "_model_name": "LayoutModel",
      "_view_count": null,
      "_view_module": "@jupyter-widgets/base",
      "_view_module_version": "1.2.0",
      "_view_name": "LayoutView",
      "align_content": null,
      "align_items": null,
      "align_self": null,
      "border": null,
      "bottom": null,
      "display": null,
      "flex": null,
      "flex_flow": null,
      "grid_area": null,
      "grid_auto_columns": null,
      "grid_auto_flow": null,
      "grid_auto_rows": null,
      "grid_column": null,
      "grid_gap": null,
      "grid_row": null,
      "grid_template_areas": null,
      "grid_template_columns": null,
      "grid_template_rows": null,
      "height": null,
      "justify_content": null,
      "justify_items": null,
      "left": null,
      "margin": null,
      "max_height": null,
      "max_width": null,
      "min_height": null,
      "min_width": null,
      "object_fit": null,
      "object_position": null,
      "order": null,
      "overflow": null,
      "overflow_x": null,
      "overflow_y": null,
      "padding": null,
      "right": null,
      "top": null,
      "visibility": null,
      "width": null
     }
    },
    "c8f9b9b525e44dfdbd675713220a210f": {
     "model_module": "@jupyter-widgets/controls",
     "model_name": "HBoxModel",
     "state": {
      "_dom_classes": [],
      "_model_module": "@jupyter-widgets/controls",
      "_model_module_version": "1.5.0",
      "_model_name": "HBoxModel",
      "_view_count": null,
      "_view_module": "@jupyter-widgets/controls",
      "_view_module_version": "1.5.0",
      "_view_name": "HBoxView",
      "box_style": "",
      "children": [
       "IPY_MODEL_cf1cf687acd4494685d963c6867d87e3",
       "IPY_MODEL_862ecdffe598460c8705b4c05159e551"
      ],
      "layout": "IPY_MODEL_d326d4e62ea341c78d09b126ecec0315"
     }
    },
    "cf1cf687acd4494685d963c6867d87e3": {
     "model_module": "@jupyter-widgets/controls",
     "model_name": "FloatProgressModel",
     "state": {
      "_dom_classes": [],
      "_model_module": "@jupyter-widgets/controls",
      "_model_module_version": "1.5.0",
      "_model_name": "FloatProgressModel",
      "_view_count": null,
      "_view_module": "@jupyter-widgets/controls",
      "_view_module_version": "1.5.0",
      "_view_name": "ProgressView",
      "bar_style": "success",
      "description": "100%",
      "description_tooltip": null,
      "layout": "IPY_MODEL_f40f9fee85a1420591f055e31ab3a820",
      "max": 20,
      "min": 0,
      "orientation": "horizontal",
      "style": "IPY_MODEL_776ef00e70ef4e1ab7dd7c4a0e0b009e",
      "value": 20
     }
    },
    "d326d4e62ea341c78d09b126ecec0315": {
     "model_module": "@jupyter-widgets/base",
     "model_name": "LayoutModel",
     "state": {
      "_model_module": "@jupyter-widgets/base",
      "_model_module_version": "1.2.0",
      "_model_name": "LayoutModel",
      "_view_count": null,
      "_view_module": "@jupyter-widgets/base",
      "_view_module_version": "1.2.0",
      "_view_name": "LayoutView",
      "align_content": null,
      "align_items": null,
      "align_self": null,
      "border": null,
      "bottom": null,
      "display": null,
      "flex": null,
      "flex_flow": null,
      "grid_area": null,
      "grid_auto_columns": null,
      "grid_auto_flow": null,
      "grid_auto_rows": null,
      "grid_column": null,
      "grid_gap": null,
      "grid_row": null,
      "grid_template_areas": null,
      "grid_template_columns": null,
      "grid_template_rows": null,
      "height": null,
      "justify_content": null,
      "justify_items": null,
      "left": null,
      "margin": null,
      "max_height": null,
      "max_width": null,
      "min_height": null,
      "min_width": null,
      "object_fit": null,
      "object_position": null,
      "order": null,
      "overflow": null,
      "overflow_x": null,
      "overflow_y": null,
      "padding": null,
      "right": null,
      "top": null,
      "visibility": null,
      "width": null
     }
    },
    "db4c7d1f4bf1463caca66524d719e050": {
     "model_module": "@jupyter-widgets/base",
     "model_name": "LayoutModel",
     "state": {
      "_model_module": "@jupyter-widgets/base",
      "_model_module_version": "1.2.0",
      "_model_name": "LayoutModel",
      "_view_count": null,
      "_view_module": "@jupyter-widgets/base",
      "_view_module_version": "1.2.0",
      "_view_name": "LayoutView",
      "align_content": null,
      "align_items": null,
      "align_self": null,
      "border": null,
      "bottom": null,
      "display": null,
      "flex": null,
      "flex_flow": null,
      "grid_area": null,
      "grid_auto_columns": null,
      "grid_auto_flow": null,
      "grid_auto_rows": null,
      "grid_column": null,
      "grid_gap": null,
      "grid_row": null,
      "grid_template_areas": null,
      "grid_template_columns": null,
      "grid_template_rows": null,
      "height": null,
      "justify_content": null,
      "justify_items": null,
      "left": null,
      "margin": null,
      "max_height": null,
      "max_width": null,
      "min_height": null,
      "min_width": null,
      "object_fit": null,
      "object_position": null,
      "order": null,
      "overflow": null,
      "overflow_x": null,
      "overflow_y": null,
      "padding": null,
      "right": null,
      "top": null,
      "visibility": null,
      "width": null
     }
    },
    "e20e7078af6245808d479ecf6b9adc10": {
     "model_module": "@jupyter-widgets/base",
     "model_name": "LayoutModel",
     "state": {
      "_model_module": "@jupyter-widgets/base",
      "_model_module_version": "1.2.0",
      "_model_name": "LayoutModel",
      "_view_count": null,
      "_view_module": "@jupyter-widgets/base",
      "_view_module_version": "1.2.0",
      "_view_name": "LayoutView",
      "align_content": null,
      "align_items": null,
      "align_self": null,
      "border": null,
      "bottom": null,
      "display": null,
      "flex": null,
      "flex_flow": null,
      "grid_area": null,
      "grid_auto_columns": null,
      "grid_auto_flow": null,
      "grid_auto_rows": null,
      "grid_column": null,
      "grid_gap": null,
      "grid_row": null,
      "grid_template_areas": null,
      "grid_template_columns": null,
      "grid_template_rows": null,
      "height": null,
      "justify_content": null,
      "justify_items": null,
      "left": null,
      "margin": null,
      "max_height": null,
      "max_width": null,
      "min_height": null,
      "min_width": null,
      "object_fit": null,
      "object_position": null,
      "order": null,
      "overflow": null,
      "overflow_x": null,
      "overflow_y": null,
      "padding": null,
      "right": null,
      "top": null,
      "visibility": null,
      "width": null
     }
    },
    "f40f9fee85a1420591f055e31ab3a820": {
     "model_module": "@jupyter-widgets/base",
     "model_name": "LayoutModel",
     "state": {
      "_model_module": "@jupyter-widgets/base",
      "_model_module_version": "1.2.0",
      "_model_name": "LayoutModel",
      "_view_count": null,
      "_view_module": "@jupyter-widgets/base",
      "_view_module_version": "1.2.0",
      "_view_name": "LayoutView",
      "align_content": null,
      "align_items": null,
      "align_self": null,
      "border": null,
      "bottom": null,
      "display": null,
      "flex": null,
      "flex_flow": null,
      "grid_area": null,
      "grid_auto_columns": null,
      "grid_auto_flow": null,
      "grid_auto_rows": null,
      "grid_column": null,
      "grid_gap": null,
      "grid_row": null,
      "grid_template_areas": null,
      "grid_template_columns": null,
      "grid_template_rows": null,
      "height": null,
      "justify_content": null,
      "justify_items": null,
      "left": null,
      "margin": null,
      "max_height": null,
      "max_width": null,
      "min_height": null,
      "min_width": null,
      "object_fit": null,
      "object_position": null,
      "order": null,
      "overflow": null,
      "overflow_x": null,
      "overflow_y": null,
      "padding": null,
      "right": null,
      "top": null,
      "visibility": null,
      "width": null
     }
    }
   }
  }
 },
 "nbformat": 4,
 "nbformat_minor": 4
}
